{
 "cells": [
  {
   "cell_type": "markdown",
   "id": "18a819a0-322e-4d32-acd6-ea81fe8cc20f",
   "metadata": {
    "jp-MarkdownHeadingCollapsed": true,
    "tags": []
   },
   "source": [
    "### GROUP MEMBER:\n",
    "**1. Van Le:** vanle@buffalo.edu - CSE 487\n",
    "\n",
    "**2. Maria Anthony:** mariniv@buffalo.edu - CSE 587\n",
    "\n",
    "**3. Anushka:** atiwari4@buffalo.edu - CSE 587"
   ]
  },
  {
   "cell_type": "markdown",
   "id": "0fe5b248-34c2-45ed-97a3-cba108208f25",
   "metadata": {
    "tags": []
   },
   "source": [
    "# STOCK-BASED RECOMMENDATION SYSTEM "
   ]
  },
  {
   "cell_type": "markdown",
   "id": "b0fa1835-6f13-4826-adb7-4632a21e0510",
   "metadata": {
    "jp-MarkdownHeadingCollapsed": true,
    "tags": []
   },
   "source": [
    "# PHASE I - EDA"
   ]
  },
  {
   "cell_type": "markdown",
   "id": "0008925e-b316-40a1-a5f2-470ab07f0b68",
   "metadata": {
    "jp-MarkdownHeadingCollapsed": true,
    "tags": []
   },
   "source": [
    "## 1. Install and import necessary libraries:"
   ]
  },
  {
   "cell_type": "code",
   "execution_count": null,
   "id": "4b87a775-aae2-4581-b6bd-0329678b536b",
   "metadata": {},
   "outputs": [],
   "source": [
    "!pip install pmdarima\n",
    "!pip install xgboost\n",
    "! pip install graph-based-clustering \n",
    "!pip install git+https://github.com/huggingface/transformers\n",
    "!pip install transformers\n",
    "!pip install tensorflow_probability==0.12.2\n",
    "!pip install contractions\n",
    "!pip install emoji\n",
    "!pip install emoticon_fix\n",
    "!pip install -U accelerate\n",
    "!pip install -U spacy==3.*\n",
    "!python -m spacy download en_core_web_sm\n",
    "!python -m spacy info"
   ]
  },
  {
   "cell_type": "code",
   "execution_count": 1,
   "id": "ef061e05-6784-43dd-943c-c97ea8b6aefe",
   "metadata": {},
   "outputs": [],
   "source": [
    "import os, sys\n",
    "import requests\n",
    "import glob\n",
    "import datetime\n",
    "import time\n",
    "import numpy as np\n",
    "import pandas as pd\n",
    "import seaborn as sns\n",
    "import matplotlib.pyplot as plt\n",
    "import plotly.express as px\n",
    "import string\n",
    "import re\n",
    "import ta\n",
    "import itertools\n",
    "import spacy\n",
    "import emoji\n",
    "import collections\n",
    "from pyspark.sql import SparkSession\n",
    "from datetime import datetime, date\n",
    "from sklearn.preprocessing import StandardScaler, MinMaxScaler, RobustScaler\n",
    "from sklearn.decomposition import PCA\n",
    "from sklearn.model_selection import train_test_split\n",
    "from statsmodels.tsa.stattools import adfuller \n",
    "from statsmodels.tsa.arima.model import ARIMA\n",
    "from pmdarima import auto_arima\n",
    "from sklearn.preprocessing import OneHotEncoder\n",
    "from sklearn.compose import ColumnTransformer\n",
    "from sklearn.ensemble import RandomForestRegressor, StackingRegressor\n",
    "from sklearn.svm import SVR, LinearSVR\n",
    "from sklearn.preprocessing import LabelBinarizer\n",
    "from sklearn.neighbors import KNeighborsClassifier\n",
    "from sklearn.metrics.pairwise import cosine_distances\n",
    "from sklearn.metrics import RocCurveDisplay\n",
    "from sklearn.metrics import mean_squared_error, mean_absolute_error, r2_score, mean_absolute_percentage_error, confusion_matrix\n",
    "from sklearn.metrics.pairwise import linear_kernel, cosine_similarity\n",
    "from sklearn.model_selection import GridSearchCV\n",
    "from sklearn.naive_bayes import MultinomialNB\n",
    "from sklearn.feature_extraction.text import CountVectorizer\n",
    "from sklearn.feature_extraction.text import TfidfVectorizer\n",
    "from pandas.plotting import lag_plot\n",
    "# from tensorflow.keras.models import Sequential\n",
    "# from tensorflow.keras.layers import LSTM, Dense, Dropout\n",
    "import xgboost as xgb\n",
    "from xgboost import plot_importance, plot_tree\n",
    "import contractions\n",
    "import nltk\n",
    "from nltk.corpus import stopwords\n",
    "from nltk.tokenize import word_tokenize, PunktSentenceTokenizer\n",
    "from nltk.stem import PorterStemmer, SnowballStemmer, LancasterStemmer, WordNetLemmatizer\n",
    "from bs4 import BeautifulSoup\n",
    "nltk.download('stopwords', quiet=True)\n",
    "nltk.download('wordnet', quiet=True)\n",
    "nltk.download('punkt', quiet=True)\n",
    "# nltk.download('omw-1.4')\n",
    "from emoticon_fix import emoticon_fix\n",
    "from scipy.sparse import coo_matrix\n",
    "# Use a pipeline as a high-level helper\n",
    "# from transformers import pipeline\n",
    "# pipe_sentiment = pipeline(\"text-classification\", model=\"mrm8488/distilroberta-finetuned-financial-news-sentiment-analysis\")"
   ]
  },
  {
   "cell_type": "markdown",
   "id": "a923cefd-3d3a-460a-a8e6-9806403228f0",
   "metadata": {
    "tags": []
   },
   "source": [
    "## 2. Data Acquisition and Preparation:"
   ]
  },
  {
   "cell_type": "markdown",
   "id": "8c6907b4-ab82-4480-848c-5575168cdb87",
   "metadata": {
    "jp-MarkdownHeadingCollapsed": true,
    "tags": []
   },
   "source": [
    "### 2.1. NASDAQ Data Retrieval"
   ]
  },
  {
   "cell_type": "code",
   "execution_count": null,
   "id": "2ea7d55f-8e99-4daf-90d8-0067499a0b76",
   "metadata": {},
   "outputs": [],
   "source": [
    "# Read cvs file to Dataframe \n",
    "ticker_df = pd.read_csv(\"//Users//marianivethaantonypushparaj//Downloads//nasdaq_ticker_symbols.csv\").reset_index(drop=True)\n",
    "ticker_df.head()"
   ]
  },
  {
   "cell_type": "markdown",
   "id": "dfe132e0-8c9a-4b0a-a150-8df83d1b2336",
   "metadata": {
    "jp-MarkdownHeadingCollapsed": true,
    "tags": []
   },
   "source": [
    "### 2.2. Historical Stocks Data"
   ]
  },
  {
   "cell_type": "code",
   "execution_count": null,
   "id": "14e51cfc-779d-4c12-889d-85e1ecd112fb",
   "metadata": {},
   "outputs": [],
   "source": [
    "# Define the directory where your CSV files are located\n",
    "folder_path = 'Dataset//Stocks'\n",
    "\n",
    "# Initialize an empty DataFrame to store the concatenated data\n",
    "stock_df = []\n",
    "\n",
    "# Loop through all files in the directory\n",
    "for filename in os.listdir(folder_path):\n",
    "    if filename.endswith(\".us.txt\"):\n",
    "        file_path = os.path.join(folder_path, filename)\n",
    "        df = pd.read_csv(file_path, header=None, names=[\"Date\", \"Open\", \"High\", \"Low\", \"Close\", \"Volume\", \"OpenInt\"])\n",
    "        \n",
    "        # Extract the stock symbol from the file name\n",
    "        stock_ticker = filename.split(\".\")[0].upper()\n",
    "        \n",
    "        # Add a \"stock\" column with the stock symbol\n",
    "        df['Ticker'] = stock_ticker\n",
    "        \n",
    "        # Drop the first row \n",
    "        df = df.iloc[1:]\n",
    "        \n",
    "        # Append the DataFrame to the concatenated_data DataFrame\n",
    "        stock_df.append(df)\n",
    "        print(\"Finished processing\", filename)\n",
    "\n",
    "# Save the concatenated data to a new CSV file\n",
    "stock_df = pd.concat(stock_df, ignore_index=True)"
   ]
  },
  {
   "cell_type": "code",
   "execution_count": null,
   "id": "51a26db8-426f-4740-8350-16ff0e996180",
   "metadata": {},
   "outputs": [],
   "source": [
    "# Sort the DataFrame based on the 'Ticker' column\n",
    "stock_df.sort_values(by='Ticker', inplace=True)\n",
    "\n",
    "# Save the sorted data to a new CSV file\n",
    "# stock_df.to_csv('//Users//vanle//Downloads//stock_sorted.csv', index=False)\n",
    "\n",
    "merged_df = pd.read_csv(\"//Users//marianivethaantonypushparaj//Downloads//stock_sorted.csv\").reset_index(drop=True)\n",
    "\n",
    "# Merge 2 dataframes using an inner join on the 'Ticker' column\n",
    "merged_df = pd.merge(merged_df, ticker_df, left_on='Ticker', right_on='Symbol', how='inner')\n",
    "\n",
    "# Drop the duplicate 'Ticker' column \n",
    "merged_df.drop(columns=['Symbol'], inplace=True)\n",
    "\n",
    "# Drop the 'Volume_x' column\n",
    "merged_df.drop(columns=['Volume_y'], inplace=True)\n",
    "\n",
    "# Rename the 'Volume_y' column to 'Volume'\n",
    "merged_df.rename(columns={'Volume_x': 'Volume'}, inplace=True)\n",
    "merged_df"
   ]
  },
  {
   "cell_type": "markdown",
   "id": "95bc1195-ad97-480a-8a51-e1c4a018e56d",
   "metadata": {
    "tags": []
   },
   "source": [
    "### 2.3. Exploratory Data Analysis"
   ]
  },
  {
   "cell_type": "markdown",
   "id": "275c6604-081d-4db8-9e36-7a5757e71f96",
   "metadata": {
    "jp-MarkdownHeadingCollapsed": true,
    "tags": []
   },
   "source": [
    "#### 2.3.1. Data Cleaning"
   ]
  },
  {
   "cell_type": "code",
   "execution_count": null,
   "id": "c3cc63f6-03bf-445a-aa15-29ac2e2b3cff",
   "metadata": {},
   "outputs": [],
   "source": [
    "# Check the Uniqueness of 'OpenInt' Column\n",
    "merged_df['OpenInt'].nunique()\n",
    "\n",
    "# Drop 'OpenInt' and 'IPO Year' column since it has no contribution in our data\n",
    "merged_df = merged_df.drop(['OpenInt'], axis=1)\n",
    "\n",
    "# Remove duplicate rows\n",
    "merged_df=merged_df.drop_duplicates(subset=['Open', 'High', 'Low', 'Close','Volume'], keep='last')\n",
    "\n",
    "# Convert 'Date' column to datetime format\n",
    "merged_df['Date'] = pd.to_datetime(merged_df['Date'])\n",
    "\n",
    "# Check for missing values\n",
    "missing_values = merged_df.isnull().sum()\n",
    "print(\"Missing Values:\\n\", missing_values)\n",
    "\n",
    "# Fill NaN values in these column: 'Country', 'Sector', 'Industry'  with 'Other'\n",
    "merged_df[['Country', 'Sector', 'Industry']] = merged_df[['Country', 'Sector', 'Industry']].fillna('Other')"
   ]
  },
  {
   "cell_type": "code",
   "execution_count": null,
   "id": "c15f354a-d482-4ca6-a1cb-21f9a45aa41f",
   "metadata": {},
   "outputs": [],
   "source": [
    "# Check Data Types of Each Column\n",
    "merged_df.dtypes"
   ]
  },
  {
   "cell_type": "code",
   "execution_count": null,
   "id": "0b3a7a2d-16f7-4ae8-8f54-693bb12d25fa",
   "metadata": {},
   "outputs": [],
   "source": [
    "# Convert 'Open', 'High', 'Low', 'Close', 'Last Sale' columns to float\n",
    "merged_df['Open'] = merged_df['Open'].astype(str).str.replace('$', '').astype(float)\n",
    "merged_df['High'] = merged_df['High'].astype(str).str.replace('$', '').astype(float)\n",
    "merged_df['Low'] = merged_df['Low'].astype(str).str.replace('$', '').astype(float)\n",
    "merged_df['Close'] = merged_df['Close'].astype(str).str.replace('$', '').astype(float)\n",
    "merged_df['Last Sale'] = merged_df['Last Sale'].astype(str).str.replace('$', '').astype(float)\n",
    "\n",
    "# Convert 'Volume' column to integer (remove commas)\n",
    "merged_df['Volume'] = merged_df['Volume'].astype(str).str.replace(',', '').astype(int)\n",
    "\n",
    "# Convert '% Change' column to float, remove '%' and handle missing values\n",
    "merged_df['% Change'] = merged_df['% Change'].astype(str).str.replace('%', '')\n",
    "merged_df['% Change'] = pd.to_numeric(merged_df['% Change'], errors='coerce')\n",
    "\n",
    "# Arranging the companies based on Date\n",
    "merged_df = merged_df.sort_values(['Ticker','Date']).reset_index()"
   ]
  },
  {
   "cell_type": "code",
   "execution_count": null,
   "id": "b1650542-e38c-4480-9beb-8139ec95fc0e",
   "metadata": {},
   "outputs": [],
   "source": [
    "# Calculate Percentage Change in 'Volume'\n",
    "merged_df['Volume change'] = merged_df['Volume'].pct_change() * 100\n",
    "\n",
    "# Finding largest values of volume column\n",
    "comp_volume = merged_df.groupby('Name')['Volume'].sum()\n",
    "comp_volume.nlargest(10)\n",
    "comp_volume = pd.DataFrame(comp_volume)\n",
    "comp_volume = comp_volume.reset_index()\n",
    "\n",
    "# Dropping the data of those companies because if it shows infinity or o\n",
    "for i in range(0,len(comp_volume)):\n",
    "    if comp_volume['Volume'][i]=='inf' or comp_volume['Volume'][i]<=0:\n",
    "        merged_df=merged_df.drop(merged_df[merged_df['Name'] == comp_volume['Name'][i]].index)"
   ]
  },
  {
   "cell_type": "code",
   "execution_count": null,
   "id": "23b707a7-6db7-439f-9d26-21b35afa36e7",
   "metadata": {},
   "outputs": [],
   "source": [
    "#Checking if any outliers in Open,High,Low and Close as price cant be negative or 0\n",
    "merged_df = merged_df.drop(merged_df[merged_df['Open'] <=0].index)\n",
    "merged_df = merged_df.drop(merged_df[merged_df['High'] <=0].index)\n",
    "merged_df = merged_df.drop(merged_df[merged_df['Low'] <=0].index)\n",
    "merged_df = merged_df.drop(merged_df[merged_df['Close'] <=0].index)\n",
    "merged_df = merged_df.drop(merged_df[merged_df['Last Sale'] <=0].index)"
   ]
  },
  {
   "cell_type": "markdown",
   "id": "339b0807-2a72-4613-b291-d5cec27e727f",
   "metadata": {
    "tags": []
   },
   "source": [
    "#### 2.3.2. EDA"
   ]
  },
  {
   "cell_type": "markdown",
   "id": "4b5e39ef-e93e-4dce-84dc-8a0e8e92b0d6",
   "metadata": {
    "tags": []
   },
   "source": [
    "##### Sector and Industry Breakdown of Company Data"
   ]
  },
  {
   "cell_type": "code",
   "execution_count": null,
   "id": "1dd47a1c-061a-41b7-ba24-6fabf61d7157",
   "metadata": {},
   "outputs": [],
   "source": [
    "# Sector and Industry Analysis\n",
    "sector_counts = ticker_df['Sector'].value_counts()\n",
    "industry_counts = ticker_df['Industry'].value_counts()\n",
    "\n",
    "# Plot the histogram of company sectors and industries \n",
    "plt.figure(figsize=(16, 6))\n",
    "plt.subplot(1, 2, 1)\n",
    "sector_counts.plot(kind='bar')\n",
    "plt.title('Fig 1. Number of Companies by Sector', fontsize=15)\n",
    "plt.ylabel('Sector counts')\n",
    "plt.xlabel('Industries')\n",
    "\n",
    "plt.subplot(1, 2, 2)\n",
    "industry_counts.head(10).plot(kind='bar')\n",
    "plt.title('Fig 2. Top 10 Industries by Company Count', fontsize=15)\n",
    "plt.xlabel('Industries')\n",
    "plt.ylabel('No. of industries based on count')\n",
    "plt.show()"
   ]
  },
  {
   "cell_type": "markdown",
   "id": "b327937b-e44f-4465-acb8-aecca75811bc",
   "metadata": {
    "tags": []
   },
   "source": [
    "##### Relative contribution of each country in stock markets"
   ]
  },
  {
   "cell_type": "code",
   "execution_count": null,
   "id": "aaf24b49-445b-4507-aa4f-191d6a1f4ee1",
   "metadata": {},
   "outputs": [],
   "source": [
    "# Country Analysis\n",
    "# Count the occurrences of each country in 'Country'\n",
    "country_counts = ticker_df['Country'].value_counts().head(10)\n",
    "\n",
    "# Plot a pie chart of the top 10 countries\n",
    "plt.figure(figsize=(12, 10))\n",
    "country_counts.plot(kind='pie', autopct='%1.2f%%')\n",
    "plt.title('Fig 3. Distribution of Top 10 Countries with many companies', fontsize=15)\n",
    "plt.ylabel('Country', fontsize=14)\n",
    "plt.legend()\n",
    "plt.show()"
   ]
  },
  {
   "cell_type": "code",
   "execution_count": null,
   "id": "2b4cb78c-29d0-4bf6-bbca-054d4ae2bb08",
   "metadata": {},
   "outputs": [],
   "source": [
    "# Plot a pie chart of the countries excluding the top 10\n",
    "plt.figure(figsize=(12,10))\n",
    "drop_catgs = ['United States','Canada','China','Israel','United Kingdom','Bermuda','Singapore','Hong Kong','Cayman Islands','Greece']\n",
    "country_counts1=(merged_df['Country'].value_counts()).drop(drop_catgs)\n",
    "country_counts1.plot(kind='pie')\n",
    "plt.title('Fig 4. Distribution of Companies by Country without Top 10 countries', fontsize=15)\n",
    "plt.ylabel('Country', fontsize=14)\n",
    "plt.show()"
   ]
  },
  {
   "cell_type": "markdown",
   "id": "f57a66db-265e-4d4f-a4ec-a65d4403670c",
   "metadata": {
    "jp-MarkdownHeadingCollapsed": true,
    "tags": []
   },
   "source": [
    "##### Identify relationships between these variables using correlation matrix"
   ]
  },
  {
   "cell_type": "code",
   "execution_count": null,
   "id": "b042e695-8e45-4959-99a3-07b2f407e4c0",
   "metadata": {},
   "outputs": [],
   "source": [
    "# Correlation Matrix\n",
    "plt.figure(figsize=(16, 10))\n",
    "plt.title('Fig 5. Correlation matrix of historical and current market information', fontsize=15)\n",
    "correlation_matrix = merged_df.corr()\n",
    "sns.heatmap(correlation_matrix, annot=True, cmap='coolwarm')\n",
    "plt.show()"
   ]
  },
  {
   "cell_type": "markdown",
   "id": "6f0861b4-75ab-4c33-9270-cbfb623d2d73",
   "metadata": {
    "jp-MarkdownHeadingCollapsed": true,
    "tags": []
   },
   "source": [
    "##### Exploring Market Cap Variation and Distribution"
   ]
  },
  {
   "cell_type": "code",
   "execution_count": null,
   "id": "27969f9b-c2fc-4105-9de0-ef536df609a2",
   "metadata": {},
   "outputs": [],
   "source": [
    "# Market Cap by Sectors\n",
    "plt.figure(figsize=(20, 6))\n",
    "palette = sns.color_palette('tab10')\n",
    "sns.boxplot(x='Sector', y='Market Cap', data=merged_df, palette=palette)\n",
    "plt.title('Fig 6. Market Cap by Sector', fontsize=15)\n",
    "plt.xlabel('Sector', fontsize=14)\n",
    "plt.ylabel('Market Cap', fontsize=14)\n",
    "plt.show()"
   ]
  },
  {
   "cell_type": "markdown",
   "id": "f1078bae-1abc-451b-9dba-4b5f582f8934",
   "metadata": {
    "jp-MarkdownHeadingCollapsed": true,
    "tags": []
   },
   "source": [
    "##### Analyze market cap quartiles"
   ]
  },
  {
   "cell_type": "code",
   "execution_count": null,
   "id": "22a6d91a-aeb6-4867-986c-3da504b6f715",
   "metadata": {},
   "outputs": [],
   "source": [
    "# Define the number of quartiles\n",
    "num_quantiles = 4 \n",
    "\n",
    "# Calculate the quartile values for market cap\n",
    "quartiles = merged_df['Market Cap'].quantile([0, 0.25, 0.5, 0.75, 1])\n",
    "\n",
    "# Create masks for each quartile\n",
    "mask_1st_quartile = (merged_df['Market Cap'] >= quartiles[0]) & (merged_df['Market Cap'] <= quartiles[0.25])\n",
    "mask_2nd_quartile = (merged_df['Market Cap'] > quartiles[0.25]) & (merged_df['Market Cap'] <= quartiles[0.5])\n",
    "mask_3rd_quartile = (merged_df['Market Cap'] > quartiles[0.5]) & (merged_df['Market Cap'] <= quartiles[0.75])\n",
    "mask_4th_quartile = (merged_df['Market Cap'] > quartiles[0.75])\n",
    "\n",
    "# Create DataFrames for each quartile\n",
    "quartile_1 = merged_df[mask_1st_quartile]\n",
    "quartile_2 = merged_df[mask_2nd_quartile]\n",
    "quartile_3 = merged_df[mask_3rd_quartile]\n",
    "quartile_4 = merged_df[mask_4th_quartile]\n",
    "\n",
    "# Descriptive statistic for market cap quartiles\n",
    "quartile_1.describe()\n",
    "quartile_2.describe()\n",
    "quartile_3.describe()\n",
    "quartile_4.describe()"
   ]
  },
  {
   "cell_type": "markdown",
   "id": "96163961-2949-4385-9133-6fd9b185589e",
   "metadata": {
    "jp-MarkdownHeadingCollapsed": true,
    "tags": []
   },
   "source": [
    "##### Understanding Trading Volume Dynamics by Sector"
   ]
  },
  {
   "cell_type": "code",
   "execution_count": null,
   "id": "cb974d09-b156-4491-8899-c1cb01ece0fc",
   "metadata": {},
   "outputs": [],
   "source": [
    "# Trading Volume Analysis\n",
    "plt.figure(figsize=(20, 6))\n",
    "palette = sns.color_palette(\"husl\", 8)\n",
    "sns.boxplot(x='Sector', y='Volume', data=merged_df)\n",
    "plt.title('Fig 7. Trading Volume by Sector', fontsize=15)\n",
    "plt.show()"
   ]
  },
  {
   "cell_type": "markdown",
   "id": "93ca9db8-66ca-4f7a-aa5c-5525ef30e137",
   "metadata": {
    "jp-MarkdownHeadingCollapsed": true,
    "tags": []
   },
   "source": [
    "##### Calculate trading volume statistics by sector"
   ]
  },
  {
   "cell_type": "code",
   "execution_count": null,
   "id": "330984cd-a6e5-4e0d-b249-b3b3a95b8f65",
   "metadata": {},
   "outputs": [],
   "source": [
    "# Calculate trading volume statistics by sector\n",
    "volume_stats = merged_df.groupby('Sector')['Volume'].describe()\n",
    "print(volume_stats)"
   ]
  },
  {
   "cell_type": "code",
   "execution_count": null,
   "id": "bc45938e-ce8c-420b-ab33-55b04bda5f1b",
   "metadata": {},
   "outputs": [],
   "source": [
    "# Create a box plot to visualize trading volume distribution by sector\n",
    "plt.figure(figsize=(12, 8))\n",
    "sns.boxplot(x='Sector', y='Volume', data=merged_df, order=volume_stats.index, palette='Set3')\n",
    "plt.title('Fig 8. Trading Volume Distribution by Sector', fontsize=15)\n",
    "plt.xlabel('Sector', fontsize=14)\n",
    "plt.ylabel('Trading Volume', fontsize=14)\n",
    "plt.xticks(rotation=45)\n",
    "plt.show()"
   ]
  },
  {
   "cell_type": "markdown",
   "id": "7445c1bc-0f38-44d1-8ccf-b52c023ca1fe",
   "metadata": {
    "jp-MarkdownHeadingCollapsed": true,
    "tags": []
   },
   "source": [
    "##### Correlation matrix to analyze relationships between trading volume and other variables"
   ]
  },
  {
   "cell_type": "code",
   "execution_count": null,
   "id": "407c0324-bd4f-49f4-b140-e49da2d32492",
   "metadata": {},
   "outputs": [],
   "source": [
    "# Correlation matrix to analyze relationships between trading volume and other variables\n",
    "correlation_matrix = merged_df.corr()\n",
    "plt.figure(figsize=(8, 6))\n",
    "sns.heatmap(correlation_matrix[['Volume']], annot=True, cmap='coolwarm')\n",
    "plt.title('Fig 9. Correlation of Trading Volume with Other Variables', fontsize=15)\n",
    "plt.show()"
   ]
  },
  {
   "cell_type": "markdown",
   "id": "0defe539-f8bd-4c17-b56e-2303d3087a8b",
   "metadata": {
    "jp-MarkdownHeadingCollapsed": true,
    "tags": []
   },
   "source": [
    "##### Time-series plot for sample stock"
   ]
  },
  {
   "cell_type": "code",
   "execution_count": null,
   "id": "a1584236-b207-4fc3-8cf3-169a9710e5d8",
   "metadata": {},
   "outputs": [],
   "source": [
    "# Filter the data for AAPL stock\n",
    "aapl_df = merged_df[merged_df['Ticker'] == 'AAPL']\n",
    "# 'Date' as the index \n",
    "aapl_df.set_index('Date', inplace=True)\n",
    "# Plotting the closing prices\n",
    "plt.figure(figsize=(12, 6))\n",
    "sns.set_style('ticks')\n",
    "sns.lineplot(data=aapl_df, x='Date', y='Close', color='firebrick')\n",
    "sns.despine()\n",
    "plt.title('Fig 10. The AAPL Stock Close Price Over Time', size='x-large')\n",
    "plt.show()"
   ]
  },
  {
   "cell_type": "markdown",
   "id": "b430cf41-edc0-42c0-883a-73064f7e9336",
   "metadata": {
    "jp-MarkdownHeadingCollapsed": true,
    "tags": []
   },
   "source": [
    "##### Finding top 5 companies performance stocks based on last sale value"
   ]
  },
  {
   "cell_type": "code",
   "execution_count": null,
   "id": "523bcb89-0e01-4967-9e8c-ca1e51ce7f57",
   "metadata": {},
   "outputs": [],
   "source": [
    "# Find the names of the top 5 companies based on 'Last Sale' values \n",
    "top5 = merged_df['Last Sale'].unique()\n",
    "top5_price = sorted(top5, reverse=True)[:5]\n",
    "top5_price"
   ]
  },
  {
   "cell_type": "code",
   "execution_count": null,
   "id": "f7ddffd8-5519-4c1f-9ba5-8ba84f825ea9",
   "metadata": {},
   "outputs": [],
   "source": [
    "# Append top 5 companies to the top_companies list\n",
    "top_companies = []\n",
    "top_companies.append(merged_df[merged_df['Last Sale'] == 5888.47]['Name'])\n",
    "top_companies.append(merged_df[merged_df['Last Sale'] == 3780.66]['Name'])\n",
    "top_companies.append(merged_df[merged_df['Last Sale'] == 2530.76]['Name'])\n",
    "top_companies.append(merged_df[merged_df['Last Sale'] == 1870.47]['Name'])\n",
    "top_companies.append(merged_df[merged_df['Last Sale'] == 1866.01]['Name'])\n",
    "top_companies"
   ]
  },
  {
   "cell_type": "code",
   "execution_count": null,
   "id": "33249be6-fc8f-4d8d-ac62-653cfc2c0d1c",
   "metadata": {},
   "outputs": [],
   "source": [
    "# Plot top 5 companies stock prices\n",
    "Top1_df = merged_df[merged_df['Name'] == 'NVR Inc. Common Stock']\n",
    "Top2_df = merged_df[merged_df['Name'] == 'Seaboard Corporation Common Stock']\n",
    "Top3_df = merged_df[merged_df['Name'] == 'AutoZone Inc. Common Stock']\n",
    "Top4_df = merged_df[merged_df['Name'] == 'Texas Pacific Land Corporation Common Stock']\n",
    "Top5_df = merged_df[merged_df['Name'] == 'Chipotle Mexican Grill Inc. Common Stock']\n",
    "\n",
    "plt.figure(figsize=(14,6))\n",
    "sns.set_style(\"ticks\")\n",
    "sns.lineplot(data=Top1_df,x=\"Date\",y='Close',color='firebrick',label='NVR Inc. Common Stock')\n",
    "sns.lineplot(data=Top2_df,x=\"Date\",y='Close',color='k',label='Seaboard Corporation Common Stock')\n",
    "sns.lineplot(data=Top3_df,x=\"Date\",y='Close',color='y',label='AutoZone Inc. Common Stock')\n",
    "sns.lineplot(data=Top4_df,x=\"Date\",y='Close',color='purple',label='Texas Pacific Land Corporation Common Stock')\n",
    "sns.lineplot(data=Top5_df,x=\"Date\",y='Close',color='g',label='Chipotle Mexican Grill Inc. Common Stock')\n",
    "sns.despine()\n",
    "plt.title(\"Fig 11. The Stock Price Graph for Top 5 biggest Last sale companies all over the world\",size='x-large',color='blue')"
   ]
  },
  {
   "cell_type": "markdown",
   "id": "b4b79618-b7dc-41fb-a9ca-f25861cb917e",
   "metadata": {
    "jp-MarkdownHeadingCollapsed": true,
    "tags": []
   },
   "source": [
    "##### Finding the worst 5 companies performance stock based on last sale value"
   ]
  },
  {
   "cell_type": "code",
   "execution_count": null,
   "id": "797df121-2aae-4e98-a4a8-e1be01c6ba98",
   "metadata": {},
   "outputs": [],
   "source": [
    "# Find worst performance companies based on sales\n",
    "worst5= merged_df['Last Sale'].unique()\n",
    "worst_price = sorted(worst5)[:5]\n",
    "worst_price"
   ]
  },
  {
   "cell_type": "code",
   "execution_count": null,
   "id": "f1e70f52-46ec-43a8-8f42-bf9820540ad5",
   "metadata": {},
   "outputs": [],
   "source": [
    "low_perf = []\n",
    "low_perf.append(merged_df[merged_df['Last Sale'] == 0.01]['Name'])\n",
    "low_perf.append(merged_df[merged_df['Last Sale'] == 0.0401]['Name'])\n",
    "low_perf.append(merged_df[merged_df['Last Sale'] == 0.05]['Name'])\n",
    "low_perf.append(merged_df[merged_df['Last Sale'] == 0.0588]['Name'])\n",
    "low_perf.append(merged_df[merged_df['Last Sale'] == 0.09]['Name'])\n",
    "low_perf"
   ]
  },
  {
   "cell_type": "code",
   "execution_count": null,
   "id": "d0452f29-b672-41be-a0bd-449f0173734f",
   "metadata": {},
   "outputs": [],
   "source": [
    "# Plot the worst companies \n",
    "Low1_df = merged_df[merged_df['Name'] == 'Global Partner Acquisition Corp II Warrant']\n",
    "Low2_df = merged_df[merged_df['Name'] == 'Crixus BH3 Acquisition Company Warrants']\n",
    "Low3_df = merged_df[merged_df['Name'] == 'Rose Hill Acquisition Corporation Warrant']\n",
    "Low4_df = merged_df[merged_df['Name'] == 'Oxbridge Re Holdings Limited Warrant expiring']\n",
    "Low5_df = merged_df[merged_df['Name'] == 'Polished Inc. Common Stock']\n",
    "\n",
    "plt.figure(figsize=(14,5))\n",
    "sns.set_style(\"ticks\")\n",
    "sns.lineplot(data=Low1_df,x=\"Date\",y='Close',color='firebrick',label='Global Partner Acquisition Corp II Warrant')\n",
    "sns.lineplot(data=Low2_df,x=\"Date\",y='Close',color='k',label='Crixus BH3 Acquisition Company Warrants')\n",
    "sns.lineplot(data=Low3_df,x=\"Date\",y='Close',color='y',label='Rose Hill Acquisition Corporation Warrant')\n",
    "sns.lineplot(data=Low4_df,x=\"Date\",y='Close',color='purple',label='Oxbridge Re Holdings Limited Warrant expiring')\n",
    "sns.lineplot(data=Low5_df,x=\"Date\",y='Close',color='g',label='Polished Inc. Common Stock')\n",
    "sns.despine()\n",
    "plt.title(\"Fig 12. The Stock Price Graph for Least 5 Last sale value companies all over the world\",size='x-large',color='blue')"
   ]
  },
  {
   "cell_type": "markdown",
   "id": "ad4ee45a-39dd-4a7f-ac01-2d0f7661f5b7",
   "metadata": {},
   "source": [
    "We can find that the dates for the first 4 and the last are unmatched"
   ]
  },
  {
   "cell_type": "code",
   "execution_count": null,
   "id": "26aa1b45-2a16-47c8-bb57-b0122cf0aecc",
   "metadata": {},
   "outputs": [],
   "source": [
    "Least1_df = merged_df[merged_df['Name'] == 'Global Partner Acquisition Corp II Warrant']\n",
    "Least2_df = merged_df[merged_df['Name'] == 'Crixus BH3 Acquisition Company Warrants']\n",
    "Least3_df = merged_df[merged_df['Name'] == 'Rose Hill Acquisition Corporation Warrant']\n",
    "Least4_df = merged_df[merged_df['Name'] == 'Oxbridge Re Holdings Limited Warrant expiring']\n",
    "\n",
    "plt.figure(figsize=(14,5))\n",
    "sns.set_style(\"ticks\")\n",
    "sns.lineplot(data=Least2_df,x=\"Date\",y='Close',color='k',label='Crixus BH3 Acquisition Company Warrants')\n",
    "sns.lineplot(data=Least3_df,x=\"Date\",y='Close',color='y',label='Rose Hill Acquisition Corporation Warrant')\n",
    "sns.lineplot(data=Least4_df,x=\"Date\",y='Close',color='purple',label='Oxbridge Re Holdings Limited Warrant expiring')\n",
    "sns.lineplot(data=Least1_df,x=\"Date\",y='Close',color='g',label='Global Partner Acquisition Corp II Warrant')\n",
    "sns.despine()\n",
    "plt.title(\"The Stock Price Graph for Least 4 Last sale value companies all over the world\",size='x-large',color='blue')"
   ]
  },
  {
   "cell_type": "markdown",
   "id": "9f29877c-1f39-4437-8862-58487796cd65",
   "metadata": {
    "tags": []
   },
   "source": [
    "## 3. Feature Selection and Engineer:"
   ]
  },
  {
   "cell_type": "markdown",
   "id": "11496340-cbeb-4fe8-835f-90eb1a6c99fd",
   "metadata": {},
   "source": [
    " The most common way used to predict stock price movement is technical analysis. It forecasts the development of stock prices through an analysis of historical market data to identify the movement direction of stock prices and turning points in the time series. Different types of technical in- dicators, such as stochastic oscillator, moving averages, and relative strength index (RSI), are used in prediction models, and the effectiveness of these input features for future stock market forecasting is studied."
   ]
  },
  {
   "cell_type": "markdown",
   "id": "c963cfd1-44c8-4a99-b5fc-eb432fb52cc4",
   "metadata": {
    "jp-MarkdownHeadingCollapsed": true,
    "tags": []
   },
   "source": [
    "### 3.1. Market Indicators"
   ]
  },
  {
   "cell_type": "markdown",
   "id": "78d5ec9a-a6c2-4c7c-9e0c-4ddecd76ef27",
   "metadata": {},
   "source": [
    "Apart from price features and volume, we choose technical indicators that give an indication of the trend, momentum, or volatility of the stock which also includes candlestick patterns, and strategy features. And, we derived them from raw data to feed them to the models.\n",
    "\n",
    "**1. Overlap Indicators:** \n",
    "- Simple Moving Average (SMA)\n",
    "- Exponential Moving Average (EMA)\n",
    "- Kaufman's Adaptive Moving Average (KAMA)\n",
    "\n",
    "**2. Momentum indicators:** \n",
    "- Average Directional Movement Index (ADX)\n",
    "- Moving Average Convergence/Divergence (MACD)\n",
    "- Money Flow Index\n",
    "- Momentum\n",
    "- Relative Strength Index (RSI)\n",
    "- Stochastic oscillator\n",
    "- Rate of Change (ROC)\n",
    "\n",
    "**3. Volume Indicators:** \n",
    "- Chaikin A/D Line (AD)\n",
    "- Chaikin Oscillator\n",
    "- On Balance Volume (OBV)\n",
    "\n",
    "**4. Volatility Indicators:** \n",
    "- Average True Range (ATR) \n",
    "- Normalized Average True Range\n",
    "- Bollinger Bands\n",
    "- Ichimoku Cloud"
   ]
  },
  {
   "cell_type": "code",
   "execution_count": null,
   "id": "5bbdf3fd-4842-415d-a317-51810d91e4d4",
   "metadata": {},
   "outputs": [],
   "source": [
    "# Define the window values for all technical indicators\n",
    "window=14\n",
    "\n",
    "# Calculate Simple Moving Average (SMA)\n",
    "sma = ta.trend.SMAIndicator(merged_df['Close'], window=window, fillna=True)\n",
    "merged_df['SMA'] = sma.sma_indicator()\n",
    "\n",
    "# Calculate Kaufman's Adaptive Moving Average (KAMA)\n",
    "kama = ta.momentum.KAMAIndicator(merged_df['Close'], window=window, pow1=2, pow2=30, fillna=True)\n",
    "merged_df['KAMA'] = kama.kama()\n",
    "\n",
    "# Calculate Exponential Moving Average (EMA)\n",
    "ema = ta.trend.EMAIndicator(merged_df['Close'], window=window, fillna=True)\n",
    "merged_df['EMA'] = ema.ema_indicator()\n",
    "\n",
    "# Calculate the Directional Movement Index (ADX)\n",
    "adx = ta.trend.ADXIndicator(merged_df['High'], merged_df['Low'], merged_df['Close'], window, fillna=True)\n",
    "merged_df['ADX'] = adx.adx()\n",
    "\n",
    "# Calculate Moving Average Convergence/Divergence (MACD)\n",
    "fast_window = 12  \n",
    "slow_window = 26  \n",
    "signal_window = 9  \n",
    "macd = ta.trend.MACD(merged_df['Close'], fast_window, slow_window, signal_window)\n",
    "merged_df['MACD'] = macd.macd()  \n",
    "merged_df['MACD Signal Line'] = macd.macd_signal()   \n",
    "\n",
    "# # Calculate Money Flow Index (MFI)\n",
    "mfi = ta.momentum.MFIIndicator(merged_df['High'], merged_df['Low'], merged_df['Close'], merged_df['Volume'], window=window, fillna=False)\n",
    "merged_df['MFI'] = mfi\n",
    "\n",
    "# Calculate MomentumIndicator\n",
    "momentum = ta.momentum.MomentumIndicator(merged_df['Close'], window=window, fillna=True)\n",
    "merged_df['Momentum'] = momentum.momentum()\n",
    "merged_df['Momentum_Signal'] = momentum.momentum_diff()\n",
    "\n",
    "# Calculate Relative Strength Index (RSI)\n",
    "rsi = RSIIndicator(merged_df['Close'], window=window, fillna=True)\n",
    "merged_df['RSI'] = rsi.rsi()\n",
    "\n",
    "# Calculate Stochastic Oscillator\n",
    "stoch = StochasticOscillator(merged_df['High'], merged_df['Low'], merged_df['Close'], window=window)\n",
    "merged_df['%K'] = stoch.stoch()\n",
    "merged_df['%D'] = stoch.stoch_signal()\n",
    "\n",
    "# Calculate Chaikin A/D Line (AD)\n",
    "chaikin_ad = ta.volume.ChaikinADIndicator(high=merged_df['High'],low=merged_df['Low'], close=merged_df['Close'], volume=merged_df['Volume'])\n",
    "merged_df['Chaikin_AD'] = chaikin_ad.ad()\n",
    "merged_df['Chaikin_ADOsc'] = chaikin_ad.ad_osc()\n",
    "\n",
    "# Calculate On-Balance Volume (OBV)\n",
    "obv = OnBalanceVolumeIndicator(merged_df['Close'], merged_df['Volume'])\n",
    "merged_df['OBV'] = obv.on_balance_volume()\n",
    "\n",
    "# Calculate Ichimoku Cloud\n",
    "ichimoku = ta.trend.IchimokuIndicator(high=merged_df['High'],\n",
    "                                      low=merged_df['Low'],\n",
    "                                      close=merged_df['Close'],\n",
    "                                      window1=9, window2=26, window3=52) \n",
    "merged_df['tenkan_sen'] = ichimoku.ichimoku_a()\n",
    "merged_df['kijun_sen'] = ichimoku.ichimoku_b()\n",
    "merged_df['senkou_span_a'] = ichimoku.ichimoku_a()\n",
    "merged_df['senkou_span_b'] = ichimoku.ichimoku_b()\n",
    "\n",
    "# Calculate Rate of Change (ROC)\n",
    "roc = ROCIndicator(merged_df['Close'], window=window)\n",
    "merged_df['ROC'] = roc.roc()\n",
    "\n",
    "# Calculate Average True Range (ATR)\n",
    "atr = AverageTrueRange(merged_df['High'], merged_df['Low'], merged_df['Close'], window=window)\n",
    "merged_df['ATR'] = atr.average_true_range()\n",
    "\n",
    "# Calculate Normalized Average True Range \n",
    "merged_df['Normalized_ATR'] = (merged_df['ATR'] / merged_df['Close']) * 100\n",
    "\n",
    "# Calculate Bollinger Bands\n",
    "bollinger_bands = ta.volatility.BollingerBands(merged_df['Close'], window=window, window_dev=2)\n",
    "merged_df['Bollinger_Bands_Middle'] = bollinger_bands.bollinger_mavg()\n",
    "merged_df['Bollinger_Bands_Upper'] = bollinger_bands.bollinger_hband()\n",
    "merged_df['Bollinger_Bands_Lower'] = bollinger_bands.bollinger_lband()"
   ]
  },
  {
   "cell_type": "code",
   "execution_count": null,
   "id": "6ed596dc-18a9-4c7d-b108-b2058742188e",
   "metadata": {},
   "outputs": [],
   "source": [
    "merged_df = merged_df.dropna()\n",
    "merged_df"
   ]
  },
  {
   "cell_type": "markdown",
   "id": "f65cc335-60ba-4ed1-8b6a-cb3e3393fb5a",
   "metadata": {
    "jp-MarkdownHeadingCollapsed": true,
    "tags": []
   },
   "source": [
    "### 3.2. PCA"
   ]
  },
  {
   "cell_type": "code",
   "execution_count": null,
   "id": "f183f985-b1a5-4631-80c3-47dd6c5c8acf",
   "metadata": {},
   "outputs": [],
   "source": [
    "# Select the columns for PCA\n",
    "columns_for_pca = ['Open', 'High', 'Low', 'Close', 'Volume', 'Market Cap']\n",
    "data_for_pca = merged_df[columns_for_pca]\n",
    "# Standardize the data\n",
    "scaler = StandardScaler()\n",
    "scaled_data = scaler.fit_transform(data_for_pca)\n",
    "# Create a PCA model with 10 components \n",
    "num_components = 10\n",
    "pca = PCA(n_components=num_components)\n",
    "pca.fit(scaled_data)\n",
    "pca_result = pca.transform(scaled_data)\n",
    "\n",
    "# Create a DataFrame to store the PCA results\n",
    "pca_df = pd.DataFrame(data=pca_result, columns=[f'PC{i + 1}' for i in range(num_components)])\n",
    "# Concatenate the PCA results with `merged_df`\n",
    "final_df = pd.concat([merged_df, pca_df], axis=1)"
   ]
  },
  {
   "cell_type": "code",
   "execution_count": null,
   "id": "08b3f635-1560-46c2-abe8-feaa5f087b06",
   "metadata": {},
   "outputs": [],
   "source": [
    "# Explained variance ratio to understand the importance of each component.\n",
    "explained_variance = pca.explained_variance_ratio_\n",
    "print(\"Explained Variance Ratio:\", explained_variance)"
   ]
  },
  {
   "cell_type": "markdown",
   "id": "10a502aa-68e5-462b-b298-67f104e4bdac",
   "metadata": {
    "jp-MarkdownHeadingCollapsed": true,
    "tags": []
   },
   "source": [
    "# PHASE II  -  MODEL DEVELOPMENT"
   ]
  },
  {
   "cell_type": "markdown",
   "id": "ea2f4cc0-c614-4b58-a6b9-839843874ca0",
   "metadata": {
    "jp-MarkdownHeadingCollapsed": true,
    "tags": []
   },
   "source": [
    "#### Read the csv file we have from the Phase I"
   ]
  },
  {
   "cell_type": "code",
   "execution_count": 2,
   "id": "3db48aa0-d003-4bd3-b77c-000e738abb09",
   "metadata": {},
   "outputs": [
    {
     "data": {
      "text/html": [
       "<div>\n",
       "<style scoped>\n",
       "    .dataframe tbody tr th:only-of-type {\n",
       "        vertical-align: middle;\n",
       "    }\n",
       "\n",
       "    .dataframe tbody tr th {\n",
       "        vertical-align: top;\n",
       "    }\n",
       "\n",
       "    .dataframe thead th {\n",
       "        text-align: right;\n",
       "    }\n",
       "</style>\n",
       "<table border=\"1\" class=\"dataframe\">\n",
       "  <thead>\n",
       "    <tr style=\"text-align: right;\">\n",
       "      <th></th>\n",
       "      <th>index</th>\n",
       "      <th>Date</th>\n",
       "      <th>Open</th>\n",
       "      <th>High</th>\n",
       "      <th>Low</th>\n",
       "      <th>Close</th>\n",
       "      <th>Volume</th>\n",
       "      <th>Ticker</th>\n",
       "      <th>Name</th>\n",
       "      <th>Last Sale</th>\n",
       "      <th>...</th>\n",
       "      <th>Senkou_SpanA</th>\n",
       "      <th>Senkou_SpanB</th>\n",
       "      <th>Momentum</th>\n",
       "      <th>%K</th>\n",
       "      <th>%D</th>\n",
       "      <th>Chaikin_AD</th>\n",
       "      <th>ROC</th>\n",
       "      <th>ATR</th>\n",
       "      <th>Normalized_ATR</th>\n",
       "      <th>OBV</th>\n",
       "    </tr>\n",
       "  </thead>\n",
       "  <tbody>\n",
       "    <tr>\n",
       "      <th>0</th>\n",
       "      <td>1774</td>\n",
       "      <td>2000-03-10</td>\n",
       "      <td>103.280</td>\n",
       "      <td>104.560</td>\n",
       "      <td>94.505</td>\n",
       "      <td>95.852</td>\n",
       "      <td>2627257</td>\n",
       "      <td>A</td>\n",
       "      <td>Agilent Technologies Inc. Common Stock</td>\n",
       "      <td>109.73</td>\n",
       "      <td>...</td>\n",
       "      <td>46.44025</td>\n",
       "      <td>40.4375</td>\n",
       "      <td>32.566</td>\n",
       "      <td>72.194339</td>\n",
       "      <td>79.998143</td>\n",
       "      <td>8.672989e+06</td>\n",
       "      <td>51.458458</td>\n",
       "      <td>9.762857</td>\n",
       "      <td>10.185345</td>\n",
       "      <td>20272305</td>\n",
       "    </tr>\n",
       "    <tr>\n",
       "      <th>1</th>\n",
       "      <td>1717</td>\n",
       "      <td>2000-03-13</td>\n",
       "      <td>87.798</td>\n",
       "      <td>93.793</td>\n",
       "      <td>87.417</td>\n",
       "      <td>88.603</td>\n",
       "      <td>2783398</td>\n",
       "      <td>A</td>\n",
       "      <td>Agilent Technologies Inc. Common Stock</td>\n",
       "      <td>109.73</td>\n",
       "      <td>...</td>\n",
       "      <td>47.35700</td>\n",
       "      <td>40.4375</td>\n",
       "      <td>26.837</td>\n",
       "      <td>56.299320</td>\n",
       "      <td>64.246830</td>\n",
       "      <td>6.925071e+06</td>\n",
       "      <td>43.449471</td>\n",
       "      <td>10.009500</td>\n",
       "      <td>11.297022</td>\n",
       "      <td>17488907</td>\n",
       "    </tr>\n",
       "    <tr>\n",
       "      <th>2</th>\n",
       "      <td>1716</td>\n",
       "      <td>2000-03-14</td>\n",
       "      <td>89.782</td>\n",
       "      <td>91.807</td>\n",
       "      <td>80.243</td>\n",
       "      <td>81.935</td>\n",
       "      <td>3733120</td>\n",
       "      <td>A</td>\n",
       "      <td>Agilent Technologies Inc. Common Stock</td>\n",
       "      <td>109.73</td>\n",
       "      <td>...</td>\n",
       "      <td>47.35700</td>\n",
       "      <td>40.5025</td>\n",
       "      <td>15.106</td>\n",
       "      <td>36.268816</td>\n",
       "      <td>46.284068</td>\n",
       "      <td>4.284382e+06</td>\n",
       "      <td>22.603959</td>\n",
       "      <td>10.401500</td>\n",
       "      <td>12.694819</td>\n",
       "      <td>13755787</td>\n",
       "    </tr>\n",
       "    <tr>\n",
       "      <th>3</th>\n",
       "      <td>1715</td>\n",
       "      <td>2000-03-15</td>\n",
       "      <td>86.486</td>\n",
       "      <td>86.486</td>\n",
       "      <td>76.448</td>\n",
       "      <td>77.122</td>\n",
       "      <td>3227960</td>\n",
       "      <td>A</td>\n",
       "      <td>Agilent Technologies Inc. Common Stock</td>\n",
       "      <td>109.73</td>\n",
       "      <td>...</td>\n",
       "      <td>47.73650</td>\n",
       "      <td>40.5025</td>\n",
       "      <td>5.058</td>\n",
       "      <td>25.088274</td>\n",
       "      <td>30.678545</td>\n",
       "      <td>1.489904e+06</td>\n",
       "      <td>7.018761</td>\n",
       "      <td>10.325786</td>\n",
       "      <td>13.388898</td>\n",
       "      <td>10527827</td>\n",
       "    </tr>\n",
       "    <tr>\n",
       "      <th>4</th>\n",
       "      <td>1714</td>\n",
       "      <td>2000-03-16</td>\n",
       "      <td>78.309</td>\n",
       "      <td>83.034</td>\n",
       "      <td>75.604</td>\n",
       "      <td>79.695</td>\n",
       "      <td>2934795</td>\n",
       "      <td>A</td>\n",
       "      <td>Agilent Technologies Inc. Common Stock</td>\n",
       "      <td>109.73</td>\n",
       "      <td>...</td>\n",
       "      <td>48.47600</td>\n",
       "      <td>41.2420</td>\n",
       "      <td>6.707</td>\n",
       "      <td>31.065322</td>\n",
       "      <td>28.076798</td>\n",
       "      <td>1.786938e+06</td>\n",
       "      <td>9.189182</td>\n",
       "      <td>10.341571</td>\n",
       "      <td>12.976437</td>\n",
       "      <td>13462622</td>\n",
       "    </tr>\n",
       "  </tbody>\n",
       "</table>\n",
       "<p>5 rows × 41 columns</p>\n",
       "</div>"
      ],
      "text/plain": [
       "   index        Date     Open     High     Low   Close   Volume Ticker  \\\n",
       "0   1774  2000-03-10  103.280  104.560  94.505  95.852  2627257      A   \n",
       "1   1717  2000-03-13   87.798   93.793  87.417  88.603  2783398      A   \n",
       "2   1716  2000-03-14   89.782   91.807  80.243  81.935  3733120      A   \n",
       "3   1715  2000-03-15   86.486   86.486  76.448  77.122  3227960      A   \n",
       "4   1714  2000-03-16   78.309   83.034  75.604  79.695  2934795      A   \n",
       "\n",
       "                                     Name  Last Sale  ...  Senkou_SpanA  \\\n",
       "0  Agilent Technologies Inc. Common Stock     109.73  ...      46.44025   \n",
       "1  Agilent Technologies Inc. Common Stock     109.73  ...      47.35700   \n",
       "2  Agilent Technologies Inc. Common Stock     109.73  ...      47.35700   \n",
       "3  Agilent Technologies Inc. Common Stock     109.73  ...      47.73650   \n",
       "4  Agilent Technologies Inc. Common Stock     109.73  ...      48.47600   \n",
       "\n",
       "   Senkou_SpanB  Momentum         %K         %D    Chaikin_AD        ROC  \\\n",
       "0       40.4375    32.566  72.194339  79.998143  8.672989e+06  51.458458   \n",
       "1       40.4375    26.837  56.299320  64.246830  6.925071e+06  43.449471   \n",
       "2       40.5025    15.106  36.268816  46.284068  4.284382e+06  22.603959   \n",
       "3       40.5025     5.058  25.088274  30.678545  1.489904e+06   7.018761   \n",
       "4       41.2420     6.707  31.065322  28.076798  1.786938e+06   9.189182   \n",
       "\n",
       "         ATR  Normalized_ATR       OBV  \n",
       "0   9.762857       10.185345  20272305  \n",
       "1  10.009500       11.297022  17488907  \n",
       "2  10.401500       12.694819  13755787  \n",
       "3  10.325786       13.388898  10527827  \n",
       "4  10.341571       12.976437  13462622  \n",
       "\n",
       "[5 rows x 41 columns]"
      ]
     },
     "execution_count": 2,
     "metadata": {},
     "output_type": "execute_result"
    }
   ],
   "source": [
    "merged_df = pd.read_csv(\"stock-feature.csv\")\n",
    "merged_df.head()"
   ]
  },
  {
   "cell_type": "code",
   "execution_count": 3,
   "id": "177b7ee2-3998-437e-a20a-3217f363a32a",
   "metadata": {},
   "outputs": [
    {
     "data": {
      "text/html": [
       "<div>\n",
       "<style scoped>\n",
       "    .dataframe tbody tr th:only-of-type {\n",
       "        vertical-align: middle;\n",
       "    }\n",
       "\n",
       "    .dataframe tbody tr th {\n",
       "        vertical-align: top;\n",
       "    }\n",
       "\n",
       "    .dataframe thead th {\n",
       "        text-align: right;\n",
       "    }\n",
       "</style>\n",
       "<table border=\"1\" class=\"dataframe\">\n",
       "  <thead>\n",
       "    <tr style=\"text-align: right;\">\n",
       "      <th></th>\n",
       "      <th>Date</th>\n",
       "      <th>Open</th>\n",
       "      <th>High</th>\n",
       "      <th>Low</th>\n",
       "      <th>Close</th>\n",
       "      <th>Volume</th>\n",
       "      <th>Ticker</th>\n",
       "      <th>Name</th>\n",
       "      <th>Last Sale</th>\n",
       "      <th>Net Change</th>\n",
       "      <th>...</th>\n",
       "      <th>Senkou_SpanA</th>\n",
       "      <th>Senkou_SpanB</th>\n",
       "      <th>Momentum</th>\n",
       "      <th>%K</th>\n",
       "      <th>%D</th>\n",
       "      <th>Chaikin_AD</th>\n",
       "      <th>ROC</th>\n",
       "      <th>ATR</th>\n",
       "      <th>Normalized_ATR</th>\n",
       "      <th>OBV</th>\n",
       "    </tr>\n",
       "  </thead>\n",
       "  <tbody>\n",
       "    <tr>\n",
       "      <th>0</th>\n",
       "      <td>2017-01-03</td>\n",
       "      <td>45.621</td>\n",
       "      <td>46.4360</td>\n",
       "      <td>45.4340</td>\n",
       "      <td>46.178</td>\n",
       "      <td>1751589</td>\n",
       "      <td>A</td>\n",
       "      <td>Agilent Technologies Inc. Common Stock</td>\n",
       "      <td>109.73</td>\n",
       "      <td>-2.74</td>\n",
       "      <td>...</td>\n",
       "      <td>45.18325</td>\n",
       "      <td>45.19350</td>\n",
       "      <td>0.480</td>\n",
       "      <td>81.035599</td>\n",
       "      <td>51.132686</td>\n",
       "      <td>6.295452e+08</td>\n",
       "      <td>1.050374</td>\n",
       "      <td>0.681714</td>\n",
       "      <td>1.476275</td>\n",
       "      <td>397388270</td>\n",
       "    </tr>\n",
       "    <tr>\n",
       "      <th>1</th>\n",
       "      <td>2017-01-04</td>\n",
       "      <td>46.615</td>\n",
       "      <td>47.0630</td>\n",
       "      <td>46.5020</td>\n",
       "      <td>46.784</td>\n",
       "      <td>1833563</td>\n",
       "      <td>A</td>\n",
       "      <td>Agilent Technologies Inc. Common Stock</td>\n",
       "      <td>109.73</td>\n",
       "      <td>-2.74</td>\n",
       "      <td>...</td>\n",
       "      <td>45.18325</td>\n",
       "      <td>45.19350</td>\n",
       "      <td>0.839</td>\n",
       "      <td>86.944314</td>\n",
       "      <td>83.989957</td>\n",
       "      <td>6.295550e+08</td>\n",
       "      <td>1.826096</td>\n",
       "      <td>0.711714</td>\n",
       "      <td>1.521277</td>\n",
       "      <td>399221833</td>\n",
       "    </tr>\n",
       "    <tr>\n",
       "      <th>2</th>\n",
       "      <td>2017-01-05</td>\n",
       "      <td>46.735</td>\n",
       "      <td>46.7540</td>\n",
       "      <td>46.0440</td>\n",
       "      <td>46.228</td>\n",
       "      <td>1513918</td>\n",
       "      <td>A</td>\n",
       "      <td>Agilent Technologies Inc. Common Stock</td>\n",
       "      <td>109.73</td>\n",
       "      <td>-2.74</td>\n",
       "      <td>...</td>\n",
       "      <td>45.13600</td>\n",
       "      <td>45.19350</td>\n",
       "      <td>0.530</td>\n",
       "      <td>60.926533</td>\n",
       "      <td>73.935423</td>\n",
       "      <td>6.288258e+08</td>\n",
       "      <td>1.159788</td>\n",
       "      <td>0.708571</td>\n",
       "      <td>1.532775</td>\n",
       "      <td>397707915</td>\n",
       "    </tr>\n",
       "    <tr>\n",
       "      <th>3</th>\n",
       "      <td>2017-01-06</td>\n",
       "      <td>46.318</td>\n",
       "      <td>47.7470</td>\n",
       "      <td>46.2480</td>\n",
       "      <td>47.668</td>\n",
       "      <td>2902875</td>\n",
       "      <td>A</td>\n",
       "      <td>Agilent Technologies Inc. Common Stock</td>\n",
       "      <td>109.73</td>\n",
       "      <td>-2.74</td>\n",
       "      <td>...</td>\n",
       "      <td>45.12150</td>\n",
       "      <td>45.19350</td>\n",
       "      <td>1.554</td>\n",
       "      <td>97.199575</td>\n",
       "      <td>79.063054</td>\n",
       "      <td>6.314227e+08</td>\n",
       "      <td>3.369909</td>\n",
       "      <td>0.756929</td>\n",
       "      <td>1.587918</td>\n",
       "      <td>400610790</td>\n",
       "    </tr>\n",
       "    <tr>\n",
       "      <th>4</th>\n",
       "      <td>2017-01-09</td>\n",
       "      <td>47.688</td>\n",
       "      <td>48.2290</td>\n",
       "      <td>47.5830</td>\n",
       "      <td>47.817</td>\n",
       "      <td>2592719</td>\n",
       "      <td>A</td>\n",
       "      <td>Agilent Technologies Inc. Common Stock</td>\n",
       "      <td>109.73</td>\n",
       "      <td>-2.74</td>\n",
       "      <td>...</td>\n",
       "      <td>44.72550</td>\n",
       "      <td>45.19350</td>\n",
       "      <td>2.346</td>\n",
       "      <td>87.526491</td>\n",
       "      <td>92.363033</td>\n",
       "      <td>6.307083e+08</td>\n",
       "      <td>5.159332</td>\n",
       "      <td>0.724571</td>\n",
       "      <td>1.515301</td>\n",
       "      <td>403203509</td>\n",
       "    </tr>\n",
       "    <tr>\n",
       "      <th>...</th>\n",
       "      <td>...</td>\n",
       "      <td>...</td>\n",
       "      <td>...</td>\n",
       "      <td>...</td>\n",
       "      <td>...</td>\n",
       "      <td>...</td>\n",
       "      <td>...</td>\n",
       "      <td>...</td>\n",
       "      <td>...</td>\n",
       "      <td>...</td>\n",
       "      <td>...</td>\n",
       "      <td>...</td>\n",
       "      <td>...</td>\n",
       "      <td>...</td>\n",
       "      <td>...</td>\n",
       "      <td>...</td>\n",
       "      <td>...</td>\n",
       "      <td>...</td>\n",
       "      <td>...</td>\n",
       "      <td>...</td>\n",
       "      <td>...</td>\n",
       "    </tr>\n",
       "    <tr>\n",
       "      <th>386561</th>\n",
       "      <td>2017-11-06</td>\n",
       "      <td>10.420</td>\n",
       "      <td>11.5400</td>\n",
       "      <td>10.4200</td>\n",
       "      <td>11.190</td>\n",
       "      <td>977948</td>\n",
       "      <td>ZYNE</td>\n",
       "      <td>Zynerba Pharmaceuticals Inc. Common Stock</td>\n",
       "      <td>1.34</td>\n",
       "      <td>-0.01</td>\n",
       "      <td>...</td>\n",
       "      <td>8.50250</td>\n",
       "      <td>12.56000</td>\n",
       "      <td>1.870</td>\n",
       "      <td>85.714286</td>\n",
       "      <td>84.190476</td>\n",
       "      <td>4.268797e+11</td>\n",
       "      <td>20.064378</td>\n",
       "      <td>0.563071</td>\n",
       "      <td>5.031916</td>\n",
       "      <td>472000190549</td>\n",
       "    </tr>\n",
       "    <tr>\n",
       "      <th>386562</th>\n",
       "      <td>2017-11-07</td>\n",
       "      <td>11.300</td>\n",
       "      <td>11.4200</td>\n",
       "      <td>10.6700</td>\n",
       "      <td>10.830</td>\n",
       "      <td>451210</td>\n",
       "      <td>ZYNE</td>\n",
       "      <td>Zynerba Pharmaceuticals Inc. Common Stock</td>\n",
       "      <td>1.34</td>\n",
       "      <td>-0.01</td>\n",
       "      <td>...</td>\n",
       "      <td>8.54000</td>\n",
       "      <td>12.55500</td>\n",
       "      <td>1.440</td>\n",
       "      <td>68.584071</td>\n",
       "      <td>77.149178</td>\n",
       "      <td>4.268794e+11</td>\n",
       "      <td>15.335463</td>\n",
       "      <td>0.588071</td>\n",
       "      <td>5.430022</td>\n",
       "      <td>471999739339</td>\n",
       "    </tr>\n",
       "    <tr>\n",
       "      <th>386563</th>\n",
       "      <td>2017-11-08</td>\n",
       "      <td>10.700</td>\n",
       "      <td>11.0600</td>\n",
       "      <td>10.3500</td>\n",
       "      <td>10.900</td>\n",
       "      <td>336449</td>\n",
       "      <td>ZYNE</td>\n",
       "      <td>Zynerba Pharmaceuticals Inc. Common Stock</td>\n",
       "      <td>1.34</td>\n",
       "      <td>-0.01</td>\n",
       "      <td>...</td>\n",
       "      <td>8.54000</td>\n",
       "      <td>12.28500</td>\n",
       "      <td>1.240</td>\n",
       "      <td>70.093458</td>\n",
       "      <td>69.338764</td>\n",
       "      <td>4.268796e+11</td>\n",
       "      <td>12.836439</td>\n",
       "      <td>0.609500</td>\n",
       "      <td>5.591743</td>\n",
       "      <td>472000075788</td>\n",
       "    </tr>\n",
       "    <tr>\n",
       "      <th>386564</th>\n",
       "      <td>2017-11-09</td>\n",
       "      <td>11.000</td>\n",
       "      <td>11.8563</td>\n",
       "      <td>10.9700</td>\n",
       "      <td>11.600</td>\n",
       "      <td>463067</td>\n",
       "      <td>ZYNE</td>\n",
       "      <td>Zynerba Pharmaceuticals Inc. Common Stock</td>\n",
       "      <td>1.34</td>\n",
       "      <td>-0.01</td>\n",
       "      <td>...</td>\n",
       "      <td>8.54000</td>\n",
       "      <td>12.12500</td>\n",
       "      <td>1.870</td>\n",
       "      <td>89.565607</td>\n",
       "      <td>79.829532</td>\n",
       "      <td>4.268798e+11</td>\n",
       "      <td>19.218911</td>\n",
       "      <td>0.652450</td>\n",
       "      <td>5.624569</td>\n",
       "      <td>472000538855</td>\n",
       "    </tr>\n",
       "    <tr>\n",
       "      <th>386565</th>\n",
       "      <td>2017-11-10</td>\n",
       "      <td>11.680</td>\n",
       "      <td>13.1500</td>\n",
       "      <td>11.3043</td>\n",
       "      <td>12.460</td>\n",
       "      <td>885587</td>\n",
       "      <td>ZYNE</td>\n",
       "      <td>Zynerba Pharmaceuticals Inc. Common Stock</td>\n",
       "      <td>1.34</td>\n",
       "      <td>-0.01</td>\n",
       "      <td>...</td>\n",
       "      <td>8.54000</td>\n",
       "      <td>12.10995</td>\n",
       "      <td>2.560</td>\n",
       "      <td>81.600000</td>\n",
       "      <td>85.582803</td>\n",
       "      <td>4.268800e+11</td>\n",
       "      <td>25.858586</td>\n",
       "      <td>0.754286</td>\n",
       "      <td>6.053657</td>\n",
       "      <td>472001424442</td>\n",
       "    </tr>\n",
       "  </tbody>\n",
       "</table>\n",
       "<p>386566 rows × 40 columns</p>\n",
       "</div>"
      ],
      "text/plain": [
       "             Date    Open     High      Low   Close   Volume Ticker  \\\n",
       "0      2017-01-03  45.621  46.4360  45.4340  46.178  1751589      A   \n",
       "1      2017-01-04  46.615  47.0630  46.5020  46.784  1833563      A   \n",
       "2      2017-01-05  46.735  46.7540  46.0440  46.228  1513918      A   \n",
       "3      2017-01-06  46.318  47.7470  46.2480  47.668  2902875      A   \n",
       "4      2017-01-09  47.688  48.2290  47.5830  47.817  2592719      A   \n",
       "...           ...     ...      ...      ...     ...      ...    ...   \n",
       "386561 2017-11-06  10.420  11.5400  10.4200  11.190   977948   ZYNE   \n",
       "386562 2017-11-07  11.300  11.4200  10.6700  10.830   451210   ZYNE   \n",
       "386563 2017-11-08  10.700  11.0600  10.3500  10.900   336449   ZYNE   \n",
       "386564 2017-11-09  11.000  11.8563  10.9700  11.600   463067   ZYNE   \n",
       "386565 2017-11-10  11.680  13.1500  11.3043  12.460   885587   ZYNE   \n",
       "\n",
       "                                             Name  Last Sale  Net Change  ...  \\\n",
       "0          Agilent Technologies Inc. Common Stock     109.73       -2.74  ...   \n",
       "1          Agilent Technologies Inc. Common Stock     109.73       -2.74  ...   \n",
       "2          Agilent Technologies Inc. Common Stock     109.73       -2.74  ...   \n",
       "3          Agilent Technologies Inc. Common Stock     109.73       -2.74  ...   \n",
       "4          Agilent Technologies Inc. Common Stock     109.73       -2.74  ...   \n",
       "...                                           ...        ...         ...  ...   \n",
       "386561  Zynerba Pharmaceuticals Inc. Common Stock       1.34       -0.01  ...   \n",
       "386562  Zynerba Pharmaceuticals Inc. Common Stock       1.34       -0.01  ...   \n",
       "386563  Zynerba Pharmaceuticals Inc. Common Stock       1.34       -0.01  ...   \n",
       "386564  Zynerba Pharmaceuticals Inc. Common Stock       1.34       -0.01  ...   \n",
       "386565  Zynerba Pharmaceuticals Inc. Common Stock       1.34       -0.01  ...   \n",
       "\n",
       "        Senkou_SpanA  Senkou_SpanB Momentum         %K         %D  \\\n",
       "0           45.18325      45.19350    0.480  81.035599  51.132686   \n",
       "1           45.18325      45.19350    0.839  86.944314  83.989957   \n",
       "2           45.13600      45.19350    0.530  60.926533  73.935423   \n",
       "3           45.12150      45.19350    1.554  97.199575  79.063054   \n",
       "4           44.72550      45.19350    2.346  87.526491  92.363033   \n",
       "...              ...           ...      ...        ...        ...   \n",
       "386561       8.50250      12.56000    1.870  85.714286  84.190476   \n",
       "386562       8.54000      12.55500    1.440  68.584071  77.149178   \n",
       "386563       8.54000      12.28500    1.240  70.093458  69.338764   \n",
       "386564       8.54000      12.12500    1.870  89.565607  79.829532   \n",
       "386565       8.54000      12.10995    2.560  81.600000  85.582803   \n",
       "\n",
       "          Chaikin_AD        ROC       ATR  Normalized_ATR           OBV  \n",
       "0       6.295452e+08   1.050374  0.681714        1.476275     397388270  \n",
       "1       6.295550e+08   1.826096  0.711714        1.521277     399221833  \n",
       "2       6.288258e+08   1.159788  0.708571        1.532775     397707915  \n",
       "3       6.314227e+08   3.369909  0.756929        1.587918     400610790  \n",
       "4       6.307083e+08   5.159332  0.724571        1.515301     403203509  \n",
       "...              ...        ...       ...             ...           ...  \n",
       "386561  4.268797e+11  20.064378  0.563071        5.031916  472000190549  \n",
       "386562  4.268794e+11  15.335463  0.588071        5.430022  471999739339  \n",
       "386563  4.268796e+11  12.836439  0.609500        5.591743  472000075788  \n",
       "386564  4.268798e+11  19.218911  0.652450        5.624569  472000538855  \n",
       "386565  4.268800e+11  25.858586  0.754286        6.053657  472001424442  \n",
       "\n",
       "[386566 rows x 40 columns]"
      ]
     },
     "execution_count": 3,
     "metadata": {},
     "output_type": "execute_result"
    }
   ],
   "source": [
    "# Convert the 'Date' column in merged_df to datetime format \n",
    "merged_df['Date'] = pd.to_datetime(merged_df['Date'])\n",
    "\n",
    "# Filter the DataFrame for the years of 2017\n",
    "start_date = pd.to_datetime('2017-01-01')\n",
    "end_date = merged_df['Date'].max()\n",
    "filtered_df = merged_df[(merged_df['Date'] >= start_date) & (merged_df['Date'] <= end_date)]\n",
    "filtered_df = filtered_df.reset_index(drop=False)\n",
    "filtered_df = filtered_df.drop(['level_0', 'index'], axis=1)\n",
    "filtered_df"
   ]
  },
  {
   "cell_type": "code",
   "execution_count": 4,
   "id": "232ea025-e683-4ab5-b773-fd6405ce0321",
   "metadata": {},
   "outputs": [
    {
     "data": {
      "text/plain": [
       "['Date',\n",
       " 'Open',\n",
       " 'High',\n",
       " 'Low',\n",
       " 'Close',\n",
       " 'Volume',\n",
       " 'Ticker',\n",
       " 'Name',\n",
       " 'Last Sale',\n",
       " 'Net Change',\n",
       " '% Change',\n",
       " 'Market Cap',\n",
       " 'Country',\n",
       " 'IPO Year',\n",
       " 'Sector',\n",
       " 'Industry',\n",
       " 'Volume change',\n",
       " 'SMA',\n",
       " 'EMA',\n",
       " 'ADX',\n",
       " 'MACD',\n",
       " 'MACD Signal Line',\n",
       " 'RSI',\n",
       " 'Bollinger_Bands_Middle',\n",
       " 'Bollinger_Bands_Upper',\n",
       " 'Bollinger_Bands_Lower',\n",
       " 'KAMA',\n",
       " 'MFI',\n",
       " 'Tenkan_Sen',\n",
       " 'Kijun_Sen',\n",
       " 'Senkou_SpanA',\n",
       " 'Senkou_SpanB',\n",
       " 'Momentum',\n",
       " '%K',\n",
       " '%D',\n",
       " 'Chaikin_AD',\n",
       " 'ROC',\n",
       " 'ATR',\n",
       " 'Normalized_ATR',\n",
       " 'OBV']"
      ]
     },
     "execution_count": 4,
     "metadata": {},
     "output_type": "execute_result"
    }
   ],
   "source": [
    "# Retrieve and list all column names of `filtered_df` \n",
    "list(filtered_df.columns)"
   ]
  },
  {
   "cell_type": "markdown",
   "id": "956fd175-4a04-450e-a8d4-3ad83fae6a8e",
   "metadata": {},
   "source": [
    "Considering our dataset contains over 4 million data rows, each comprising 30 features that encompass historical stock prices and technical indicators, we aim to extensively implement data scaling and examine the varying effects of different scaling techniques on dimension reduction via PCA. The transformed data from PCA will be supply as input features to several stock price prediction models, the integration of dimensionality reduction may enhance the accuracy of the forecasting model and gives more accurate prediction for the stock price in the future [2,3]."
   ]
  },
  {
   "cell_type": "markdown",
   "id": "656b50dd-320b-45e0-a2f3-f993521b5786",
   "metadata": {
    "tags": []
   },
   "source": [
    "## 4. Stock Price Prediction Model Development:"
   ]
  },
  {
   "cell_type": "markdown",
   "id": "71511003-795e-459d-8387-2c6e811adab8",
   "metadata": {
    "jp-MarkdownHeadingCollapsed": true,
    "tags": []
   },
   "source": [
    "### 4.1. Comparision Scaling Techniques on PCA-based model"
   ]
  },
  {
   "cell_type": "code",
   "execution_count": 5,
   "id": "b9894e95-e918-462a-a7ca-9c6a992f19c3",
   "metadata": {},
   "outputs": [],
   "source": [
    "# Select columns related to financial indicators from filtered_df for PCA\n",
    "columns_for_pca = ['Open','High','Low','Volume','Market Cap','% Change',\n",
    "                   'SMA','EMA','ADX','MACD','MACD Signal Line','RSI',\n",
    "                   'Bollinger_Bands_Middle','Bollinger_Bands_Upper','Bollinger_Bands_Lower',\n",
    "                   'KAMA','MFI','Tenkan_Sen','Kijun_Sen','Senkou_SpanA','Senkou_SpanB','Momentum',\n",
    "                   '%K','%D','Chaikin_AD','ROC','ATR','Normalized_ATR','OBV']\n",
    "\n",
    "data_for_pca = filtered_df[columns_for_pca]"
   ]
  },
  {
   "cell_type": "code",
   "execution_count": 54,
   "id": "1419c5be-111a-4ef2-b7fa-818bf5449f52",
   "metadata": {
    "tags": []
   },
   "outputs": [
    {
     "data": {
      "image/png": "[encoded data removed]",
      "text/plain": [
       "<Figure size 1080x864 with 30 Axes>"
      ]
     },
     "metadata": {
      "needs_background": "light"
     },
     "output_type": "display_data"
    }
   ],
   "source": [
    "# Create histograms for each feature\n",
    "data_for_pca.hist(figsize=(15, 12), bins=20)\n",
    "plt.subplots_adjust(hspace=0.5)\n",
    "plt.suptitle('Figure 1. Distribution of each feature', fontsize=16, color='b')\n",
    "plt.show()"
   ]
  },
  {
   "cell_type": "markdown",
   "id": "b370d633-b74b-47bb-8b8b-8f863d988b00",
   "metadata": {},
   "source": [
    "**Observations:**\n",
    "From the figure 1 we have\n",
    "- Skewed Distributions: Certain features such as `% Change`, `MACD Signal Line`, `Momentum`, and `Chaikin A/D` are quite skewed. Skewed distributions are often better handled by scalers that are robust to outliers, we consider **Robust Scaler**.\n",
    "- Bimodal Distributions: Features like `Volume`, `MACD`, and `OBV` show two peaks. This could indicate that different scaling approaches may affect these features in significant ways. \n",
    "- Features with Outliers: `Open`, `High`, `Low`, `Market Cap`, and `ATR`, we want to diminish the influence of outliers, then **Min-Max Scaler** and **Robust Scaler** may be good options. \n",
    "- Normal-like Distributions: `KAMA`, `MFI`, and the `Bollinger Bands` appear to have a distribution close to normal, these indicators could be scaled effectively with the **Standard Scaler**."
   ]
  },
  {
   "cell_type": "code",
   "execution_count": 6,
   "id": "d33db9a0-709a-4022-9106-c8fd66854b2b",
   "metadata": {},
   "outputs": [],
   "source": [
    "pca_table = pd.DataFrame(index=['PC1', 'PC2', 'PC3', 'PC4', 'PC5'])\n",
    "\n",
    "# Define different Scaler methods\n",
    "scalers = {\n",
    "    'Standard Scaler': StandardScaler(),\n",
    "    'MinMaxScaler': MinMaxScaler(),\n",
    "    'RobustScaler': RobustScaler()\n",
    "}\n",
    "\n",
    "pca_results = {}\n",
    "\n",
    "# Applying each method and perform PCA\n",
    "for name, scaler in scalers.items():\n",
    "    scaled_data = pd.DataFrame(scaler.fit_transform(data_for_pca))\n",
    "    num_components = 5\n",
    "    pca = PCA(n_components=num_components)\n",
    "    pca_fit = pca.fit_transform(scaled_data)\n",
    "\n",
    "    # Store the results in a dictionary\n",
    "    pca_results[name] = {\n",
    "        'scores': pca_fit, \n",
    "        'components': pca.components_,  \n",
    "        'explained_variance_ratio': pca.explained_variance_ratio_ \n",
    "    }\n",
    "    \n",
    "    pca_table[name] = pca.explained_variance_ratio_"
   ]
  },
  {
   "cell_type": "code",
   "execution_count": 7,
   "id": "8344678c-73e6-43b0-8d2e-26dbf4a2b913",
   "metadata": {
    "tags": []
   },
   "outputs": [],
   "source": [
    "# Define a function 'biplot' to create a biplot for PCA results\n",
    "def biplot(score, coeff, labels=None, name=''):\n",
    "    plt.figure(figsize=(8,4))  \n",
    "    xs = score[:,0]\n",
    "    ys = score[:,1]\n",
    "    n = coeff.shape[0]\n",
    "    scale_x = 1.0/(xs.max() - xs.min())\n",
    "    scale_y = 1.0/(ys.max() - ys.min())\n",
    "    \n",
    "    plt.scatter(xs * scale_x,ys * scale_y)\n",
    "    \n",
    "    for i in range(n):\n",
    "        plt.arrow(0, 0, coeff[i,0], coeff[i,1],color='r',alpha=0.5)\n",
    "        if labels is None:\n",
    "            plt.text(coeff[i,0]* 1.15, coeff[i,1] * 1.15, \"Var\"+str(i+1), color='g', ha='center', va='center')\n",
    "        else:\n",
    "            plt.text(coeff[i,0]* 1.15, coeff[i,1] * 1.15, labels[i], color='g', ha='center', va='center')\n",
    "    \n",
    "    plt.xlabel(f\"PC{1}\")\n",
    "    plt.ylabel(f\"PC{2}\")\n",
    "    plt.title(f'Biplot using {name}', fontsize=14, color='b')\n",
    "    plt.grid()\n",
    "    plt.show()  "
   ]
  },
  {
   "cell_type": "code",
   "execution_count": 57,
   "id": "a4e0ce62-2b7a-432c-94c6-d622d1eec42e",
   "metadata": {
    "tags": []
   },
   "outputs": [
    {
     "data": {
      "image/png": "[encoded data removed]",
      "text/plain": [
       "<Figure size 576x288 with 1 Axes>"
      ]
     },
     "metadata": {
      "needs_background": "light"
     },
     "output_type": "display_data"
    },
    {
     "data": {
      "image/png": "[encoded data removed]",
      "text/plain": [
       "<Figure size 576x288 with 1 Axes>"
      ]
     },
     "metadata": {
      "needs_background": "light"
     },
     "output_type": "display_data"
    },
    {
     "data": {
      "image/png": "[encoded data removed]",
      "text/plain": [
       "<Figure size 576x288 with 1 Axes>"
      ]
     },
     "metadata": {
      "needs_background": "light"
     },
     "output_type": "display_data"
    },
    {
     "data": {
      "text/plain": [
       "Text(0.5, 0.98, 'Figure 2. Biplot for each Scaler Method')"
      ]
     },
     "execution_count": 57,
     "metadata": {},
     "output_type": "execute_result"
    },
    {
     "data": {
      "text/plain": [
       "<Figure size 432x288 with 0 Axes>"
      ]
     },
     "metadata": {},
     "output_type": "display_data"
    }
   ],
   "source": [
    "# Plot the biplot for each scaler method\n",
    "for name, result in pca_results.items():\n",
    "    biplot(result['scores'][:,0:2], np.transpose(result['components'][0:2, :]), name=name)\n",
    "plt.suptitle('Figure 2. Biplot for each Scaler Method', fontsize=16)"
   ]
  },
  {
   "cell_type": "code",
   "execution_count": 58,
   "id": "d997df4e-8951-4e39-a2de-f5d9993dae51",
   "metadata": {},
   "outputs": [
    {
     "name": "stdout",
     "output_type": "stream",
     "text": [
      "     Standard Scaler  MinMaxScaler  RobustScaler\n",
      "PC1         0.497784      0.501085      0.799714\n",
      "PC2         0.116422      0.373585      0.098444\n",
      "PC3         0.068863      0.049523      0.077495\n",
      "PC4         0.063417      0.040373      0.009914\n",
      "PC5         0.047193      0.012140      0.007869\n"
     ]
    }
   ],
   "source": [
    "print(pca_table)"
   ]
  },
  {
   "cell_type": "markdown",
   "id": "51b5e67c-6cdd-47d3-9742-70ccb9667426",
   "metadata": {},
   "source": [
    "**Observation - From biplots in Figure 2:**\n",
    "\n",
    "- StandardScaler: The plot shows a reasonable distribution of data points and component vectors (arrows), indicating a balanced representation of the dataset. The component vectors are well spread out, combining with `explained_variance_ratio_` with no single component overwhelmingly dominating. This might suggest that the data, when standardized, has its variance is captured effectively across multiple dimensions.\n",
    "- MinMaxScaler: The data points in this plot are compressed into a very narrow range on the x-axis. This could be because MinMaxScaler is sensitive to outliers, and when the data has outliers, it can cause a compression effect, which may not be ideal for PCA. \n",
    "- RobustScaler: In the last plot, a distribution that similar to StandardScaler, but with less extreme variation on the axes. The component vectors are also well distributed. RobustScaler is less sensitive to outliers, which suggests it's capturing the intrinsic spread of the data more effectively without allowing outliers to dictate the scale. Additionally, the first principal component `PC1` accounts for approximately 80% of the variance, which is much higher than with the other two methods. The remaining components contribute significantly less, which indicates that after mitigating the influence of outliers, the first component becomes highly dominant in explaining the variance.\n",
    "\n",
    "We can move forward with the $RobustScaler$ since it might be the most significant scaler for this PCA analysis because it appears to handle outliers better than other two scaler, ensuring that the principal components are not skewed by extreme values. The distribution of points can suggest that the inherent structure of the data is maintained. "
   ]
  },
  {
   "cell_type": "code",
   "execution_count": 8,
   "id": "5caf355a-ef46-438d-9831-cb540dde21a3",
   "metadata": {},
   "outputs": [
    {
     "data": {
      "text/html": [
       "<div>\n",
       "<style scoped>\n",
       "    .dataframe tbody tr th:only-of-type {\n",
       "        vertical-align: middle;\n",
       "    }\n",
       "\n",
       "    .dataframe tbody tr th {\n",
       "        vertical-align: top;\n",
       "    }\n",
       "\n",
       "    .dataframe thead th {\n",
       "        text-align: right;\n",
       "    }\n",
       "</style>\n",
       "<table border=\"1\" class=\"dataframe\">\n",
       "  <thead>\n",
       "    <tr style=\"text-align: right;\">\n",
       "      <th></th>\n",
       "      <th>Feature_1</th>\n",
       "      <th>Feature_2</th>\n",
       "      <th>Feature_3</th>\n",
       "      <th>Feature_4</th>\n",
       "      <th>Feature_5</th>\n",
       "    </tr>\n",
       "  </thead>\n",
       "  <tbody>\n",
       "    <tr>\n",
       "      <th>0</th>\n",
       "      <td>-4.694621</td>\n",
       "      <td>0.050102</td>\n",
       "      <td>0.525245</td>\n",
       "      <td>-4.551044</td>\n",
       "      <td>1.058598</td>\n",
       "    </tr>\n",
       "    <tr>\n",
       "      <th>1</th>\n",
       "      <td>-4.948428</td>\n",
       "      <td>0.293337</td>\n",
       "      <td>0.468583</td>\n",
       "      <td>-4.553871</td>\n",
       "      <td>1.065424</td>\n",
       "    </tr>\n",
       "    <tr>\n",
       "      <th>2</th>\n",
       "      <td>-4.885045</td>\n",
       "      <td>0.113366</td>\n",
       "      <td>0.636895</td>\n",
       "      <td>-4.541259</td>\n",
       "      <td>1.020767</td>\n",
       "    </tr>\n",
       "    <tr>\n",
       "      <th>3</th>\n",
       "      <td>-5.465603</td>\n",
       "      <td>0.731387</td>\n",
       "      <td>0.340322</td>\n",
       "      <td>-4.613235</td>\n",
       "      <td>1.154764</td>\n",
       "    </tr>\n",
       "    <tr>\n",
       "      <th>4</th>\n",
       "      <td>-5.977897</td>\n",
       "      <td>1.172599</td>\n",
       "      <td>0.107106</td>\n",
       "      <td>-4.593020</td>\n",
       "      <td>1.132056</td>\n",
       "    </tr>\n",
       "  </tbody>\n",
       "</table>\n",
       "</div>"
      ],
      "text/plain": [
       "   Feature_1  Feature_2  Feature_3  Feature_4  Feature_5\n",
       "0  -4.694621   0.050102   0.525245  -4.551044   1.058598\n",
       "1  -4.948428   0.293337   0.468583  -4.553871   1.065424\n",
       "2  -4.885045   0.113366   0.636895  -4.541259   1.020767\n",
       "3  -5.465603   0.731387   0.340322  -4.613235   1.154764\n",
       "4  -5.977897   1.172599   0.107106  -4.593020   1.132056"
      ]
     },
     "execution_count": 8,
     "metadata": {},
     "output_type": "execute_result"
    }
   ],
   "source": [
    "# Perform the Robust Scaler transformation\n",
    "transformer = RobustScaler()\n",
    "scaled_arr = transformer.fit_transform(data_for_pca)\n",
    "scaled_df = pd.DataFrame(scaled_arr, columns=data_for_pca.columns)\n",
    "\n",
    "# Proceed with the PCA transformation\n",
    "num_components = 5\n",
    "pca = PCA(n_components=num_components)\n",
    "pca_result = pca.fit_transform(scaled_df)\n",
    "pca_result_df = pd.DataFrame(pca_result, columns=['Feature_1', 'Feature_2', 'Feature_3', 'Feature_4', 'Feature_5'])\n",
    "pca_result_df.head()"
   ]
  },
  {
   "cell_type": "code",
   "execution_count": 60,
   "id": "19fafe98-9127-4416-a294-b95f03839f06",
   "metadata": {},
   "outputs": [
    {
     "data": {
      "image/png": "[encoded data removed]",
      "text/plain": [
       "<Figure size 576x576 with 2 Axes>"
      ]
     },
     "metadata": {
      "needs_background": "light"
     },
     "output_type": "display_data"
    }
   ],
   "source": [
    "# Heatmap of Component Loadings\n",
    "plt.figure(figsize=(8,8))\n",
    "sns.heatmap(pca.components_,\n",
    "            cmap='magma',\n",
    "            yticklabels=[\"PC\"+str(x) for x in range(1,len(pca.components_)+1)],\n",
    "            xticklabels=columns_for_pca,\n",
    "            cbar_kws={\"orientation\": 'vertical'})\n",
    "plt.tight_layout()\n",
    "plt.title('Figure 3. Heatmap of Component Loadings', size=16)\n",
    "plt.show()"
   ]
  },
  {
   "cell_type": "code",
   "execution_count": 9,
   "id": "b307ac25-011a-4063-addc-776f6bddb260",
   "metadata": {},
   "outputs": [
    {
     "data": {
      "text/html": [
       "<div>\n",
       "<style scoped>\n",
       "    .dataframe tbody tr th:only-of-type {\n",
       "        vertical-align: middle;\n",
       "    }\n",
       "\n",
       "    .dataframe tbody tr th {\n",
       "        vertical-align: top;\n",
       "    }\n",
       "\n",
       "    .dataframe thead th {\n",
       "        text-align: right;\n",
       "    }\n",
       "</style>\n",
       "<table border=\"1\" class=\"dataframe\">\n",
       "  <thead>\n",
       "    <tr style=\"text-align: right;\">\n",
       "      <th></th>\n",
       "      <th>Feature_1</th>\n",
       "      <th>Feature_2</th>\n",
       "      <th>Feature_3</th>\n",
       "      <th>Feature_4</th>\n",
       "      <th>Feature_5</th>\n",
       "      <th>Date</th>\n",
       "      <th>Ticker</th>\n",
       "      <th>Close</th>\n",
       "    </tr>\n",
       "  </thead>\n",
       "  <tbody>\n",
       "    <tr>\n",
       "      <th>0</th>\n",
       "      <td>-4.694621</td>\n",
       "      <td>0.050102</td>\n",
       "      <td>0.525245</td>\n",
       "      <td>-4.551044</td>\n",
       "      <td>1.058598</td>\n",
       "      <td>2017-01-03</td>\n",
       "      <td>A</td>\n",
       "      <td>46.178</td>\n",
       "    </tr>\n",
       "    <tr>\n",
       "      <th>1</th>\n",
       "      <td>-4.948428</td>\n",
       "      <td>0.293337</td>\n",
       "      <td>0.468583</td>\n",
       "      <td>-4.553871</td>\n",
       "      <td>1.065424</td>\n",
       "      <td>2017-01-04</td>\n",
       "      <td>A</td>\n",
       "      <td>46.784</td>\n",
       "    </tr>\n",
       "    <tr>\n",
       "      <th>2</th>\n",
       "      <td>-4.885045</td>\n",
       "      <td>0.113366</td>\n",
       "      <td>0.636895</td>\n",
       "      <td>-4.541259</td>\n",
       "      <td>1.020767</td>\n",
       "      <td>2017-01-05</td>\n",
       "      <td>A</td>\n",
       "      <td>46.228</td>\n",
       "    </tr>\n",
       "    <tr>\n",
       "      <th>3</th>\n",
       "      <td>-5.465603</td>\n",
       "      <td>0.731387</td>\n",
       "      <td>0.340322</td>\n",
       "      <td>-4.613235</td>\n",
       "      <td>1.154764</td>\n",
       "      <td>2017-01-06</td>\n",
       "      <td>A</td>\n",
       "      <td>47.668</td>\n",
       "    </tr>\n",
       "    <tr>\n",
       "      <th>4</th>\n",
       "      <td>-5.977897</td>\n",
       "      <td>1.172599</td>\n",
       "      <td>0.107106</td>\n",
       "      <td>-4.593020</td>\n",
       "      <td>1.132056</td>\n",
       "      <td>2017-01-09</td>\n",
       "      <td>A</td>\n",
       "      <td>47.817</td>\n",
       "    </tr>\n",
       "    <tr>\n",
       "      <th>...</th>\n",
       "      <td>...</td>\n",
       "      <td>...</td>\n",
       "      <td>...</td>\n",
       "      <td>...</td>\n",
       "      <td>...</td>\n",
       "      <td>...</td>\n",
       "      <td>...</td>\n",
       "      <td>...</td>\n",
       "    </tr>\n",
       "    <tr>\n",
       "      <th>386561</th>\n",
       "      <td>-6.903199</td>\n",
       "      <td>-1.760332</td>\n",
       "      <td>-1.418393</td>\n",
       "      <td>4.088618</td>\n",
       "      <td>0.799909</td>\n",
       "      <td>2017-11-06</td>\n",
       "      <td>ZYNE</td>\n",
       "      <td>11.190</td>\n",
       "    </tr>\n",
       "    <tr>\n",
       "      <th>386562</th>\n",
       "      <td>-6.796380</td>\n",
       "      <td>-1.978180</td>\n",
       "      <td>-1.165790</td>\n",
       "      <td>4.113964</td>\n",
       "      <td>0.734404</td>\n",
       "      <td>2017-11-07</td>\n",
       "      <td>ZYNE</td>\n",
       "      <td>10.830</td>\n",
       "    </tr>\n",
       "    <tr>\n",
       "      <th>386563</th>\n",
       "      <td>-6.773013</td>\n",
       "      <td>-2.083958</td>\n",
       "      <td>-1.029962</td>\n",
       "      <td>4.123684</td>\n",
       "      <td>0.727150</td>\n",
       "      <td>2017-11-08</td>\n",
       "      <td>ZYNE</td>\n",
       "      <td>10.900</td>\n",
       "    </tr>\n",
       "    <tr>\n",
       "      <th>386564</th>\n",
       "      <td>-7.115683</td>\n",
       "      <td>-1.690110</td>\n",
       "      <td>-1.202882</td>\n",
       "      <td>4.137377</td>\n",
       "      <td>0.783180</td>\n",
       "      <td>2017-11-09</td>\n",
       "      <td>ZYNE</td>\n",
       "      <td>11.600</td>\n",
       "    </tr>\n",
       "    <tr>\n",
       "      <th>386565</th>\n",
       "      <td>-7.551065</td>\n",
       "      <td>-1.215361</td>\n",
       "      <td>-1.301172</td>\n",
       "      <td>4.140841</td>\n",
       "      <td>0.872513</td>\n",
       "      <td>2017-11-10</td>\n",
       "      <td>ZYNE</td>\n",
       "      <td>12.460</td>\n",
       "    </tr>\n",
       "  </tbody>\n",
       "</table>\n",
       "<p>386566 rows × 8 columns</p>\n",
       "</div>"
      ],
      "text/plain": [
       "        Feature_1  Feature_2  Feature_3  Feature_4  Feature_5       Date  \\\n",
       "0       -4.694621   0.050102   0.525245  -4.551044   1.058598 2017-01-03   \n",
       "1       -4.948428   0.293337   0.468583  -4.553871   1.065424 2017-01-04   \n",
       "2       -4.885045   0.113366   0.636895  -4.541259   1.020767 2017-01-05   \n",
       "3       -5.465603   0.731387   0.340322  -4.613235   1.154764 2017-01-06   \n",
       "4       -5.977897   1.172599   0.107106  -4.593020   1.132056 2017-01-09   \n",
       "...           ...        ...        ...        ...        ...        ...   \n",
       "386561  -6.903199  -1.760332  -1.418393   4.088618   0.799909 2017-11-06   \n",
       "386562  -6.796380  -1.978180  -1.165790   4.113964   0.734404 2017-11-07   \n",
       "386563  -6.773013  -2.083958  -1.029962   4.123684   0.727150 2017-11-08   \n",
       "386564  -7.115683  -1.690110  -1.202882   4.137377   0.783180 2017-11-09   \n",
       "386565  -7.551065  -1.215361  -1.301172   4.140841   0.872513 2017-11-10   \n",
       "\n",
       "       Ticker   Close  \n",
       "0           A  46.178  \n",
       "1           A  46.784  \n",
       "2           A  46.228  \n",
       "3           A  47.668  \n",
       "4           A  47.817  \n",
       "...       ...     ...  \n",
       "386561   ZYNE  11.190  \n",
       "386562   ZYNE  10.830  \n",
       "386563   ZYNE  10.900  \n",
       "386564   ZYNE  11.600  \n",
       "386565   ZYNE  12.460  \n",
       "\n",
       "[386566 rows x 8 columns]"
      ]
     },
     "execution_count": 9,
     "metadata": {},
     "output_type": "execute_result"
    }
   ],
   "source": [
    "# Combine PCA results with 'Date', 'Ticker', 'Close' into a new DataFrame\n",
    "target = filtered_df[['Date', 'Ticker', 'Close']]\n",
    "target.index = pca_result_df.index\n",
    "transformed_df = pd.concat([pca_result_df, target], axis=1)\n",
    "transformed_df"
   ]
  },
  {
   "cell_type": "code",
   "execution_count": 18,
   "id": "ddc5159e-bacb-4e42-8376-edbe2d7c6636",
   "metadata": {
    "tags": []
   },
   "outputs": [
    {
     "data": {
      "image/png": "[encoded data removed]",
      "text/plain": [
       "<Figure size 864x864 with 25 Axes>"
      ]
     },
     "metadata": {
      "needs_background": "light"
     },
     "output_type": "display_data"
    }
   ],
   "source": [
    "# Create a grid of scatter plots to compare each PC against the others\n",
    "fig, axes = plt.subplots(num_components, num_components, figsize=(12, 12))\n",
    "for i, j in itertools.product(range(num_components), range(num_components)):\n",
    "    ax = axes[i, j]\n",
    "    if i != j:\n",
    "        ax.scatter(scaled_arr[:, i], scaled_arr[:, j])\n",
    "        ax.set_xlabel(f'PC{i+1}')\n",
    "        ax.set_ylabel(f'PC{j+1}')\n",
    "    else:\n",
    "        ax.annotate(f'PC{i+1}', (0.5, 0.5), xycoords='axes fraction', ha='center', va='center')\n",
    "        ax.axis('off')\n",
    "\n",
    "plt.tight_layout()\n",
    "plt.suptitle(\"Figure 4. Comparison of each Principal Component\", fontsize=14, color='r', y=1.05)\n",
    "plt.show()"
   ]
  },
  {
   "cell_type": "code",
   "execution_count": null,
   "id": "405bb857-246b-4116-88a3-11cdf14bdaf2",
   "metadata": {},
   "outputs": [],
   "source": [
    "# transformed_df.to_csv('//Users//vanle//Downloads//pca_stock_result.csv', index=False)"
   ]
  },
  {
   "cell_type": "markdown",
   "id": "f40d8c65-037a-48b6-8f7e-8ad0fedc9793",
   "metadata": {
    "tags": []
   },
   "source": [
    "### 4.2. RobustScaler - PCA-based Stock Price Prediction Models Selection"
   ]
  },
  {
   "cell_type": "markdown",
   "id": "f65f51bf-1559-4365-aead-b64f732f1832",
   "metadata": {
    "jp-MarkdownHeadingCollapsed": true,
    "tags": []
   },
   "source": [
    "#### Read the csv file we have processed in the previous step"
   ]
  },
  {
   "cell_type": "code",
   "execution_count": 2,
   "id": "ba17a60e-f019-4095-8c06-0e965263daf7",
   "metadata": {
    "tags": []
   },
   "outputs": [
    {
     "data": {
      "text/html": [
       "<div>\n",
       "<style scoped>\n",
       "    .dataframe tbody tr th:only-of-type {\n",
       "        vertical-align: middle;\n",
       "    }\n",
       "\n",
       "    .dataframe tbody tr th {\n",
       "        vertical-align: top;\n",
       "    }\n",
       "\n",
       "    .dataframe thead th {\n",
       "        text-align: right;\n",
       "    }\n",
       "</style>\n",
       "<table border=\"1\" class=\"dataframe\">\n",
       "  <thead>\n",
       "    <tr style=\"text-align: right;\">\n",
       "      <th></th>\n",
       "      <th>Feature_1</th>\n",
       "      <th>Feature_2</th>\n",
       "      <th>Feature_3</th>\n",
       "      <th>Feature_4</th>\n",
       "      <th>Feature_5</th>\n",
       "      <th>Ticker</th>\n",
       "      <th>Close</th>\n",
       "    </tr>\n",
       "    <tr>\n",
       "      <th>Date</th>\n",
       "      <th></th>\n",
       "      <th></th>\n",
       "      <th></th>\n",
       "      <th></th>\n",
       "      <th></th>\n",
       "      <th></th>\n",
       "      <th></th>\n",
       "    </tr>\n",
       "  </thead>\n",
       "  <tbody>\n",
       "    <tr>\n",
       "      <th>2017-01-03</th>\n",
       "      <td>-4.694621</td>\n",
       "      <td>0.050102</td>\n",
       "      <td>0.525245</td>\n",
       "      <td>-4.551044</td>\n",
       "      <td>1.058598</td>\n",
       "      <td>A</td>\n",
       "      <td>46.178</td>\n",
       "    </tr>\n",
       "    <tr>\n",
       "      <th>2017-01-04</th>\n",
       "      <td>-4.948428</td>\n",
       "      <td>0.293337</td>\n",
       "      <td>0.468583</td>\n",
       "      <td>-4.553871</td>\n",
       "      <td>1.065424</td>\n",
       "      <td>A</td>\n",
       "      <td>46.784</td>\n",
       "    </tr>\n",
       "    <tr>\n",
       "      <th>2017-01-05</th>\n",
       "      <td>-4.885045</td>\n",
       "      <td>0.113366</td>\n",
       "      <td>0.636895</td>\n",
       "      <td>-4.541259</td>\n",
       "      <td>1.020767</td>\n",
       "      <td>A</td>\n",
       "      <td>46.228</td>\n",
       "    </tr>\n",
       "    <tr>\n",
       "      <th>2017-01-06</th>\n",
       "      <td>-5.465603</td>\n",
       "      <td>0.731387</td>\n",
       "      <td>0.340322</td>\n",
       "      <td>-4.613235</td>\n",
       "      <td>1.154764</td>\n",
       "      <td>A</td>\n",
       "      <td>47.668</td>\n",
       "    </tr>\n",
       "    <tr>\n",
       "      <th>2017-01-09</th>\n",
       "      <td>-5.977897</td>\n",
       "      <td>1.172599</td>\n",
       "      <td>0.107106</td>\n",
       "      <td>-4.593020</td>\n",
       "      <td>1.132056</td>\n",
       "      <td>A</td>\n",
       "      <td>47.817</td>\n",
       "    </tr>\n",
       "    <tr>\n",
       "      <th>...</th>\n",
       "      <td>...</td>\n",
       "      <td>...</td>\n",
       "      <td>...</td>\n",
       "      <td>...</td>\n",
       "      <td>...</td>\n",
       "      <td>...</td>\n",
       "      <td>...</td>\n",
       "    </tr>\n",
       "    <tr>\n",
       "      <th>2017-11-06</th>\n",
       "      <td>-6.903199</td>\n",
       "      <td>-1.760332</td>\n",
       "      <td>-1.418393</td>\n",
       "      <td>4.088618</td>\n",
       "      <td>0.799909</td>\n",
       "      <td>ZYNE</td>\n",
       "      <td>11.190</td>\n",
       "    </tr>\n",
       "    <tr>\n",
       "      <th>2017-11-07</th>\n",
       "      <td>-6.796380</td>\n",
       "      <td>-1.978180</td>\n",
       "      <td>-1.165790</td>\n",
       "      <td>4.113964</td>\n",
       "      <td>0.734404</td>\n",
       "      <td>ZYNE</td>\n",
       "      <td>10.830</td>\n",
       "    </tr>\n",
       "    <tr>\n",
       "      <th>2017-11-08</th>\n",
       "      <td>-6.773013</td>\n",
       "      <td>-2.083958</td>\n",
       "      <td>-1.029962</td>\n",
       "      <td>4.123684</td>\n",
       "      <td>0.727150</td>\n",
       "      <td>ZYNE</td>\n",
       "      <td>10.900</td>\n",
       "    </tr>\n",
       "    <tr>\n",
       "      <th>2017-11-09</th>\n",
       "      <td>-7.115683</td>\n",
       "      <td>-1.690110</td>\n",
       "      <td>-1.202882</td>\n",
       "      <td>4.137377</td>\n",
       "      <td>0.783180</td>\n",
       "      <td>ZYNE</td>\n",
       "      <td>11.600</td>\n",
       "    </tr>\n",
       "    <tr>\n",
       "      <th>2017-11-10</th>\n",
       "      <td>-7.551065</td>\n",
       "      <td>-1.215361</td>\n",
       "      <td>-1.301172</td>\n",
       "      <td>4.140841</td>\n",
       "      <td>0.872513</td>\n",
       "      <td>ZYNE</td>\n",
       "      <td>12.460</td>\n",
       "    </tr>\n",
       "  </tbody>\n",
       "</table>\n",
       "<p>386566 rows × 7 columns</p>\n",
       "</div>"
      ],
      "text/plain": [
       "            Feature_1  Feature_2  Feature_3  Feature_4  Feature_5 Ticker  \\\n",
       "Date                                                                       \n",
       "2017-01-03  -4.694621   0.050102   0.525245  -4.551044   1.058598      A   \n",
       "2017-01-04  -4.948428   0.293337   0.468583  -4.553871   1.065424      A   \n",
       "2017-01-05  -4.885045   0.113366   0.636895  -4.541259   1.020767      A   \n",
       "2017-01-06  -5.465603   0.731387   0.340322  -4.613235   1.154764      A   \n",
       "2017-01-09  -5.977897   1.172599   0.107106  -4.593020   1.132056      A   \n",
       "...               ...        ...        ...        ...        ...    ...   \n",
       "2017-11-06  -6.903199  -1.760332  -1.418393   4.088618   0.799909   ZYNE   \n",
       "2017-11-07  -6.796380  -1.978180  -1.165790   4.113964   0.734404   ZYNE   \n",
       "2017-11-08  -6.773013  -2.083958  -1.029962   4.123684   0.727150   ZYNE   \n",
       "2017-11-09  -7.115683  -1.690110  -1.202882   4.137377   0.783180   ZYNE   \n",
       "2017-11-10  -7.551065  -1.215361  -1.301172   4.140841   0.872513   ZYNE   \n",
       "\n",
       "             Close  \n",
       "Date                \n",
       "2017-01-03  46.178  \n",
       "2017-01-04  46.784  \n",
       "2017-01-05  46.228  \n",
       "2017-01-06  47.668  \n",
       "2017-01-09  47.817  \n",
       "...            ...  \n",
       "2017-11-06  11.190  \n",
       "2017-11-07  10.830  \n",
       "2017-11-08  10.900  \n",
       "2017-11-09  11.600  \n",
       "2017-11-10  12.460  \n",
       "\n",
       "[386566 rows x 7 columns]"
      ]
     },
     "execution_count": 2,
     "metadata": {},
     "output_type": "execute_result"
    }
   ],
   "source": [
    "stock_df = pd.read_csv('pca_stock_result.csv')\n",
    "# Convert the 'Date' column to datetime, and set it as index\n",
    "stock_df['Date'] = pd.to_datetime(stock_df['Date'])\n",
    "stock_df.set_index('Date', inplace=True)\n",
    "stock_df"
   ]
  },
  {
   "cell_type": "markdown",
   "id": "14f12cb7-6941-4ba3-82f1-959720e4b2d0",
   "metadata": {
    "tags": []
   },
   "source": [
    "#### Splitting data into training and testing set"
   ]
  },
  {
   "cell_type": "code",
   "execution_count": 3,
   "id": "fdf347f5-6c6f-44e0-ba08-e6949e2abdb8",
   "metadata": {
    "tags": []
   },
   "outputs": [
    {
     "name": "stdout",
     "output_type": "stream",
     "text": [
      "Shape of X_train: (269495, 6)\n",
      "Shape of X_test: (58470, 6)\n",
      "Shape of X_valid: (58601, 6)\n",
      "Shape of y_train: (269495, 1)\n",
      "Shape of y_test: (58470, 1)\n",
      "Shape of y_valid: (58601, 1)\n"
     ]
    }
   ],
   "source": [
    "# Sort the stock_df by 'Ticker' and by 'Date'. \n",
    "stock_df.sort_values(['Ticker', 'Date'], inplace=True)\n",
    "\n",
    "# 'row_num' to enumerates rows within each group of the same 'Ticker'\n",
    "stock_df['row_num'] = stock_df.groupby('Ticker').cumcount() + 1\n",
    "\n",
    "# Calculating total count per partition\n",
    "partition_counts = stock_df.groupby('Ticker').size().reset_index(name='partition_count')\n",
    "\n",
    "# Merging the counts with the DataFrame\n",
    "stock_df_with_counts = pd.merge(stock_df, partition_counts, on='Ticker', how='left')\n",
    "\n",
    "# Calculate the thresholds for train, test, and valid partitions\n",
    "stock_df_with_counts['partition_threshold'] = stock_df_with_counts['partition_count'] * 0.7\n",
    "stock_df_with_counts['test_threshold'] = stock_df_with_counts['partition_count'] * 0.85\n",
    "\n",
    "# Filter the DataFrame per partition based on the thresholds\n",
    "train_data = stock_df_with_counts[stock_df_with_counts['row_num'] <= stock_df_with_counts['partition_threshold']]\n",
    "test_data = stock_df_with_counts[(stock_df_with_counts['row_num'] > stock_df_with_counts['partition_threshold']) &\n",
    "                                (stock_df_with_counts['row_num'] <= stock_df_with_counts['test_threshold'])]\n",
    "valid_data = stock_df_with_counts[stock_df_with_counts['row_num'] > stock_df_with_counts['test_threshold']]\n",
    "\n",
    "# Lower all column names \n",
    "train_data.columns = map(str.lower, train_data.columns)\n",
    "test_data.columns = map(str.lower, test_data.columns)\n",
    "valid_data.columns = map(str.lower, valid_data.columns)\n",
    "\n",
    "# Drop all unnessary columns \n",
    "train_data = train_data.drop(columns=['row_num', 'partition_count', 'partition_threshold', 'test_threshold'], axis=1)\n",
    "test_data = test_data.drop(columns=['row_num', 'partition_count', 'partition_threshold', 'test_threshold'], axis=1)\n",
    "valid_data = valid_data.drop(columns=['row_num', 'partition_count', 'partition_threshold', 'test_threshold'], axis=1)\n",
    "\n",
    "# Split into X and y \n",
    "X_train = train_data.drop('close', axis=1)\n",
    "X_test = test_data.drop('close', axis=1)\n",
    "X_valid = valid_data.drop('close', axis=1)\n",
    "y_train = train_data[['close']]\n",
    "y_test = test_data[['close']]\n",
    "y_valid = valid_data[['close']]\n",
    "print(\"Shape of X_train:\", X_train.shape)\n",
    "print(\"Shape of X_test:\", X_test.shape)\n",
    "print(\"Shape of X_valid:\", X_valid.shape)\n",
    "print(\"Shape of y_train:\", y_train.shape)\n",
    "print(\"Shape of y_test:\", y_test.shape)\n",
    "print(\"Shape of y_valid:\", y_valid.shape)"
   ]
  },
  {
   "cell_type": "code",
   "execution_count": 4,
   "id": "267d4c18-2517-40ce-b233-242e71ad1513",
   "metadata": {},
   "outputs": [
    {
     "data": {
      "application/javascript": [
       "\n",
       "        if (window._pyforest_update_imports_cell) { window._pyforest_update_imports_cell('from sklearn.preprocessing import LabelEncoder'); }\n",
       "    "
      ],
      "text/plain": [
       "<IPython.core.display.Javascript object>"
      ]
     },
     "metadata": {},
     "output_type": "display_data"
    },
    {
     "name": "stdout",
     "output_type": "stream",
     "text": [
      "X_train columns check: Index(['feature_1', 'feature_2', 'feature_3', 'feature_4', 'feature_5'], dtype='object')\n",
      "X_test columns check: Index(['feature_1', 'feature_2', 'feature_3', 'feature_4', 'feature_5'], dtype='object')\n",
      "X_valid columns check: Index(['feature_1', 'feature_2', 'feature_3', 'feature_4', 'feature_5'], dtype='object')\n",
      "Sum of null value if exist in X_train: feature_1    0\n",
      "feature_2    0\n",
      "feature_3    0\n",
      "feature_4    0\n",
      "feature_5    0\n",
      "ticker       0\n",
      "dtype: int64\n",
      "Sum of null value if exist in X_test: feature_1    0\n",
      "feature_2    0\n",
      "feature_3    0\n",
      "feature_4    0\n",
      "feature_5    0\n",
      "ticker       0\n",
      "dtype: int64\n",
      "Sum of null value if exist in X_valid: feature_1    0\n",
      "feature_2    0\n",
      "feature_3    0\n",
      "feature_4    0\n",
      "feature_5    0\n",
      "ticker       0\n",
      "dtype: int64\n",
      "Shape of training features: (269495, 6)\n",
      "Shape of test features: (58470, 6)\n",
      "Shape of valid features: (58601, 6)\n",
      "Shape of training target: (269495, 1)\n",
      "Shape of test target: (58470, 1)\n",
      "Shape of valid target: (58601, 1)\n",
      "Train set: \n",
      "        feature_1  feature_2  feature_3  feature_4  feature_5  ticker\n",
      "269490   0.027960  -5.010235   0.437295   4.014645   0.559701    1871\n",
      "269491  -0.540750  -3.842529  -0.570200   4.067924   0.766602    1871\n",
      "269492   4.006511  -8.657852   2.992407   3.518763   1.263978    1871\n",
      "269493   5.356845  -9.007909   2.497050   4.147064   1.118489    1871\n",
      "269494   5.577453  -7.938635   1.213644   4.069383   1.544077    1871\n",
      "Test set:\n",
      "       feature_1  feature_2  feature_3  feature_4  feature_5  ticker\n",
      "58465  -1.996578  -2.767279  -3.950235   4.200832   0.965032    1866\n",
      "58466  -2.161328  -2.846956  -3.748161   4.197274   0.936594    1866\n",
      "58467  -2.304233  -2.927730  -3.572446   4.164762   0.933053    1866\n",
      "58468  -2.352760  -3.081475  -3.366854   4.185546   0.936339    1866\n",
      "58469  -2.399862  -3.202720  -3.206704   4.183147   0.920082    1866\n",
      "Target:\n",
      "        close\n",
      "386528   6.38\n",
      "386529   6.34\n",
      "386530   6.23\n",
      "386531   5.93\n",
      "386532   5.84\n"
     ]
    }
   ],
   "source": [
    "# Perform label encoder\n",
    "label_encoder = LabelEncoder()\n",
    "train_ticker_encoder = label_encoder.fit_transform(X_train['ticker'])\n",
    "train_ticker_encoder = pd.DataFrame(train_ticker_encoder, columns=['ticker'])\n",
    "test_ticker_encoder = label_encoder.fit_transform(X_test['ticker'])\n",
    "test_ticker_encoder = pd.DataFrame(test_ticker_encoder, columns=['ticker'])\n",
    "valid_ticker_encoder = label_encoder.fit_transform(X_valid['ticker'])\n",
    "valid_ticker_encoder = pd.DataFrame(valid_ticker_encoder, columns=['ticker'])\n",
    "\n",
    "# Drop the original 'ticker' column\n",
    "X_train.drop(['ticker'],axis=1,inplace=True)\n",
    "X_test.drop(['ticker'],axis=1,inplace=True)\n",
    "X_valid.drop(['ticker'],axis=1,inplace=True)\n",
    "print(\"X_train columns check:\", X_train.columns)\n",
    "print(\"X_test columns check:\", X_test.columns)\n",
    "print(\"X_valid columns check:\", X_valid.columns)\n",
    "\n",
    "# Reset the index of the training and testing data\n",
    "X_train = X_train.reset_index(drop=True)\n",
    "X_test = X_test.reset_index(drop=True)\n",
    "X_valid = X_valid.reset_index(drop=True)\n",
    "train_ticker_encoder = train_ticker_encoder.reset_index(drop=True)\n",
    "test_ticker_encoder = test_ticker_encoder.reset_index(drop=True)\n",
    "valid_ticker_encoder = valid_ticker_encoder.reset_index(drop=True)\n",
    "\n",
    "# Concatenate the encoded 'ticker' with the original DataFrames\n",
    "X_train = pd.concat([X_train, train_ticker_encoder], axis=1)\n",
    "X_test = pd.concat([X_test, test_ticker_encoder], axis=1)\n",
    "X_valid = pd.concat([X_valid, valid_ticker_encoder], axis=1)\n",
    "\n",
    "print(f\"Sum of null value if exist in X_train:\", X_train.isnull().sum())\n",
    "print(f\"Sum of null value if exist in X_test:\", X_test.isnull().sum())\n",
    "print(f\"Sum of null value if exist in X_valid:\", X_valid.isnull().sum())\n",
    "print(f\"Shape of training features:\", X_train.shape)\n",
    "print(f\"Shape of test features:\", X_test.shape)\n",
    "print(f\"Shape of valid features:\", X_valid.shape)\n",
    "print(f\"Shape of training target:\", y_train.shape)\n",
    "print(f\"Shape of test target:\", y_test.shape)\n",
    "print(f\"Shape of valid target:\", y_valid.shape)\n",
    "print(f\"Train set: \")\n",
    "print(X_train.tail())\n",
    "print(f\"Test set:\" )\n",
    "print(X_test.tail())\n",
    "print(f\"Target:\" )\n",
    "print(y_test.tail())"
   ]
  },
  {
   "cell_type": "code",
   "execution_count": 5,
   "id": "6438c181-c39b-4419-abbf-61a0d1f1e494",
   "metadata": {},
   "outputs": [
    {
     "name": "stdout",
     "output_type": "stream",
     "text": [
      "<class 'numpy.ndarray'>\n",
      "(269495,)\n",
      "<class 'numpy.ndarray'>\n",
      "(58470,)\n",
      "<class 'numpy.ndarray'>\n",
      "(58601,)\n"
     ]
    }
   ],
   "source": [
    "# Convert to a one-dimensional NumPy array\n",
    "y_train = y_train.values.ravel()\n",
    "y_test = y_test.values.ravel()\n",
    "y_valid = y_valid.values.ravel()\n",
    "print(type(y_train))\n",
    "print(y_train.shape)\n",
    "print(type(y_test))\n",
    "print(y_test.shape)\n",
    "print(type(y_valid))\n",
    "print(y_valid.shape)"
   ]
  },
  {
   "cell_type": "markdown",
   "id": "2e4d42a6-53fb-455c-9add-234a366b77e0",
   "metadata": {
    "jp-MarkdownHeadingCollapsed": true,
    "tags": []
   },
   "source": [
    "#### 4.2.1. ARIMA Model"
   ]
  },
  {
   "cell_type": "markdown",
   "id": "0bde65d4-b00e-444e-8236-5823fa736250",
   "metadata": {
    "jp-MarkdownHeadingCollapsed": true,
    "tags": []
   },
   "source": [
    "##### 4.2.1.1. Test for stationarity"
   ]
  },
  {
   "cell_type": "markdown",
   "id": "2387ef7d-22be-4a92-9361-45c39640247e",
   "metadata": {},
   "source": [
    "The data is stationary if they do not have trend or any seasonal effects. And if the data is non-stationary, then we have to convert it to stationary data before fitting into the ARIMA model. To check whether the data is stationary, we will use Augmented Dicky-Fuller (ADF) test.\n",
    "\n",
    "The ADF test, also known as the “unit root test”, is a statistical test to inform the degree to which a null hypothesis can be rejected or fail to reject. The p-value below a threshold (1%, 5%, 10%) suggests we can reject the null hypothesis [2]. \n",
    "\n",
    "- Null Hypothesis \\(H<sub>0</sub>\\): If failed to be rejected, it suggests the time series has a unit root, meaning it is non-stationary.\n",
    "- Alternative Hypothesis \\(H<sub>1</sub>): The null hypothesis is rejected and suggests the time series does not have a unit root, meaning it is stationary."
   ]
  },
  {
   "cell_type": "code",
   "execution_count": 6,
   "id": "5f6fd631-ffe0-4a35-8a52-cddbaf23529a",
   "metadata": {},
   "outputs": [
    {
     "name": "stdout",
     "output_type": "stream",
     "text": [
      "Test Statistics                   -42.395700\n",
      "p-value                             0.000000\n",
      "No. of lags used                   87.000000\n",
      "Number of observations used    269407.000000\n",
      "Critical value (1%)                -3.430374\n",
      "Critical value (5%)                -2.861551\n",
      "Critical value (10%)               -2.566776\n",
      "dtype: float64\n"
     ]
    }
   ],
   "source": [
    "# Checking the stationarity\n",
    "def adf_test(timeseries):\n",
    "    # # Determing rolling statistics\n",
    "    # moving_average = timeseries.rolling(12).mean()\n",
    "    # moving_std = timeseries.rolling(12).std()\n",
    "    # Perform Dickey-Fuller test:\n",
    "    adft = adfuller(timeseries, autolag='AIC')\n",
    "    # Extract and display test results in a Series\n",
    "    output = pd.Series(adft[0:4], \n",
    "                       index=['Test Statistics', 'p-value', 'No. of lags used', 'Number of observations used'])\n",
    "    \n",
    "    for key, value in adft[4].items():\n",
    "        output[\"Critical value (%s)\" % key] = value\n",
    "    print(output)\n",
    "\n",
    "#  Check if y_train is stationary \n",
    "adf_test(y_train)"
   ]
  },
  {
   "cell_type": "markdown",
   "id": "a923032b-f6db-4e0d-aa48-b3e4df70503b",
   "metadata": {},
   "source": [
    "After performing Augmented Dickey-Fuller (ADF) test, we got the test statistics of $-42.395700$, which is much lower than the critical values at 1%, 5%, and 10% levels. The p-value is essentially 0, which is below the common alpha level of 0.05. This strongly suggests that we can reject the null hypothesis and conclude that our time series data is stationary."
   ]
  },
  {
   "cell_type": "markdown",
   "id": "306846f8-36e3-4c30-af17-55bda4176ff3",
   "metadata": {},
   "source": [
    "We will apply `auto_arima` function from the `pmdarima` library since it is a useful tool for automatically determining the optimal parameters for an ARIMA model based on the provided time series data. Then, we will use the returned parameters to fit our ARIMA model."
   ]
  },
  {
   "cell_type": "markdown",
   "id": "cab0ae51-44bd-4132-b1ed-77c805e89e7c",
   "metadata": {
    "jp-MarkdownHeadingCollapsed": true,
    "tags": []
   },
   "source": [
    "##### 4.1.2. Fit the Auto-ARIMA Model"
   ]
  },
  {
   "cell_type": "code",
   "execution_count": 7,
   "id": "656bc803-8581-4def-a276-97bf4a14a40b",
   "metadata": {
    "tags": []
   },
   "outputs": [],
   "source": [
    "# Fit the auto_arima model\n",
    "def fit_auto_arima(train_data, initial_p, initial_q):\n",
    "    # Use auto_arima to automatically select the best ARIMA model\n",
    "    stepwise_fit = auto_arima(train_data, \n",
    "                              start_p=1, start_q=1,\n",
    "                              max_p=initial_p, max_q=initial_q, \n",
    "                              m=1, # we want to imply non-seasonal, so we use m=1 \n",
    "                              start_P=0, \n",
    "                              seasonal=False,\n",
    "                              d=None, \n",
    "                              D=0, \n",
    "                              trace=True,\n",
    "                              error_action='ignore',\n",
    "                              suppress_warnings=True,\n",
    "                              stepwise=True)\n",
    "    return stepwise_fit"
   ]
  },
  {
   "cell_type": "code",
   "execution_count": 8,
   "id": "05c506bb-4aa9-40f8-941c-839e97ce5cff",
   "metadata": {
    "tags": []
   },
   "outputs": [
    {
     "name": "stdout",
     "output_type": "stream",
     "text": [
      "Performing stepwise search to minimize aic\n",
      " ARIMA(1,1,1)(0,0,0)[0] intercept   : AIC=3273084.231, Time=40.41 sec\n",
      " ARIMA(0,1,0)(0,0,0)[0] intercept   : AIC=3273833.696, Time=3.95 sec\n",
      " ARIMA(1,1,0)(0,0,0)[0] intercept   : AIC=3273736.597, Time=4.89 sec\n",
      " ARIMA(0,1,1)(0,0,0)[0] intercept   : AIC=3273714.470, Time=10.72 sec\n",
      " ARIMA(0,1,0)(0,0,0)[0]             : AIC=3273831.696, Time=2.17 sec\n",
      " ARIMA(2,1,1)(0,0,0)[0] intercept   : AIC=3271305.781, Time=42.62 sec\n",
      " ARIMA(2,1,0)(0,0,0)[0] intercept   : AIC=3271453.939, Time=6.98 sec\n",
      " ARIMA(3,1,1)(0,0,0)[0] intercept   : AIC=3271248.843, Time=79.34 sec\n",
      " ARIMA(3,1,0)(0,0,0)[0] intercept   : AIC=3271385.532, Time=7.93 sec\n",
      " ARIMA(4,1,1)(0,0,0)[0] intercept   : AIC=3271170.584, Time=88.41 sec\n",
      " ARIMA(4,1,0)(0,0,0)[0] intercept   : AIC=3271245.137, Time=10.13 sec\n",
      " ARIMA(5,1,1)(0,0,0)[0] intercept   : AIC=3270237.960, Time=147.23 sec\n",
      " ARIMA(5,1,0)(0,0,0)[0] intercept   : AIC=3271061.480, Time=12.54 sec\n",
      " ARIMA(5,1,2)(0,0,0)[0] intercept   : AIC=inf, Time=344.98 sec\n",
      " ARIMA(4,1,2)(0,0,0)[0] intercept   : AIC=inf, Time=263.32 sec\n",
      " ARIMA(5,1,1)(0,0,0)[0]             : AIC=3270235.960, Time=68.88 sec\n",
      " ARIMA(4,1,1)(0,0,0)[0]             : AIC=3271168.584, Time=38.91 sec\n",
      " ARIMA(5,1,0)(0,0,0)[0]             : AIC=3271059.480, Time=6.50 sec\n",
      " ARIMA(5,1,2)(0,0,0)[0]             : AIC=inf, Time=160.27 sec\n",
      " ARIMA(4,1,0)(0,0,0)[0]             : AIC=3271243.137, Time=5.37 sec\n",
      " ARIMA(4,1,2)(0,0,0)[0]             : AIC=inf, Time=121.91 sec\n",
      "\n",
      "Best model:  ARIMA(5,1,1)(0,0,0)[0]          \n",
      "Total fit time: 1469.796 seconds\n",
      "                               SARIMAX Results                                \n",
      "==============================================================================\n",
      "Dep. Variable:                      y   No. Observations:               269495\n",
      "Model:               SARIMAX(5, 1, 1)   Log Likelihood            -1635110.980\n",
      "Date:                Sat, 11 Nov 2023   AIC                        3270235.960\n",
      "Time:                        01:37:10   BIC                        3270309.491\n",
      "Sample:                             0   HQIC                       3270257.325\n",
      "                             - 269495                                         \n",
      "Covariance Type:                  opg                                         \n",
      "==============================================================================\n",
      "                 coef    std err          z      P>|z|      [0.025      0.975]\n",
      "------------------------------------------------------------------------------\n",
      "ar.L1         -0.7433      0.001   -984.824      0.000      -0.745      -0.742\n",
      "ar.L2         -0.0797   6.97e-05  -1143.712      0.000      -0.080      -0.080\n",
      "ar.L3         -0.0907      0.000   -699.278      0.000      -0.091      -0.090\n",
      "ar.L4         -0.0342      0.000   -246.334      0.000      -0.034      -0.034\n",
      "ar.L5         -0.0571      0.000   -445.590      0.000      -0.057      -0.057\n",
      "ma.L1          0.7643      0.001   1028.295      0.000       0.763       0.766\n",
      "sigma2      1.094e+04      0.132   8.32e+04      0.000    1.09e+04    1.09e+04\n",
      "===================================================================================\n",
      "Ljung-Box (L1) (Q):                   0.27   Jarque-Bera (JB):   125213344259452.41\n",
      "Prob(Q):                              0.61   Prob(JB):                         0.00\n",
      "Heteroskedasticity (H):             638.52   Skew:                           275.95\n",
      "Prob(H) (two-sided):                  0.00   Kurtosis:                    105599.72\n",
      "===================================================================================\n",
      "\n",
      "Warnings:\n",
      "[1] Covariance matrix calculated using the outer product of gradients (complex-step).\n"
     ]
    }
   ],
   "source": [
    "# Fit an auto ARIMA model to the y_train dataset \n",
    "auto_arima_model = fit_auto_arima(y_train,5,5)\n",
    "print(auto_arima_model.summary())"
   ]
  },
  {
   "cell_type": "code",
   "execution_count": 9,
   "id": "51b4c48b-c492-4257-ae6f-b80f01f17103",
   "metadata": {},
   "outputs": [
    {
     "data": {
      "image/png": "[encoded data removed]",
      "text/plain": [
       "<Figure size 720x432 with 4 Axes>"
      ]
     },
     "metadata": {
      "needs_background": "light"
     },
     "output_type": "display_data"
    }
   ],
   "source": [
    "# Display diagnostic plots for the auto_arima_model to assess its fit\n",
    "auto_arima_model.plot_diagnostics(figsize=(14,10))\n",
    "plt.show()"
   ]
  },
  {
   "cell_type": "markdown",
   "id": "def92417-2cba-44af-977c-caa4905c0ae4",
   "metadata": {},
   "source": [
    "ARIMA is a class of models used for time series forecasting and analysis. It combines autoregressive (AR), differencing (I), and moving average (MA) components to model and predict time series data.\n",
    "\n",
    "**5**: This is the number of autoregressive (AR) terms in the model. The autoregressive component captures the relationship between the current value in the time series and its past values. In this case, there are 5 lagged (previous) values of the time series that will be used as predictors in the model.\n",
    "\n",
    "**1**: This is the differencing order (I) in the model. The differencing component is used to make the time series stationary by taking differences between consecutive observations. A value of 1 indicates that first-order differencing is applied, which means that each value in the time series is replaced by the difference between it and the previous value.\n",
    "\n",
    "**1**: This is the number of moving average (MA) terms in the model. The moving average component models the relationship between the current value and past white noise (random) error terms. In this case, there is 1 lagged white noise error term included in the model.\n",
    "\n",
    "In summary, ARIMA(5,1,1) is 5 autoregressive terms, 1 order of differencing, and 1 moving average term. And all coefficients being statistically significant. \n",
    "\n",
    "<!-- There are signs of non-normality and heteroskedasticity in the residuals according to the Jarque-Bera and heteroskedasticity tests -->"
   ]
  },
  {
   "cell_type": "code",
   "execution_count": 11,
   "id": "d211b3e7-29d0-4bc0-8725-e7d6d046df80",
   "metadata": {},
   "outputs": [
    {
     "name": "stdout",
     "output_type": "stream",
     "text": [
      "                               SARIMAX Results                                \n",
      "==============================================================================\n",
      "Dep. Variable:                      y   No. Observations:               269495\n",
      "Model:                 ARIMA(5, 1, 1)   Log Likelihood            -1635110.980\n",
      "Date:                Sat, 11 Nov 2023   AIC                        3270235.960\n",
      "Time:                        01:41:06   BIC                        3270309.491\n",
      "Sample:                             0   HQIC                       3270257.325\n",
      "                             - 269495                                         \n",
      "Covariance Type:                  opg                                         \n",
      "==============================================================================\n",
      "                 coef    std err          z      P>|z|      [0.025      0.975]\n",
      "------------------------------------------------------------------------------\n",
      "ar.L1         -0.7433      0.001   -984.824      0.000      -0.745      -0.742\n",
      "ar.L2         -0.0797   6.97e-05  -1143.712      0.000      -0.080      -0.080\n",
      "ar.L3         -0.0907      0.000   -699.278      0.000      -0.091      -0.090\n",
      "ar.L4         -0.0342      0.000   -246.334      0.000      -0.034      -0.034\n",
      "ar.L5         -0.0571      0.000   -445.590      0.000      -0.057      -0.057\n",
      "ma.L1          0.7643      0.001   1028.295      0.000       0.763       0.766\n",
      "sigma2      1.094e+04      0.132   8.32e+04      0.000    1.09e+04    1.09e+04\n",
      "===================================================================================\n",
      "Ljung-Box (L1) (Q):                   0.27   Jarque-Bera (JB):   125213344259452.41\n",
      "Prob(Q):                              0.61   Prob(JB):                         0.00\n",
      "Heteroskedasticity (H):             638.52   Skew:                           275.95\n",
      "Prob(H) (two-sided):                  0.00   Kurtosis:                    105599.72\n",
      "===================================================================================\n",
      "\n",
      "Warnings:\n",
      "[1] Covariance matrix calculated using the outer product of gradients (complex-step).\n"
     ]
    },
    {
     "data": {
      "image/png": "[encoded data removed]",
      "text/plain": [
       "<Figure size 504x360 with 1 Axes>"
      ]
     },
     "metadata": {
      "needs_background": "light"
     },
     "output_type": "display_data"
    }
   ],
   "source": [
    "def fit_arima(train_data, p, d, q):\n",
    "    arima_model = ARIMA(train_data, order=(p, d, q))\n",
    "    arima_result = arima_model.fit()\n",
    "    return arima_result\n",
    "\n",
    "# Buid and fit ARIMA model with order (p,d,q)=(5,1,1)\n",
    "arima_result_1 = fit_arima(y_train, 5, 1, 1)\n",
    "print(arima_result_1.summary())\n",
    "\n",
    "# Forecasting stock prices on the test \n",
    "arima_forecast_1 = arima_result_1.get_forecast(steps=len(y_test))\n",
    "arima_forecast_values_1 = arima_forecast_1.predicted_mean  \n",
    "conf_int_1 = arima_forecast_1.conf_int()\n",
    "\n",
    "# Plot forecast results against actual data \n",
    "plt.figure(figsize=(7, 5))\n",
    "plt.plot(y_test, label='Actual Test Data')  # Plot y_test directly\n",
    "plt.plot(y_test, arima_forecast_values_1, label='ARIMA(5,1,1) Forecast')\n",
    "plt.fill_between(\n",
    "    range(len(y_test)),\n",
    "    conf_int_1[:, 0],  \n",
    "    conf_int_1[:, 1],  \n",
    "    color='pink',\n",
    "    alpha=0.3,\n",
    "    label='95% Confidence Interval'\n",
    ")\n",
    "plt.title(\"Figure 5. ARIMA(5,1,1) Forecast vs Actual Test Data\", fontsize=14, color='r')\n",
    "plt.xlabel(\"Time Step\")\n",
    "plt.ylabel(\"Values\")\n",
    "plt.legend(loc='upper left', fontsize=10)\n",
    "plt.show()"
   ]
  },
  {
   "cell_type": "code",
   "execution_count": null,
   "id": "abeb681a-2816-4c65-a0f7-4dab44caf0ee",
   "metadata": {
    "tags": []
   },
   "outputs": [],
   "source": [
    "# Since it's too large dataset, kernel was interruptted during middle of training \n",
    "auto_arima_model = fit_auto_arima(y_train,6,6)\n",
    "print(auto_arima_model.summary())"
   ]
  },
  {
   "cell_type": "markdown",
   "id": "bef366f8-efbe-4da5-bf04-a2e977d3da78",
   "metadata": {},
   "source": [
    "Even kernel was interrupted, we still can see ARIMA(4,1,3) has smaller AIC than any other param values. We could fit in on our training to see if this model make any significant improvement on forecasting."
   ]
  },
  {
   "cell_type": "code",
   "execution_count": 12,
   "id": "8d55e068-4fc5-41fe-b2a7-bf5144221f21",
   "metadata": {},
   "outputs": [
    {
     "name": "stderr",
     "output_type": "stream",
     "text": [
      "/Users/vanle/opt/anaconda3/lib/python3.9/site-packages/statsmodels/tsa/statespace/sarimax.py:966: UserWarning: Non-stationary starting autoregressive parameters found. Using zeros as starting parameters.\n",
      "  warn('Non-stationary starting autoregressive parameters'\n",
      "/Users/vanle/opt/anaconda3/lib/python3.9/site-packages/statsmodels/tsa/statespace/sarimax.py:978: UserWarning: Non-invertible starting MA parameters found. Using zeros as starting parameters.\n",
      "  warn('Non-invertible starting MA parameters found.'\n",
      "/Users/vanle/opt/anaconda3/lib/python3.9/site-packages/statsmodels/base/model.py:604: ConvergenceWarning: Maximum Likelihood optimization failed to converge. Check mle_retvals\n",
      "  warnings.warn(\"Maximum Likelihood optimization failed to \"\n"
     ]
    },
    {
     "name": "stdout",
     "output_type": "stream",
     "text": [
      "                               SARIMAX Results                                \n",
      "==============================================================================\n",
      "Dep. Variable:                      y   No. Observations:               269495\n",
      "Model:                 ARIMA(4, 1, 3)   Log Likelihood            -1633718.012\n",
      "Date:                Sat, 11 Nov 2023   AIC                        3267452.024\n",
      "Time:                        01:44:12   BIC                        3267536.058\n",
      "Sample:                             0   HQIC                       3267476.441\n",
      "                             - 269495                                         \n",
      "Covariance Type:                  opg                                         \n",
      "==============================================================================\n",
      "                 coef    std err          z      P>|z|      [0.025      0.975]\n",
      "------------------------------------------------------------------------------\n",
      "ar.L1          0.1077      0.000    442.201      0.000       0.107       0.108\n",
      "ar.L2         -0.4341      0.000  -2461.911      0.000      -0.434      -0.434\n",
      "ar.L3          0.7393      0.000   2851.639      0.000       0.739       0.740\n",
      "ar.L4         -0.1068   8.21e-05  -1301.760      0.000      -0.107      -0.107\n",
      "ma.L1         -0.0748      0.000   -310.669      0.000      -0.075      -0.074\n",
      "ma.L2          0.4100      0.000   2501.496      0.000       0.410       0.410\n",
      "ma.L3         -0.7723      0.000  -3076.985      0.000      -0.773      -0.772\n",
      "sigma2      1.095e+04      0.134   8.15e+04      0.000    1.09e+04    1.09e+04\n",
      "===================================================================================\n",
      "Ljung-Box (L1) (Q):                   2.07   Jarque-Bera (JB):   127040617312516.30\n",
      "Prob(Q):                              0.15   Prob(JB):                         0.00\n",
      "Heteroskedasticity (H):             616.95   Skew:                           272.69\n",
      "Prob(H) (two-sided):                  0.00   Kurtosis:                    106367.49\n",
      "===================================================================================\n",
      "\n",
      "Warnings:\n",
      "[1] Covariance matrix calculated using the outer product of gradients (complex-step).\n"
     ]
    },
    {
     "data": {
      "image/png": "[encoded data removed]",
      "text/plain": [
       "<Figure size 504x360 with 1 Axes>"
      ]
     },
     "metadata": {
      "needs_background": "light"
     },
     "output_type": "display_data"
    }
   ],
   "source": [
    "# Fit the ARIMA model with order (p,d,q)=(4,1,3)\n",
    "arima_result_2 = fit_arima(y_train, 4, 1, 3)\n",
    "print(arima_result_2.summary())\n",
    "\n",
    "# Make forecasts\n",
    "arima_forecast_2 = arima_result_2.get_forecast(steps=len(y_test))\n",
    "arima_forecast_values_2 = arima_forecast_2.predicted_mean  \n",
    "conf_int_2 = arima_forecast_2.conf_int()\n",
    "\n",
    "# Plot predict results against the actual results\n",
    "plt.figure(figsize=(7, 5))\n",
    "plt.plot(y_test, label='Actual Test Data')  # Plot y_test directly\n",
    "plt.plot(y_test, arima_forecast_values_2, label='ARIMA(4,3,1) Forecast')\n",
    "plt.fill_between(\n",
    "    range(len(y_test)),\n",
    "    conf_int_2[:, 0],  \n",
    "    conf_int_2[:, 1],  \n",
    "    color='pink',\n",
    "    alpha=0.3,\n",
    "    label='95% Confidence Interval'\n",
    ")\n",
    "plt.title(\"Figure 6. ARIMA(4,3,1) Forecast vs Actual Test Data\", fontsize=14, color='r')\n",
    "plt.xlabel(\"Time Step\")\n",
    "plt.ylabel(\"Values\")\n",
    "plt.legend(loc='upper left', fontsize=10)\n",
    "plt.show()"
   ]
  },
  {
   "cell_type": "markdown",
   "id": "7e4d3e16-10fc-4f51-ab8a-4b268ad423f8",
   "metadata": {
    "tags": []
   },
   "source": [
    "The best ARIMA model according to the Akaike Information Criterion (AIC), is an ARIMA(4,1,3) without a seasonal component. This model includes 4 autoregressive terms, a differencing order of 1, and 3 moving average term.\n",
    "\n",
    "- `IC`: The AIC value is 3270235.960, as the lower the AIC, the better the model fits time series data while penalizing for complexity.\n",
    "- `Coefficients`: All the coefficients for the autoregressive (AR) and moving average (MA) terms are significant (as $p-value < 0.05$), as indicated by the z-test.\n",
    "- `Log Likelihood`: The log likelihood of the model is quite large in the negative, indicating the likelihood of the observed data given the model.\n",
    "- `Ljung-Box Test`: The Ljung-Box test on residuals is a way to check for lack of fit. In this case, with a $p-value = 0.61$, there is no evidence of lack of fit.\n",
    "- `Jarque-Bera (JB) Test`: The JB test is extremely large, indicating that the residuals are not normally distributed. However, for large sample sizes, this test may always indicate non-normality.\n",
    "- `Heteroskedasticity (H)`: The test statistic is very high, indicating that there is heteroskedasticity in the residuals."
   ]
  },
  {
   "cell_type": "markdown",
   "id": "0ffd91fc-77a0-41bd-ba4f-070b8e8ff4ab",
   "metadata": {},
   "source": [
    "**Comparision between ARIMA(5,1,1) vs. ARIMA(4,1,3)**\n",
    "\n",
    "- Based on these result tables, both models are relatively close in terms of fit, with ARIMA(4,1,3) having a slightly better log likelihood, AIC, and BIC compares to ARIMA(5,1,1). However, the differences are not significant, and the choice between these models may depend on other factors, such as the interpretability of the model coefficients, \n",
    "\n",
    "- In ARIMA(5,1,1), the AR coefficients (ar.L1 to ar.L5) are all negative, indicating a decreasing trend in autocorrelation with lag. While ARIMA(4,1,3), the AR coefficients (ar.L1 to ar.L4) are a mix of positive and negative values, suggesting a more complex relationship.\n",
    "\n",
    "- The standard errors in both models are relatively small, indicating that the parameter estimates are precise. \n",
    "- The z-scores in ARIMA(4,3,1) are very large in absolute terms, and even larger than ARIMA(5,1,1) indicating that the coefficients are highly significant.\n",
    "\n",
    "In overall, ARIMA(4,3,1) may have little better fit to the data. However, ARIMA(5,1,1) is simpler model so it might be easy for high variety dataset. We'll evaluate the metrics to get more insights from the result for both forecast models. "
   ]
  },
  {
   "cell_type": "code",
   "execution_count": 13,
   "id": "0be3905f-1864-46c0-85fc-08bc4808729a",
   "metadata": {},
   "outputs": [],
   "source": [
    "# Define function to calculate the mean bias of forecasts \n",
    "def forecast_bias(y_true, y_pred):\n",
    "    return np.mean(y_pred - y_true)"
   ]
  },
  {
   "cell_type": "code",
   "execution_count": 14,
   "id": "d44a4a4c-0cea-456a-98c7-c068082883c6",
   "metadata": {},
   "outputs": [],
   "source": [
    "# Define function to calculate MAPE\n",
    "    return np.mean(np.abs((y_true - y_pred) / y_true)) * 100"
   ]
  },
  {
   "cell_type": "code",
   "execution_count": 15,
   "id": "ccba0273-40f1-4fde-aaac-d012fffda96d",
   "metadata": {},
   "outputs": [
    {
     "data": {
      "text/html": [
       "<div>\n",
       "<style scoped>\n",
       "    .dataframe tbody tr th:only-of-type {\n",
       "        vertical-align: middle;\n",
       "    }\n",
       "\n",
       "    .dataframe tbody tr th {\n",
       "        vertical-align: top;\n",
       "    }\n",
       "\n",
       "    .dataframe thead th {\n",
       "        text-align: right;\n",
       "    }\n",
       "</style>\n",
       "<table border=\"1\" class=\"dataframe\">\n",
       "  <thead>\n",
       "    <tr style=\"text-align: right;\">\n",
       "      <th></th>\n",
       "      <th>Model</th>\n",
       "      <th>MAE</th>\n",
       "      <th>RMSE</th>\n",
       "      <th>MAPE</th>\n",
       "      <th>Forecast Bias</th>\n",
       "      <th>Forecast Accuracy</th>\n",
       "    </tr>\n",
       "  </thead>\n",
       "  <tbody>\n",
       "    <tr>\n",
       "      <th>0</th>\n",
       "      <td>ARIMA(4,3,1)</td>\n",
       "      <td>32.016878</td>\n",
       "      <td>141.265253</td>\n",
       "      <td>107.077477</td>\n",
       "      <td>-30.018818</td>\n",
       "      <td>-0.070775</td>\n",
       "    </tr>\n",
       "    <tr>\n",
       "      <th>1</th>\n",
       "      <td>ARIMA(5,1,1)</td>\n",
       "      <td>32.726733</td>\n",
       "      <td>141.528505</td>\n",
       "      <td>100.575938</td>\n",
       "      <td>-31.234242</td>\n",
       "      <td>-0.005759</td>\n",
       "    </tr>\n",
       "  </tbody>\n",
       "</table>\n",
       "</div>"
      ],
      "text/plain": [
       "          Model        MAE        RMSE        MAPE  Forecast Bias  \\\n",
       "0  ARIMA(4,3,1)  32.016878  141.265253  107.077477     -30.018818   \n",
       "1  ARIMA(5,1,1)  32.726733  141.528505  100.575938     -31.234242   \n",
       "\n",
       "   Forecast Accuracy  \n",
       "0          -0.070775  \n",
       "1          -0.005759  "
      ]
     },
     "execution_count": 15,
     "metadata": {},
     "output_type": "execute_result"
    }
   ],
   "source": [
    "# Evaluate model performance: MAE, RMSE, MAPE\n",
    "mae1 = mean_absolute_error(y_test, arima_forecast_values_1)\n",
    "mae2 = mean_absolute_error(y_test, arima_forecast_values_2)\n",
    "\n",
    "rmse1 = np.sqrt(mean_squared_error(y_test, arima_forecast_values_1))\n",
    "rmse2 = np.sqrt(mean_squared_error(y_test, arima_forecast_values_2))\n",
    "\n",
    "mape1 = mean_absolute_percentage_error(y_test, arima_forecast_values_1)\n",
    "mape2 = mean_absolute_percentage_error(y_test, arima_forecast_values_2)\n",
    "\n",
    "bias1 = forecast_bias(y_test, arima_forecast_values_1)\n",
    "bias2 = forecast_bias(y_test, arima_forecast_values_2)\n",
    "\n",
    "# Calculate forecast accuracy\n",
    "accuracy1 = 1 - (mape1 / 100)\n",
    "accuracy2 = 1 - (mape2 / 100)\n",
    "\n",
    "# Create a comparision dataframe \n",
    "models = ['ARIMA(4,3,1)', 'ARIMA(5,1,1)']\n",
    "mae = [mae2, mae1]\n",
    "rmse = [rmse2, rmse1]\n",
    "mape = [mape2, mape1]\n",
    "bias = [bias2, bias1]\n",
    "accuracy = [accuracy2, accuracy1]\n",
    "\n",
    "# Store metrics as dictionary\n",
    "metrics_dict = {\n",
    "    \"Model\": models,\n",
    "    \"MAE\": mae,\n",
    "    \"RMSE\": rmse,\n",
    "    \"MAPE\": mape,\n",
    "    \"Forecast Bias\": bias,\n",
    "    \"Forecast Accuracy\": accuracy\n",
    "}\n",
    "\n",
    "metrics_df = pd.DataFrame(metrics_dict)\n",
    "metrics_df"
   ]
  },
  {
   "cell_type": "code",
   "execution_count": 68,
   "id": "548b79ba-a765-425f-b6dc-982f5f891ef0",
   "metadata": {},
   "outputs": [
    {
     "data": {
      "image/png": "[encoded data removed]",
      "text/plain": [
       "<Figure size 864x432 with 1 Axes>"
      ]
     },
     "metadata": {
      "needs_background": "light"
     },
     "output_type": "display_data"
    }
   ],
   "source": [
    "# Get the last 50 points of y_test and the corresponding forecasted values and confidence interval\n",
    "y_test_last_50 = y_test[-100:]\n",
    "forecast_values_last_50 = arima_forecast_values_1[-100:]\n",
    "conf_int_last_50 = conf_int_1[-100:]\n",
    "\n",
    "# Create a range of values for the x-axis\n",
    "x_axis_last_50 = range(len(y_test_last_50))\n",
    "\n",
    "# Plot forecast results against actual data for the last 50 points\n",
    "plt.figure(figsize=(12, 6))\n",
    "plt.plot(x_axis_last_50, y_test_last_50, label='Actual Test Data', color='blue', linewidth=2)\n",
    "plt.plot(x_axis_last_50, forecast_values_last_50, label='ARIMA(5,1,1) Forecast', color='red', linewidth=2)\n",
    "plt.fill_between(x_axis_last_50, \n",
    "                 conf_int_last_50[:, 0], \n",
    "                 conf_int_last_50[:, 1], \n",
    "                 color='pink', \n",
    "                 alpha=0.3, \n",
    "                 label='95% Confidence Interval')\n",
    "\n",
    "# Set y-axis limits to ignore outliers/extreme values\n",
    "plt.ylim([0,70]) \n",
    "plt.title(\"Figure 7. ARIMA(5,1,1) Forecast vs Actual Test Data (Last 50 Points)\", fontsize=14)\n",
    "plt.xlabel(\"Time Step\")\n",
    "plt.ylabel(\"Values\")\n",
    "plt.legend()\n",
    "plt.grid(True)\n",
    "plt.show()"
   ]
  },
  {
   "cell_type": "markdown",
   "id": "ee062747-93bb-4ab4-8fd4-cc2f042f96e2",
   "metadata": {
    "jp-MarkdownHeadingCollapsed": true,
    "tags": []
   },
   "source": [
    "#### 4.2.2. Random Forest Model"
   ]
  },
  {
   "cell_type": "code",
   "execution_count": 69,
   "id": "140fcc03-c083-435b-8b20-297172d8cd9f",
   "metadata": {},
   "outputs": [
    {
     "name": "stdout",
     "output_type": "stream",
     "text": [
      "MSE: 245.2810466993566\n",
      "MAE: 1.7053578921168124\n",
      "RMSE: 15.661450976820653\n",
      "MAPE: 5.677914767791941\n",
      "R-squared (Random Forest): 0.9871275572984342\n"
     ]
    }
   ],
   "source": [
    "# Model difine and training \n",
    "rf = RandomForestRegressor(max_depth=500, random_state=0)\n",
    "rf.fit(X_train,y_train)\n",
    "rf_pred = rf.predict(X_test)\n",
    "\n",
    "# evaluation\n",
    "rf_mse = mean_squared_error(y_test, rf_pred)\n",
    "rf_mae = mean_absolute_error(y_test, rf_pred)\n",
    "rf_rmse = np.sqrt(mean_squared_error(y_test, rf_pred))\n",
    "rf_mape = mean_absolute_percentage_error(y_test, rf_pred)\n",
    "rf_r2 = r2_score(y_test, rf_pred)\n",
    "\n",
    "# Print metrics\n",
    "print(\"MSE:\", rf_mse) \n",
    "print(\"MAE:\", rf_mae) \n",
    "print(\"RMSE:\", rf_rmse) \n",
    "print(\"MAPE:\", rf_mape) \n",
    "print(\"R-squared (Random Forest):\", rf_r2)"
   ]
  },
  {
   "cell_type": "code",
   "execution_count": null,
   "id": "a7b35a40-c332-41b6-8ac3-86970baa5123",
   "metadata": {},
   "outputs": [],
   "source": [
    "# Get the last 50 points of y_test and the corresponding forecasted values and confidence interval\n",
    "y_test_last_50 = y_test[-100:]\n",
    "forecast_values_last_50 = rf_pred[-100:]\n",
    "#conf_int_last_50 = conf_int_1[-100:]\n",
    "\n",
    "# Create a range of values for the x-axis\n",
    "x_axis_last_50 = range(len(y_test_last_50))\n",
    "\n",
    "# Plot forecast results against actual data for the last 50 points\n",
    "plt.figure(figsize=(12, 6))\n",
    "plt.plot(x_axis_last_50, y_test_last_50, label='Actual Test Data', color='blue', linewidth=2)\n",
    "plt.plot(x_axis_last_50, forecast_values_last_50, label='Random Forest Regressor', color='red', linewidth=2)\n",
    "\n",
    "# Set y-axis limits to ignore outliers/extreme values\n",
    "plt.ylim([0,70])\n",
    "plt.title(\"Figure 8. Random Forest Regressor vs Actual Test Data (Last 50 Points)\", fontsize=14)\n",
    "plt.xlabel(\"Time Step\")\n",
    "plt.ylabel(\"Values\")\n",
    "plt.legend()\n",
    "plt.grid(True)\n",
    "plt.show()"
   ]
  },
  {
   "cell_type": "code",
   "execution_count": null,
   "id": "c3539fb1-c832-4b70-9903-bcf36622ff2c",
   "metadata": {},
   "outputs": [],
   "source": [
    "# rf = RandomForestRegressor(random_state=0)\n",
    "\n",
    "# # Define parameter grid \n",
    "# param_grid = {\n",
    "#     'n_estimators': [100, 200, 300],\n",
    "#     'max_depth': [10, 20, 30, None],\n",
    "#     'min_samples_split': [2, 5, 10],\n",
    "#     'min_samples_leaf': [1, 2, 4],\n",
    "#     'max_features': ['auto', 'sqrt', 'log2']\n",
    "# }\n",
    "\n",
    "# # Create GridSearchCV object with cross-validation\n",
    "# grid_search = GridSearchCV(estimator=rf, param_grid=param_grid, \n",
    "#                            scoring='neg_mean_squared_error', cv=5, n_jobs=-1)\n",
    "\n",
    "# grid_search.fit(X_valid, y_train)\n",
    "# cv_results = grid_search.cv_results_\n",
    "# best_params = grid_search.best_params_\n",
    "\n",
    "# # # Plot result from cv_results\n",
    "# # mean_test_scores = cv_results['mean_test_score']\n",
    "# # max_depths = [param['max_depth'] for param in cv_results['params']]\n",
    "# # n_estimators = [param['n_estimators'] for param in cv_results['params']]\n",
    "\n",
    "# # mean_test_scores_grid = np.array(mean_test_scores).reshape(len(max_depths), len(n_estimators))\n",
    "\n",
    "# # Create a heatmap to visualize MSE\n",
    "# plt.figure(figsize=(10, 8))\n",
    "# plt.imshow(mean_test_scores_grid, cmap='viridis', origin='lower')\n",
    "# plt.colorbar(label='Mean Squared Error (MSE)')\n",
    "# plt.xticks(np.arange(len(n_estimators)), n_estimators, rotation=45)\n",
    "# plt.yticks(np.arange(len(max_depths)), max_depths)\n",
    "# plt.xlabel('Number of Estimators (n_estimators)')\n",
    "# plt.ylabel('Maximum Depth (max_depth)')\n",
    "# plt.title('Grid Search Results for Random Forest Hyperparameters')\n",
    "# plt.show()\n",
    "\n",
    "# print(\"Best Hyperparameters:\", best_params)"
   ]
  },
  {
   "cell_type": "markdown",
   "id": "97b40fa7-5ee9-452e-be6b-c6c7b4dce379",
   "metadata": {
    "jp-MarkdownHeadingCollapsed": true,
    "tags": []
   },
   "source": [
    "#### 4.2.3. SVR Model"
   ]
  },
  {
   "cell_type": "code",
   "execution_count": null,
   "id": "749059ad-6862-499d-ab16-887818e08742",
   "metadata": {},
   "outputs": [],
   "source": [
    "# Define basic SVR model and training on X_test\n",
    "svr_model = SVR()\n",
    "svr_model.fit(X_train, y_train)\n",
    "svr_pred = svr_model.predict(X_test)\n",
    "\n",
    "# Evaluation\n",
    "svr_mse = mean_squared_error(y_test, svr_pred)\n",
    "svr_mae = mean_absolute_error(y_test, svr_pred)\n",
    "svr_rmse = np.sqrt(mean_squared_error(y_test, svr_pred))\n",
    "svr_mape = mean_absolute_percentage_error(y_test, svr_pred)\n",
    "svr_r2 = r2_score(y_test, svr_pred)\n",
    "\n",
    "# Print the metrics result\n",
    "print(\"MSE:\", svr_mse) \n",
    "print(\"MAE:\", svr_mae) \n",
    "print(\"RMSE:\", svr_rmse) \n",
    "print(\"MAPE:\", svr_mape) "
   ]
  },
  {
   "cell_type": "markdown",
   "id": "eb20b2d8-fcf9-420c-b513-4e44b41333d8",
   "metadata": {
    "tags": []
   },
   "source": [
    "#### 4.2.4. Linear SVR Model"
   ]
  },
  {
   "cell_type": "code",
   "execution_count": 6,
   "id": "e76b0aa8-f756-47f2-9bd2-de9c36d1ddd6",
   "metadata": {},
   "outputs": [
    {
     "name": "stdout",
     "output_type": "stream",
     "text": [
      "MSE: 53.25887128277389\n",
      "MAE: 1.1404649475441762\n",
      "RMSE: 7.297867584628669\n",
      "MAPE: 0.1311646933757877\n",
      "R-squared: 0.997204954161102\n"
     ]
    },
    {
     "name": "stderr",
     "output_type": "stream",
     "text": [
      "/Users/vanle/opt/anaconda3/lib/python3.9/site-packages/sklearn/svm/_base.py:1206: ConvergenceWarning: Liblinear failed to converge, increase the number of iterations.\n",
      "  warnings.warn(\n"
     ]
    }
   ],
   "source": [
    "# Define basic linear SVR and training \n",
    "linear_svr = LinearSVR(loss='epsilon_insensitive', random_state=0)\n",
    "linear_svr.fit(X_train, y_train)\n",
    "linear_svr_pred = linear_svr.predict(X_test)\n",
    "\n",
    "# Evaluation \n",
    "linear_svr_mse = mean_squared_error(y_test, linear_svr_pred)\n",
    "linear_svr_mae = mean_absolute_error(y_test, linear_svr_pred)\n",
    "linear_svr_rmse = np.sqrt(mean_squared_error(y_test, linear_svr_pred))\n",
    "linear_svr_mape = mean_absolute_percentage_error(y_test, linear_svr_pred)\n",
    "linear_svr_r2 = r2_score(y_test, linear_svr_pred)\n",
    "\n",
    "# Print metrics\n",
    "print(\"MSE:\", linear_svr_mse) \n",
    "print(\"MAE:\", linear_svr_mae) \n",
    "print(\"RMSE:\", linear_svr_rmse) \n",
    "print(\"MAPE:\", linear_svr_mape) \n",
    "print(\"R-squared:\", linear_svr_r2)"
   ]
  },
  {
   "cell_type": "code",
   "execution_count": 6,
   "id": "302a2ee4-5cff-4176-a44c-61a576e7afe9",
   "metadata": {},
   "outputs": [
    {
     "name": "stderr",
     "output_type": "stream",
     "text": [
      "/Users/vanle/opt/anaconda3/lib/python3.9/site-packages/sklearn/svm/_base.py:1206: ConvergenceWarning: Liblinear failed to converge, increase the number of iterations.\n",
      "  warnings.warn(\n",
      "/Users/vanle/opt/anaconda3/lib/python3.9/site-packages/sklearn/svm/_base.py:1206: ConvergenceWarning: Liblinear failed to converge, increase the number of iterations.\n",
      "  warnings.warn(\n",
      "/Users/vanle/opt/anaconda3/lib/python3.9/site-packages/sklearn/svm/_base.py:1206: ConvergenceWarning: Liblinear failed to converge, increase the number of iterations.\n",
      "  warnings.warn(\n",
      "/Users/vanle/opt/anaconda3/lib/python3.9/site-packages/sklearn/svm/_base.py:1206: ConvergenceWarning: Liblinear failed to converge, increase the number of iterations.\n",
      "  warnings.warn(\n",
      "/Users/vanle/opt/anaconda3/lib/python3.9/site-packages/sklearn/svm/_base.py:1206: ConvergenceWarning: Liblinear failed to converge, increase the number of iterations.\n",
      "  warnings.warn(\n",
      "/Users/vanle/opt/anaconda3/lib/python3.9/site-packages/sklearn/svm/_base.py:1206: ConvergenceWarning: Liblinear failed to converge, increase the number of iterations.\n",
      "  warnings.warn(\n",
      "/Users/vanle/opt/anaconda3/lib/python3.9/site-packages/sklearn/svm/_base.py:1206: ConvergenceWarning: Liblinear failed to converge, increase the number of iterations.\n",
      "  warnings.warn(\n",
      "/Users/vanle/opt/anaconda3/lib/python3.9/site-packages/sklearn/svm/_base.py:1206: ConvergenceWarning: Liblinear failed to converge, increase the number of iterations.\n",
      "  warnings.warn(\n",
      "/Users/vanle/opt/anaconda3/lib/python3.9/site-packages/sklearn/svm/_base.py:1206: ConvergenceWarning: Liblinear failed to converge, increase the number of iterations.\n",
      "  warnings.warn(\n",
      "/Users/vanle/opt/anaconda3/lib/python3.9/site-packages/sklearn/svm/_base.py:1206: ConvergenceWarning: Liblinear failed to converge, increase the number of iterations.\n",
      "  warnings.warn(\n",
      "/Users/vanle/opt/anaconda3/lib/python3.9/site-packages/sklearn/svm/_base.py:1206: ConvergenceWarning: Liblinear failed to converge, increase the number of iterations.\n",
      "  warnings.warn(\n",
      "/Users/vanle/opt/anaconda3/lib/python3.9/site-packages/sklearn/svm/_base.py:1206: ConvergenceWarning: Liblinear failed to converge, increase the number of iterations.\n",
      "  warnings.warn(\n",
      "/Users/vanle/opt/anaconda3/lib/python3.9/site-packages/sklearn/svm/_base.py:1206: ConvergenceWarning: Liblinear failed to converge, increase the number of iterations.\n",
      "  warnings.warn(\n",
      "/Users/vanle/opt/anaconda3/lib/python3.9/site-packages/sklearn/svm/_base.py:1206: ConvergenceWarning: Liblinear failed to converge, increase the number of iterations.\n",
      "  warnings.warn(\n",
      "/Users/vanle/opt/anaconda3/lib/python3.9/site-packages/sklearn/svm/_base.py:1206: ConvergenceWarning: Liblinear failed to converge, increase the number of iterations.\n",
      "  warnings.warn(\n",
      "/Users/vanle/opt/anaconda3/lib/python3.9/site-packages/sklearn/svm/_base.py:1206: ConvergenceWarning: Liblinear failed to converge, increase the number of iterations.\n",
      "  warnings.warn(\n",
      "/Users/vanle/opt/anaconda3/lib/python3.9/site-packages/sklearn/svm/_base.py:1206: ConvergenceWarning: Liblinear failed to converge, increase the number of iterations.\n",
      "  warnings.warn(\n",
      "/Users/vanle/opt/anaconda3/lib/python3.9/site-packages/sklearn/svm/_base.py:1206: ConvergenceWarning: Liblinear failed to converge, increase the number of iterations.\n",
      "  warnings.warn(\n",
      "/Users/vanle/opt/anaconda3/lib/python3.9/site-packages/sklearn/svm/_base.py:1206: ConvergenceWarning: Liblinear failed to converge, increase the number of iterations.\n",
      "  warnings.warn(\n",
      "/Users/vanle/opt/anaconda3/lib/python3.9/site-packages/sklearn/svm/_base.py:1206: ConvergenceWarning: Liblinear failed to converge, increase the number of iterations.\n",
      "  warnings.warn(\n",
      "/Users/vanle/opt/anaconda3/lib/python3.9/site-packages/sklearn/svm/_base.py:1206: ConvergenceWarning: Liblinear failed to converge, increase the number of iterations.\n",
      "  warnings.warn(\n",
      "/Users/vanle/opt/anaconda3/lib/python3.9/site-packages/sklearn/svm/_base.py:1206: ConvergenceWarning: Liblinear failed to converge, increase the number of iterations.\n",
      "  warnings.warn(\n",
      "/Users/vanle/opt/anaconda3/lib/python3.9/site-packages/sklearn/svm/_base.py:1206: ConvergenceWarning: Liblinear failed to converge, increase the number of iterations.\n",
      "  warnings.warn(\n",
      "/Users/vanle/opt/anaconda3/lib/python3.9/site-packages/sklearn/svm/_base.py:1206: ConvergenceWarning: Liblinear failed to converge, increase the number of iterations.\n",
      "  warnings.warn(\n",
      "/Users/vanle/opt/anaconda3/lib/python3.9/site-packages/sklearn/svm/_base.py:1206: ConvergenceWarning: Liblinear failed to converge, increase the number of iterations.\n",
      "  warnings.warn(\n",
      "/Users/vanle/opt/anaconda3/lib/python3.9/site-packages/sklearn/svm/_base.py:1206: ConvergenceWarning: Liblinear failed to converge, increase the number of iterations.\n",
      "  warnings.warn(\n",
      "/Users/vanle/opt/anaconda3/lib/python3.9/site-packages/sklearn/svm/_base.py:1206: ConvergenceWarning: Liblinear failed to converge, increase the number of iterations.\n",
      "  warnings.warn(\n",
      "/Users/vanle/opt/anaconda3/lib/python3.9/site-packages/sklearn/svm/_base.py:1206: ConvergenceWarning: Liblinear failed to converge, increase the number of iterations.\n",
      "  warnings.warn(\n",
      "/Users/vanle/opt/anaconda3/lib/python3.9/site-packages/sklearn/svm/_base.py:1206: ConvergenceWarning: Liblinear failed to converge, increase the number of iterations.\n",
      "  warnings.warn(\n",
      "/Users/vanle/opt/anaconda3/lib/python3.9/site-packages/sklearn/svm/_base.py:1206: ConvergenceWarning: Liblinear failed to converge, increase the number of iterations.\n",
      "  warnings.warn(\n",
      "/Users/vanle/opt/anaconda3/lib/python3.9/site-packages/sklearn/svm/_base.py:1206: ConvergenceWarning: Liblinear failed to converge, increase the number of iterations.\n",
      "  warnings.warn(\n",
      "/Users/vanle/opt/anaconda3/lib/python3.9/site-packages/sklearn/svm/_base.py:1206: ConvergenceWarning: Liblinear failed to converge, increase the number of iterations.\n",
      "  warnings.warn(\n",
      "/Users/vanle/opt/anaconda3/lib/python3.9/site-packages/sklearn/svm/_base.py:1206: ConvergenceWarning: Liblinear failed to converge, increase the number of iterations.\n",
      "  warnings.warn(\n",
      "/Users/vanle/opt/anaconda3/lib/python3.9/site-packages/sklearn/svm/_base.py:1206: ConvergenceWarning: Liblinear failed to converge, increase the number of iterations.\n",
      "  warnings.warn(\n",
      "/Users/vanle/opt/anaconda3/lib/python3.9/site-packages/sklearn/svm/_base.py:1206: ConvergenceWarning: Liblinear failed to converge, increase the number of iterations.\n",
      "  warnings.warn(\n",
      "/Users/vanle/opt/anaconda3/lib/python3.9/site-packages/sklearn/svm/_base.py:1206: ConvergenceWarning: Liblinear failed to converge, increase the number of iterations.\n",
      "  warnings.warn(\n",
      "/Users/vanle/opt/anaconda3/lib/python3.9/site-packages/sklearn/svm/_base.py:1206: ConvergenceWarning: Liblinear failed to converge, increase the number of iterations.\n",
      "  warnings.warn(\n",
      "/Users/vanle/opt/anaconda3/lib/python3.9/site-packages/sklearn/svm/_base.py:1206: ConvergenceWarning: Liblinear failed to converge, increase the number of iterations.\n",
      "  warnings.warn(\n",
      "/Users/vanle/opt/anaconda3/lib/python3.9/site-packages/sklearn/svm/_base.py:1206: ConvergenceWarning: Liblinear failed to converge, increase the number of iterations.\n",
      "  warnings.warn(\n",
      "/Users/vanle/opt/anaconda3/lib/python3.9/site-packages/sklearn/svm/_base.py:1206: ConvergenceWarning: Liblinear failed to converge, increase the number of iterations.\n",
      "  warnings.warn(\n",
      "/Users/vanle/opt/anaconda3/lib/python3.9/site-packages/sklearn/svm/_base.py:1206: ConvergenceWarning: Liblinear failed to converge, increase the number of iterations.\n",
      "  warnings.warn(\n",
      "/Users/vanle/opt/anaconda3/lib/python3.9/site-packages/sklearn/svm/_base.py:1206: ConvergenceWarning: Liblinear failed to converge, increase the number of iterations.\n",
      "  warnings.warn(\n",
      "/Users/vanle/opt/anaconda3/lib/python3.9/site-packages/sklearn/svm/_base.py:1206: ConvergenceWarning: Liblinear failed to converge, increase the number of iterations.\n",
      "  warnings.warn(\n",
      "/Users/vanle/opt/anaconda3/lib/python3.9/site-packages/sklearn/svm/_base.py:1206: ConvergenceWarning: Liblinear failed to converge, increase the number of iterations.\n",
      "  warnings.warn(\n",
      "/Users/vanle/opt/anaconda3/lib/python3.9/site-packages/sklearn/svm/_base.py:1206: ConvergenceWarning: Liblinear failed to converge, increase the number of iterations.\n",
      "  warnings.warn(\n",
      "/Users/vanle/opt/anaconda3/lib/python3.9/site-packages/sklearn/svm/_base.py:1206: ConvergenceWarning: Liblinear failed to converge, increase the number of iterations.\n",
      "  warnings.warn(\n",
      "/Users/vanle/opt/anaconda3/lib/python3.9/site-packages/sklearn/svm/_base.py:1206: ConvergenceWarning: Liblinear failed to converge, increase the number of iterations.\n",
      "  warnings.warn(\n",
      "/Users/vanle/opt/anaconda3/lib/python3.9/site-packages/sklearn/svm/_base.py:1206: ConvergenceWarning: Liblinear failed to converge, increase the number of iterations.\n",
      "  warnings.warn(\n",
      "/Users/vanle/opt/anaconda3/lib/python3.9/site-packages/sklearn/svm/_base.py:1206: ConvergenceWarning: Liblinear failed to converge, increase the number of iterations.\n",
      "  warnings.warn(\n",
      "/Users/vanle/opt/anaconda3/lib/python3.9/site-packages/sklearn/svm/_base.py:1206: ConvergenceWarning: Liblinear failed to converge, increase the number of iterations.\n",
      "  warnings.warn(\n",
      "/Users/vanle/opt/anaconda3/lib/python3.9/site-packages/sklearn/svm/_base.py:1206: ConvergenceWarning: Liblinear failed to converge, increase the number of iterations.\n",
      "  warnings.warn(\n",
      "/Users/vanle/opt/anaconda3/lib/python3.9/site-packages/sklearn/svm/_base.py:1206: ConvergenceWarning: Liblinear failed to converge, increase the number of iterations.\n",
      "  warnings.warn(\n",
      "/Users/vanle/opt/anaconda3/lib/python3.9/site-packages/sklearn/svm/_base.py:1206: ConvergenceWarning: Liblinear failed to converge, increase the number of iterations.\n",
      "  warnings.warn(\n",
      "/Users/vanle/opt/anaconda3/lib/python3.9/site-packages/sklearn/svm/_base.py:1206: ConvergenceWarning: Liblinear failed to converge, increase the number of iterations.\n",
      "  warnings.warn(\n",
      "/Users/vanle/opt/anaconda3/lib/python3.9/site-packages/sklearn/svm/_base.py:1206: ConvergenceWarning: Liblinear failed to converge, increase the number of iterations.\n",
      "  warnings.warn(\n",
      "/Users/vanle/opt/anaconda3/lib/python3.9/site-packages/sklearn/svm/_base.py:1206: ConvergenceWarning: Liblinear failed to converge, increase the number of iterations.\n",
      "  warnings.warn(\n",
      "/Users/vanle/opt/anaconda3/lib/python3.9/site-packages/sklearn/svm/_base.py:1206: ConvergenceWarning: Liblinear failed to converge, increase the number of iterations.\n",
      "  warnings.warn(\n",
      "/Users/vanle/opt/anaconda3/lib/python3.9/site-packages/sklearn/svm/_base.py:1206: ConvergenceWarning: Liblinear failed to converge, increase the number of iterations.\n",
      "  warnings.warn(\n",
      "/Users/vanle/opt/anaconda3/lib/python3.9/site-packages/sklearn/svm/_base.py:1206: ConvergenceWarning: Liblinear failed to converge, increase the number of iterations.\n",
      "  warnings.warn(\n",
      "/Users/vanle/opt/anaconda3/lib/python3.9/site-packages/sklearn/svm/_base.py:1206: ConvergenceWarning: Liblinear failed to converge, increase the number of iterations.\n",
      "  warnings.warn(\n",
      "/Users/vanle/opt/anaconda3/lib/python3.9/site-packages/sklearn/svm/_base.py:1206: ConvergenceWarning: Liblinear failed to converge, increase the number of iterations.\n",
      "  warnings.warn(\n",
      "/Users/vanle/opt/anaconda3/lib/python3.9/site-packages/sklearn/svm/_base.py:1206: ConvergenceWarning: Liblinear failed to converge, increase the number of iterations.\n",
      "  warnings.warn(\n",
      "/Users/vanle/opt/anaconda3/lib/python3.9/site-packages/sklearn/svm/_base.py:1206: ConvergenceWarning: Liblinear failed to converge, increase the number of iterations.\n",
      "  warnings.warn(\n",
      "/Users/vanle/opt/anaconda3/lib/python3.9/site-packages/sklearn/svm/_base.py:1206: ConvergenceWarning: Liblinear failed to converge, increase the number of iterations.\n",
      "  warnings.warn(\n",
      "/Users/vanle/opt/anaconda3/lib/python3.9/site-packages/sklearn/svm/_base.py:1206: ConvergenceWarning: Liblinear failed to converge, increase the number of iterations.\n",
      "  warnings.warn(\n",
      "/Users/vanle/opt/anaconda3/lib/python3.9/site-packages/sklearn/svm/_base.py:1206: ConvergenceWarning: Liblinear failed to converge, increase the number of iterations.\n",
      "  warnings.warn(\n",
      "/Users/vanle/opt/anaconda3/lib/python3.9/site-packages/sklearn/svm/_base.py:1206: ConvergenceWarning: Liblinear failed to converge, increase the number of iterations.\n",
      "  warnings.warn(\n",
      "/Users/vanle/opt/anaconda3/lib/python3.9/site-packages/sklearn/svm/_base.py:1206: ConvergenceWarning: Liblinear failed to converge, increase the number of iterations.\n",
      "  warnings.warn(\n",
      "/Users/vanle/opt/anaconda3/lib/python3.9/site-packages/sklearn/svm/_base.py:1206: ConvergenceWarning: Liblinear failed to converge, increase the number of iterations.\n",
      "  warnings.warn(\n",
      "/Users/vanle/opt/anaconda3/lib/python3.9/site-packages/sklearn/svm/_base.py:1206: ConvergenceWarning: Liblinear failed to converge, increase the number of iterations.\n",
      "  warnings.warn(\n",
      "/Users/vanle/opt/anaconda3/lib/python3.9/site-packages/sklearn/svm/_base.py:1206: ConvergenceWarning: Liblinear failed to converge, increase the number of iterations.\n",
      "  warnings.warn(\n",
      "/Users/vanle/opt/anaconda3/lib/python3.9/site-packages/sklearn/svm/_base.py:1206: ConvergenceWarning: Liblinear failed to converge, increase the number of iterations.\n",
      "  warnings.warn(\n",
      "/Users/vanle/opt/anaconda3/lib/python3.9/site-packages/sklearn/svm/_base.py:1206: ConvergenceWarning: Liblinear failed to converge, increase the number of iterations.\n",
      "  warnings.warn(\n",
      "/Users/vanle/opt/anaconda3/lib/python3.9/site-packages/sklearn/svm/_base.py:1206: ConvergenceWarning: Liblinear failed to converge, increase the number of iterations.\n",
      "  warnings.warn(\n",
      "/Users/vanle/opt/anaconda3/lib/python3.9/site-packages/sklearn/svm/_base.py:1206: ConvergenceWarning: Liblinear failed to converge, increase the number of iterations.\n",
      "  warnings.warn(\n",
      "/Users/vanle/opt/anaconda3/lib/python3.9/site-packages/sklearn/svm/_base.py:1206: ConvergenceWarning: Liblinear failed to converge, increase the number of iterations.\n",
      "  warnings.warn(\n",
      "/Users/vanle/opt/anaconda3/lib/python3.9/site-packages/sklearn/svm/_base.py:1206: ConvergenceWarning: Liblinear failed to converge, increase the number of iterations.\n",
      "  warnings.warn(\n",
      "/Users/vanle/opt/anaconda3/lib/python3.9/site-packages/sklearn/svm/_base.py:1206: ConvergenceWarning: Liblinear failed to converge, increase the number of iterations.\n",
      "  warnings.warn(\n",
      "/Users/vanle/opt/anaconda3/lib/python3.9/site-packages/sklearn/svm/_base.py:1206: ConvergenceWarning: Liblinear failed to converge, increase the number of iterations.\n",
      "  warnings.warn(\n",
      "/Users/vanle/opt/anaconda3/lib/python3.9/site-packages/sklearn/svm/_base.py:1206: ConvergenceWarning: Liblinear failed to converge, increase the number of iterations.\n",
      "  warnings.warn(\n",
      "/Users/vanle/opt/anaconda3/lib/python3.9/site-packages/sklearn/svm/_base.py:1206: ConvergenceWarning: Liblinear failed to converge, increase the number of iterations.\n",
      "  warnings.warn(\n",
      "/Users/vanle/opt/anaconda3/lib/python3.9/site-packages/sklearn/svm/_base.py:1206: ConvergenceWarning: Liblinear failed to converge, increase the number of iterations.\n",
      "  warnings.warn(\n",
      "/Users/vanle/opt/anaconda3/lib/python3.9/site-packages/sklearn/svm/_base.py:1206: ConvergenceWarning: Liblinear failed to converge, increase the number of iterations.\n",
      "  warnings.warn(\n",
      "/Users/vanle/opt/anaconda3/lib/python3.9/site-packages/sklearn/svm/_base.py:1206: ConvergenceWarning: Liblinear failed to converge, increase the number of iterations.\n",
      "  warnings.warn(\n",
      "/Users/vanle/opt/anaconda3/lib/python3.9/site-packages/sklearn/svm/_base.py:1206: ConvergenceWarning: Liblinear failed to converge, increase the number of iterations.\n",
      "  warnings.warn(\n",
      "/Users/vanle/opt/anaconda3/lib/python3.9/site-packages/sklearn/svm/_base.py:1206: ConvergenceWarning: Liblinear failed to converge, increase the number of iterations.\n",
      "  warnings.warn(\n",
      "/Users/vanle/opt/anaconda3/lib/python3.9/site-packages/sklearn/svm/_base.py:1206: ConvergenceWarning: Liblinear failed to converge, increase the number of iterations.\n",
      "  warnings.warn(\n",
      "/Users/vanle/opt/anaconda3/lib/python3.9/site-packages/sklearn/svm/_base.py:1206: ConvergenceWarning: Liblinear failed to converge, increase the number of iterations.\n",
      "  warnings.warn(\n",
      "/Users/vanle/opt/anaconda3/lib/python3.9/site-packages/sklearn/svm/_base.py:1206: ConvergenceWarning: Liblinear failed to converge, increase the number of iterations.\n",
      "  warnings.warn(\n",
      "/Users/vanle/opt/anaconda3/lib/python3.9/site-packages/sklearn/svm/_base.py:1206: ConvergenceWarning: Liblinear failed to converge, increase the number of iterations.\n",
      "  warnings.warn(\n",
      "/Users/vanle/opt/anaconda3/lib/python3.9/site-packages/sklearn/svm/_base.py:1206: ConvergenceWarning: Liblinear failed to converge, increase the number of iterations.\n",
      "  warnings.warn(\n",
      "/Users/vanle/opt/anaconda3/lib/python3.9/site-packages/sklearn/svm/_base.py:1206: ConvergenceWarning: Liblinear failed to converge, increase the number of iterations.\n",
      "  warnings.warn(\n",
      "/Users/vanle/opt/anaconda3/lib/python3.9/site-packages/sklearn/svm/_base.py:1206: ConvergenceWarning: Liblinear failed to converge, increase the number of iterations.\n",
      "  warnings.warn(\n",
      "/Users/vanle/opt/anaconda3/lib/python3.9/site-packages/sklearn/svm/_base.py:1206: ConvergenceWarning: Liblinear failed to converge, increase the number of iterations.\n",
      "  warnings.warn(\n",
      "/Users/vanle/opt/anaconda3/lib/python3.9/site-packages/sklearn/svm/_base.py:1206: ConvergenceWarning: Liblinear failed to converge, increase the number of iterations.\n",
      "  warnings.warn(\n",
      "/Users/vanle/opt/anaconda3/lib/python3.9/site-packages/sklearn/svm/_base.py:1206: ConvergenceWarning: Liblinear failed to converge, increase the number of iterations.\n",
      "  warnings.warn(\n",
      "/Users/vanle/opt/anaconda3/lib/python3.9/site-packages/sklearn/svm/_base.py:1206: ConvergenceWarning: Liblinear failed to converge, increase the number of iterations.\n",
      "  warnings.warn(\n",
      "/Users/vanle/opt/anaconda3/lib/python3.9/site-packages/sklearn/svm/_base.py:1206: ConvergenceWarning: Liblinear failed to converge, increase the number of iterations.\n",
      "  warnings.warn(\n",
      "/Users/vanle/opt/anaconda3/lib/python3.9/site-packages/sklearn/svm/_base.py:1206: ConvergenceWarning: Liblinear failed to converge, increase the number of iterations.\n",
      "  warnings.warn(\n",
      "/Users/vanle/opt/anaconda3/lib/python3.9/site-packages/sklearn/svm/_base.py:1206: ConvergenceWarning: Liblinear failed to converge, increase the number of iterations.\n",
      "  warnings.warn(\n",
      "/Users/vanle/opt/anaconda3/lib/python3.9/site-packages/sklearn/svm/_base.py:1206: ConvergenceWarning: Liblinear failed to converge, increase the number of iterations.\n",
      "  warnings.warn(\n",
      "/Users/vanle/opt/anaconda3/lib/python3.9/site-packages/sklearn/svm/_base.py:1206: ConvergenceWarning: Liblinear failed to converge, increase the number of iterations.\n",
      "  warnings.warn(\n",
      "/Users/vanle/opt/anaconda3/lib/python3.9/site-packages/sklearn/svm/_base.py:1206: ConvergenceWarning: Liblinear failed to converge, increase the number of iterations.\n",
      "  warnings.warn(\n",
      "/Users/vanle/opt/anaconda3/lib/python3.9/site-packages/sklearn/svm/_base.py:1206: ConvergenceWarning: Liblinear failed to converge, increase the number of iterations.\n",
      "  warnings.warn(\n",
      "/Users/vanle/opt/anaconda3/lib/python3.9/site-packages/sklearn/svm/_base.py:1206: ConvergenceWarning: Liblinear failed to converge, increase the number of iterations.\n",
      "  warnings.warn(\n",
      "/Users/vanle/opt/anaconda3/lib/python3.9/site-packages/sklearn/svm/_base.py:1206: ConvergenceWarning: Liblinear failed to converge, increase the number of iterations.\n",
      "  warnings.warn(\n",
      "/Users/vanle/opt/anaconda3/lib/python3.9/site-packages/sklearn/svm/_base.py:1206: ConvergenceWarning: Liblinear failed to converge, increase the number of iterations.\n",
      "  warnings.warn(\n",
      "/Users/vanle/opt/anaconda3/lib/python3.9/site-packages/sklearn/svm/_base.py:1206: ConvergenceWarning: Liblinear failed to converge, increase the number of iterations.\n",
      "  warnings.warn(\n",
      "/Users/vanle/opt/anaconda3/lib/python3.9/site-packages/sklearn/svm/_base.py:1206: ConvergenceWarning: Liblinear failed to converge, increase the number of iterations.\n",
      "  warnings.warn(\n",
      "/Users/vanle/opt/anaconda3/lib/python3.9/site-packages/sklearn/svm/_base.py:1206: ConvergenceWarning: Liblinear failed to converge, increase the number of iterations.\n",
      "  warnings.warn(\n",
      "/Users/vanle/opt/anaconda3/lib/python3.9/site-packages/sklearn/svm/_base.py:1206: ConvergenceWarning: Liblinear failed to converge, increase the number of iterations.\n",
      "  warnings.warn(\n",
      "/Users/vanle/opt/anaconda3/lib/python3.9/site-packages/sklearn/svm/_base.py:1206: ConvergenceWarning: Liblinear failed to converge, increase the number of iterations.\n",
      "  warnings.warn(\n",
      "/Users/vanle/opt/anaconda3/lib/python3.9/site-packages/sklearn/svm/_base.py:1206: ConvergenceWarning: Liblinear failed to converge, increase the number of iterations.\n",
      "  warnings.warn(\n",
      "/Users/vanle/opt/anaconda3/lib/python3.9/site-packages/sklearn/svm/_base.py:1206: ConvergenceWarning: Liblinear failed to converge, increase the number of iterations.\n",
      "  warnings.warn(\n",
      "/Users/vanle/opt/anaconda3/lib/python3.9/site-packages/sklearn/svm/_base.py:1206: ConvergenceWarning: Liblinear failed to converge, increase the number of iterations.\n",
      "  warnings.warn(\n",
      "/Users/vanle/opt/anaconda3/lib/python3.9/site-packages/sklearn/svm/_base.py:1206: ConvergenceWarning: Liblinear failed to converge, increase the number of iterations.\n",
      "  warnings.warn(\n",
      "/Users/vanle/opt/anaconda3/lib/python3.9/site-packages/sklearn/svm/_base.py:1206: ConvergenceWarning: Liblinear failed to converge, increase the number of iterations.\n",
      "  warnings.warn(\n",
      "/Users/vanle/opt/anaconda3/lib/python3.9/site-packages/sklearn/svm/_base.py:1206: ConvergenceWarning: Liblinear failed to converge, increase the number of iterations.\n",
      "  warnings.warn(\n",
      "/Users/vanle/opt/anaconda3/lib/python3.9/site-packages/sklearn/svm/_base.py:1206: ConvergenceWarning: Liblinear failed to converge, increase the number of iterations.\n",
      "  warnings.warn(\n",
      "/Users/vanle/opt/anaconda3/lib/python3.9/site-packages/sklearn/svm/_base.py:1206: ConvergenceWarning: Liblinear failed to converge, increase the number of iterations.\n",
      "  warnings.warn(\n",
      "/Users/vanle/opt/anaconda3/lib/python3.9/site-packages/sklearn/svm/_base.py:1206: ConvergenceWarning: Liblinear failed to converge, increase the number of iterations.\n",
      "  warnings.warn(\n",
      "/Users/vanle/opt/anaconda3/lib/python3.9/site-packages/sklearn/svm/_base.py:1206: ConvergenceWarning: Liblinear failed to converge, increase the number of iterations.\n",
      "  warnings.warn(\n",
      "/Users/vanle/opt/anaconda3/lib/python3.9/site-packages/sklearn/svm/_base.py:1206: ConvergenceWarning: Liblinear failed to converge, increase the number of iterations.\n",
      "  warnings.warn(\n",
      "/Users/vanle/opt/anaconda3/lib/python3.9/site-packages/sklearn/svm/_base.py:1206: ConvergenceWarning: Liblinear failed to converge, increase the number of iterations.\n",
      "  warnings.warn(\n",
      "/Users/vanle/opt/anaconda3/lib/python3.9/site-packages/sklearn/svm/_base.py:1206: ConvergenceWarning: Liblinear failed to converge, increase the number of iterations.\n",
      "  warnings.warn(\n",
      "/Users/vanle/opt/anaconda3/lib/python3.9/site-packages/sklearn/svm/_base.py:1206: ConvergenceWarning: Liblinear failed to converge, increase the number of iterations.\n",
      "  warnings.warn(\n",
      "/Users/vanle/opt/anaconda3/lib/python3.9/site-packages/sklearn/svm/_base.py:1206: ConvergenceWarning: Liblinear failed to converge, increase the number of iterations.\n",
      "  warnings.warn(\n",
      "/Users/vanle/opt/anaconda3/lib/python3.9/site-packages/sklearn/svm/_base.py:1206: ConvergenceWarning: Liblinear failed to converge, increase the number of iterations.\n",
      "  warnings.warn(\n",
      "/Users/vanle/opt/anaconda3/lib/python3.9/site-packages/sklearn/svm/_base.py:1206: ConvergenceWarning: Liblinear failed to converge, increase the number of iterations.\n",
      "  warnings.warn(\n",
      "/Users/vanle/opt/anaconda3/lib/python3.9/site-packages/sklearn/svm/_base.py:1206: ConvergenceWarning: Liblinear failed to converge, increase the number of iterations.\n",
      "  warnings.warn(\n",
      "/Users/vanle/opt/anaconda3/lib/python3.9/site-packages/sklearn/svm/_base.py:1206: ConvergenceWarning: Liblinear failed to converge, increase the number of iterations.\n",
      "  warnings.warn(\n",
      "/Users/vanle/opt/anaconda3/lib/python3.9/site-packages/sklearn/svm/_base.py:1206: ConvergenceWarning: Liblinear failed to converge, increase the number of iterations.\n",
      "  warnings.warn(\n",
      "/Users/vanle/opt/anaconda3/lib/python3.9/site-packages/sklearn/svm/_base.py:1206: ConvergenceWarning: Liblinear failed to converge, increase the number of iterations.\n",
      "  warnings.warn(\n",
      "/Users/vanle/opt/anaconda3/lib/python3.9/site-packages/sklearn/svm/_base.py:1206: ConvergenceWarning: Liblinear failed to converge, increase the number of iterations.\n",
      "  warnings.warn(\n",
      "/Users/vanle/opt/anaconda3/lib/python3.9/site-packages/sklearn/svm/_base.py:1206: ConvergenceWarning: Liblinear failed to converge, increase the number of iterations.\n",
      "  warnings.warn(\n",
      "/Users/vanle/opt/anaconda3/lib/python3.9/site-packages/sklearn/svm/_base.py:1206: ConvergenceWarning: Liblinear failed to converge, increase the number of iterations.\n",
      "  warnings.warn(\n",
      "/Users/vanle/opt/anaconda3/lib/python3.9/site-packages/sklearn/svm/_base.py:1206: ConvergenceWarning: Liblinear failed to converge, increase the number of iterations.\n",
      "  warnings.warn(\n",
      "/Users/vanle/opt/anaconda3/lib/python3.9/site-packages/sklearn/svm/_base.py:1206: ConvergenceWarning: Liblinear failed to converge, increase the number of iterations.\n",
      "  warnings.warn(\n",
      "/Users/vanle/opt/anaconda3/lib/python3.9/site-packages/sklearn/svm/_base.py:1206: ConvergenceWarning: Liblinear failed to converge, increase the number of iterations.\n",
      "  warnings.warn(\n",
      "/Users/vanle/opt/anaconda3/lib/python3.9/site-packages/sklearn/svm/_base.py:1206: ConvergenceWarning: Liblinear failed to converge, increase the number of iterations.\n",
      "  warnings.warn(\n",
      "/Users/vanle/opt/anaconda3/lib/python3.9/site-packages/sklearn/svm/_base.py:1206: ConvergenceWarning: Liblinear failed to converge, increase the number of iterations.\n",
      "  warnings.warn(\n",
      "/Users/vanle/opt/anaconda3/lib/python3.9/site-packages/sklearn/svm/_base.py:1206: ConvergenceWarning: Liblinear failed to converge, increase the number of iterations.\n",
      "  warnings.warn(\n",
      "/Users/vanle/opt/anaconda3/lib/python3.9/site-packages/sklearn/svm/_base.py:1206: ConvergenceWarning: Liblinear failed to converge, increase the number of iterations.\n",
      "  warnings.warn(\n",
      "/Users/vanle/opt/anaconda3/lib/python3.9/site-packages/sklearn/svm/_base.py:1206: ConvergenceWarning: Liblinear failed to converge, increase the number of iterations.\n",
      "  warnings.warn(\n",
      "/Users/vanle/opt/anaconda3/lib/python3.9/site-packages/sklearn/svm/_base.py:1206: ConvergenceWarning: Liblinear failed to converge, increase the number of iterations.\n",
      "  warnings.warn(\n",
      "/Users/vanle/opt/anaconda3/lib/python3.9/site-packages/sklearn/svm/_base.py:1206: ConvergenceWarning: Liblinear failed to converge, increase the number of iterations.\n",
      "  warnings.warn(\n",
      "/Users/vanle/opt/anaconda3/lib/python3.9/site-packages/sklearn/svm/_base.py:1206: ConvergenceWarning: Liblinear failed to converge, increase the number of iterations.\n",
      "  warnings.warn(\n",
      "/Users/vanle/opt/anaconda3/lib/python3.9/site-packages/sklearn/svm/_base.py:1206: ConvergenceWarning: Liblinear failed to converge, increase the number of iterations.\n",
      "  warnings.warn(\n",
      "/Users/vanle/opt/anaconda3/lib/python3.9/site-packages/sklearn/svm/_base.py:1206: ConvergenceWarning: Liblinear failed to converge, increase the number of iterations.\n",
      "  warnings.warn(\n",
      "/Users/vanle/opt/anaconda3/lib/python3.9/site-packages/sklearn/svm/_base.py:1206: ConvergenceWarning: Liblinear failed to converge, increase the number of iterations.\n",
      "  warnings.warn(\n",
      "/Users/vanle/opt/anaconda3/lib/python3.9/site-packages/sklearn/svm/_base.py:1206: ConvergenceWarning: Liblinear failed to converge, increase the number of iterations.\n",
      "  warnings.warn(\n",
      "/Users/vanle/opt/anaconda3/lib/python3.9/site-packages/sklearn/svm/_base.py:1206: ConvergenceWarning: Liblinear failed to converge, increase the number of iterations.\n",
      "  warnings.warn(\n",
      "/Users/vanle/opt/anaconda3/lib/python3.9/site-packages/sklearn/svm/_base.py:1206: ConvergenceWarning: Liblinear failed to converge, increase the number of iterations.\n",
      "  warnings.warn(\n",
      "/Users/vanle/opt/anaconda3/lib/python3.9/site-packages/sklearn/svm/_base.py:1206: ConvergenceWarning: Liblinear failed to converge, increase the number of iterations.\n",
      "  warnings.warn(\n",
      "/Users/vanle/opt/anaconda3/lib/python3.9/site-packages/sklearn/svm/_base.py:1206: ConvergenceWarning: Liblinear failed to converge, increase the number of iterations.\n",
      "  warnings.warn(\n",
      "/Users/vanle/opt/anaconda3/lib/python3.9/site-packages/sklearn/svm/_base.py:1206: ConvergenceWarning: Liblinear failed to converge, increase the number of iterations.\n",
      "  warnings.warn(\n",
      "/Users/vanle/opt/anaconda3/lib/python3.9/site-packages/sklearn/svm/_base.py:1206: ConvergenceWarning: Liblinear failed to converge, increase the number of iterations.\n",
      "  warnings.warn(\n",
      "/Users/vanle/opt/anaconda3/lib/python3.9/site-packages/sklearn/svm/_base.py:1206: ConvergenceWarning: Liblinear failed to converge, increase the number of iterations.\n",
      "  warnings.warn(\n",
      "/Users/vanle/opt/anaconda3/lib/python3.9/site-packages/sklearn/svm/_base.py:1206: ConvergenceWarning: Liblinear failed to converge, increase the number of iterations.\n",
      "  warnings.warn(\n",
      "/Users/vanle/opt/anaconda3/lib/python3.9/site-packages/sklearn/svm/_base.py:1206: ConvergenceWarning: Liblinear failed to converge, increase the number of iterations.\n",
      "  warnings.warn(\n",
      "/Users/vanle/opt/anaconda3/lib/python3.9/site-packages/sklearn/svm/_base.py:1206: ConvergenceWarning: Liblinear failed to converge, increase the number of iterations.\n",
      "  warnings.warn(\n",
      "/Users/vanle/opt/anaconda3/lib/python3.9/site-packages/sklearn/svm/_base.py:1206: ConvergenceWarning: Liblinear failed to converge, increase the number of iterations.\n",
      "  warnings.warn(\n",
      "/Users/vanle/opt/anaconda3/lib/python3.9/site-packages/sklearn/svm/_base.py:1206: ConvergenceWarning: Liblinear failed to converge, increase the number of iterations.\n",
      "  warnings.warn(\n",
      "/Users/vanle/opt/anaconda3/lib/python3.9/site-packages/sklearn/svm/_base.py:1206: ConvergenceWarning: Liblinear failed to converge, increase the number of iterations.\n",
      "  warnings.warn(\n",
      "/Users/vanle/opt/anaconda3/lib/python3.9/site-packages/sklearn/svm/_base.py:1206: ConvergenceWarning: Liblinear failed to converge, increase the number of iterations.\n",
      "  warnings.warn(\n",
      "/Users/vanle/opt/anaconda3/lib/python3.9/site-packages/sklearn/svm/_base.py:1206: ConvergenceWarning: Liblinear failed to converge, increase the number of iterations.\n",
      "  warnings.warn(\n",
      "/Users/vanle/opt/anaconda3/lib/python3.9/site-packages/sklearn/svm/_base.py:1206: ConvergenceWarning: Liblinear failed to converge, increase the number of iterations.\n",
      "  warnings.warn(\n",
      "/Users/vanle/opt/anaconda3/lib/python3.9/site-packages/sklearn/svm/_base.py:1206: ConvergenceWarning: Liblinear failed to converge, increase the number of iterations.\n",
      "  warnings.warn(\n",
      "/Users/vanle/opt/anaconda3/lib/python3.9/site-packages/sklearn/svm/_base.py:1206: ConvergenceWarning: Liblinear failed to converge, increase the number of iterations.\n",
      "  warnings.warn(\n",
      "/Users/vanle/opt/anaconda3/lib/python3.9/site-packages/sklearn/svm/_base.py:1206: ConvergenceWarning: Liblinear failed to converge, increase the number of iterations.\n",
      "  warnings.warn(\n",
      "/Users/vanle/opt/anaconda3/lib/python3.9/site-packages/sklearn/svm/_base.py:1206: ConvergenceWarning: Liblinear failed to converge, increase the number of iterations.\n",
      "  warnings.warn(\n",
      "/Users/vanle/opt/anaconda3/lib/python3.9/site-packages/sklearn/svm/_base.py:1206: ConvergenceWarning: Liblinear failed to converge, increase the number of iterations.\n",
      "  warnings.warn(\n",
      "/Users/vanle/opt/anaconda3/lib/python3.9/site-packages/sklearn/svm/_base.py:1206: ConvergenceWarning: Liblinear failed to converge, increase the number of iterations.\n",
      "  warnings.warn(\n",
      "/Users/vanle/opt/anaconda3/lib/python3.9/site-packages/sklearn/svm/_base.py:1206: ConvergenceWarning: Liblinear failed to converge, increase the number of iterations.\n",
      "  warnings.warn(\n",
      "/Users/vanle/opt/anaconda3/lib/python3.9/site-packages/sklearn/svm/_base.py:1206: ConvergenceWarning: Liblinear failed to converge, increase the number of iterations.\n",
      "  warnings.warn(\n",
      "/Users/vanle/opt/anaconda3/lib/python3.9/site-packages/sklearn/svm/_base.py:1206: ConvergenceWarning: Liblinear failed to converge, increase the number of iterations.\n",
      "  warnings.warn(\n"
     ]
    },
    {
     "name": "stdout",
     "output_type": "stream",
     "text": [
      "Best Parameters: {'C': 0.01, 'epsilon': 0.01, 'loss': 'squared_epsilon_insensitive', 'max_iter': 100000, 'tol': 0.01}\n"
     ]
    }
   ],
   "source": [
    "svr = LinearSVR() \n",
    "# Define paramters for gridsearch \n",
    "params = {\n",
    "    'C': [0.01, 0.1, 1],\n",
    "    'epsilon': [0.01, 0.1, 0.5],\n",
    "    'loss': ['epsilon_insensitive', 'squared_epsilon_insensitive'],\n",
    "    'max_iter': [10000, 50000, 100000],\n",
    "    'tol': [0.01, 0.05, 0.1]\n",
    "}\n",
    "\n",
    "# Grid Search cross-validation\n",
    "grid_search = GridSearchCV(svr, params, cv=5, scoring='neg_mean_squared_error')\n",
    "grid_search.fit(X_valid, y_valid)\n",
    "best_svr = grid_search.best_estimator_\n",
    "\n",
    "# Print the best params\n",
    "print(\"Best Parameters:\", grid_search.best_params_)"
   ]
  },
  {
   "cell_type": "code",
   "execution_count": 18,
   "id": "70a199ad-1530-4773-b868-3179541920a2",
   "metadata": {},
   "outputs": [
    {
     "ename": "AttributeError",
     "evalue": "'LinearSVR' object has no attribute 'coef_'",
     "output_type": "error",
     "traceback": [
      "\u001b[0;31m---------------------------------------------------------------------------\u001b[0m",
      "\u001b[0;31mAttributeError\u001b[0m                            Traceback (most recent call last)",
      "Input \u001b[0;32mIn [18]\u001b[0m, in \u001b[0;36m<cell line: 2>\u001b[0;34m()\u001b[0m\n\u001b[1;32m      1\u001b[0m \u001b[38;5;66;03m# Make predictions with the best estimator\u001b[39;00m\n\u001b[0;32m----> 2\u001b[0m best_svr_pred \u001b[38;5;241m=\u001b[39m \u001b[43mbest_svr\u001b[49m\u001b[38;5;241;43m.\u001b[39;49m\u001b[43mpredict\u001b[49m\u001b[43m(\u001b[49m\u001b[43mX_test\u001b[49m\u001b[43m)\u001b[49m\n",
      "File \u001b[0;32m~/opt/anaconda3/lib/python3.9/site-packages/sklearn/linear_model/_base.py:362\u001b[0m, in \u001b[0;36mLinearModel.predict\u001b[0;34m(self, X)\u001b[0m\n\u001b[1;32m    348\u001b[0m \u001b[38;5;28;01mdef\u001b[39;00m \u001b[38;5;21mpredict\u001b[39m(\u001b[38;5;28mself\u001b[39m, X):\n\u001b[1;32m    349\u001b[0m \u001b[38;5;250m    \u001b[39m\u001b[38;5;124;03m\"\"\"\u001b[39;00m\n\u001b[1;32m    350\u001b[0m \u001b[38;5;124;03m    Predict using the linear model.\u001b[39;00m\n\u001b[1;32m    351\u001b[0m \n\u001b[0;32m   (...)\u001b[0m\n\u001b[1;32m    360\u001b[0m \u001b[38;5;124;03m        Returns predicted values.\u001b[39;00m\n\u001b[1;32m    361\u001b[0m \u001b[38;5;124;03m    \"\"\"\u001b[39;00m\n\u001b[0;32m--> 362\u001b[0m     \u001b[38;5;28;01mreturn\u001b[39;00m \u001b[38;5;28;43mself\u001b[39;49m\u001b[38;5;241;43m.\u001b[39;49m\u001b[43m_decision_function\u001b[49m\u001b[43m(\u001b[49m\u001b[43mX\u001b[49m\u001b[43m)\u001b[49m\n",
      "File \u001b[0;32m~/opt/anaconda3/lib/python3.9/site-packages/sklearn/linear_model/_base.py:346\u001b[0m, in \u001b[0;36mLinearModel._decision_function\u001b[0;34m(self, X)\u001b[0m\n\u001b[1;32m    343\u001b[0m check_is_fitted(\u001b[38;5;28mself\u001b[39m)\n\u001b[1;32m    345\u001b[0m X \u001b[38;5;241m=\u001b[39m \u001b[38;5;28mself\u001b[39m\u001b[38;5;241m.\u001b[39m_validate_data(X, accept_sparse\u001b[38;5;241m=\u001b[39m[\u001b[38;5;124m\"\u001b[39m\u001b[38;5;124mcsr\u001b[39m\u001b[38;5;124m\"\u001b[39m, \u001b[38;5;124m\"\u001b[39m\u001b[38;5;124mcsc\u001b[39m\u001b[38;5;124m\"\u001b[39m, \u001b[38;5;124m\"\u001b[39m\u001b[38;5;124mcoo\u001b[39m\u001b[38;5;124m\"\u001b[39m], reset\u001b[38;5;241m=\u001b[39m\u001b[38;5;28;01mFalse\u001b[39;00m)\n\u001b[0;32m--> 346\u001b[0m \u001b[38;5;28;01mreturn\u001b[39;00m safe_sparse_dot(X, \u001b[38;5;28;43mself\u001b[39;49m\u001b[38;5;241;43m.\u001b[39;49m\u001b[43mcoef_\u001b[49m\u001b[38;5;241m.\u001b[39mT, dense_output\u001b[38;5;241m=\u001b[39m\u001b[38;5;28;01mTrue\u001b[39;00m) \u001b[38;5;241m+\u001b[39m \u001b[38;5;28mself\u001b[39m\u001b[38;5;241m.\u001b[39mintercept_\n",
      "\u001b[0;31mAttributeError\u001b[0m: 'LinearSVR' object has no attribute 'coef_'"
     ]
    }
   ],
   "source": [
    "# Make predictions with the best estimator\n",
    "best_svr_pred = best_svr.predict(X_test)"
   ]
  },
  {
   "cell_type": "code",
   "execution_count": 8,
   "id": "e8a8de2b-5cac-46c2-a1f9-15705bbff13e",
   "metadata": {},
   "outputs": [
    {
     "name": "stdout",
     "output_type": "stream",
     "text": [
      "MSE: 39.26025937690754\n",
      "MAE: 0.8437431693448024\n",
      "RMSE: 6.265800776988328\n",
      "MAPE: 0.13438983595415918\n",
      "R-squared: 0.9979396066427534\n"
     ]
    }
   ],
   "source": [
    "# Evaluate the best estimator\n",
    "best_svr_mse = mean_squared_error(y_test, best_svr_pred)\n",
    "best_svr_mae = mean_absolute_error(y_test, best_svr_pred)\n",
    "best_svr_rmse = np.sqrt(mean_squared_error(y_test, best_svr_pred))\n",
    "best_svr_mape = mean_absolute_percentage_error(y_test, best_svr_pred)\n",
    "best_svr_r2 = r2_score(y_test, best_svr_pred)\n",
    "\n",
    "# Print the evaluation metrics\n",
    "print(\"MSE:\", best_svr_mse) \n",
    "print(\"MAE:\", best_svr_mae) \n",
    "print(\"RMSE:\", best_svr_rmse) \n",
    "print(\"MAPE:\", best_svr_mape) \n",
    "print(\"R-squared:\", best_svr_r2)"
   ]
  },
  {
   "cell_type": "markdown",
   "id": "9bb7280c-c9e4-4856-963b-2a501877ca32",
   "metadata": {},
   "source": [
    "**Observation:**\n",
    "\n",
    "The tuned LinearSVR model demonstrates outperforms compared to the default model in stock price prediction, as evidenced by its improved metrics across the board. Specifically, the tuned model shows a significant reduction in Mean Squared Error (MSE) from 53.259 to 39.157, indicating a more accurate prediction with fewer errors. The Mean Absolute Error (MAE) is almost halved, decreasing from 1.140 to 0.618, which reflects a more precise average prediction error. Furthermore, the Root Mean Squared Error (RMSE) is reduced from 7.298 to 6.258, demonstrating the tuned model's enhanced capability in handling large errors. The Mean Absolute Percentage Error (MAPE) also shows notable improvement, dropping from 13.12% to 9.15%, which implies better accuracy in terms of relative prediction error. \n",
    "\n",
    "Based on these metrics, the tuned LinearSVR model is the better choice as it shows significant improvements in prediction accuracy and error reduction. This makes it more reliable for stock price prediction, especially in a field where precision is crucial. However, it is important to consider the model's performance on unseen data to ensure its generalizability."
   ]
  },
  {
   "cell_type": "markdown",
   "id": "6e620a6a-73a6-435e-9a8f-a26c28933b39",
   "metadata": {
    "jp-MarkdownHeadingCollapsed": true,
    "tags": []
   },
   "source": [
    "#### 4.2.5. XGBoost Model"
   ]
  },
  {
   "cell_type": "code",
   "execution_count": 17,
   "id": "837e3497-0810-4a90-a61b-596add122dd2",
   "metadata": {},
   "outputs": [
    {
     "name": "stdout",
     "output_type": "stream",
     "text": [
      "MSE: 240.83413885424852\n",
      "MAE: 1.680959056491725\n",
      "RMSE: 15.518831749015405\n",
      "MAPE: 0.0908025775250961\n"
     ]
    }
   ],
   "source": [
    "# Baseline XGB Regressor\n",
    "xgb_reg = xgb.XGBRegressor(objective='reg:squarederror', n_estimators=100)\n",
    "xgb_reg.fit(X_train, y_train)\n",
    "xgb_pred = xgb_reg.predict(X_test)\n",
    "\n",
    "# Evaluations \n",
    "xgb_mse = mean_squared_error(y_test, xgb_pred)\n",
    "xgb_mae = mean_absolute_error(y_test, xgb_pred)\n",
    "xgb_rmse = np.sqrt(mean_squared_error(y_test, xgb_pred))\n",
    "xgb_mape = mean_absolute_percentage_error(y_test, xgb_pred)\n",
    "\n",
    "# Print metrics \n",
    "print(\"MSE:\", xgb_mse) \n",
    "print(\"MAE:\", xgb_mae) \n",
    "print(\"RMSE:\", xgb_rmse) \n",
    "print(\"MAPE:\", xgb_mape) "
   ]
  },
  {
   "cell_type": "markdown",
   "id": "c92dafc6-6329-4f7a-824d-ca99a180a676",
   "metadata": {
    "tags": []
   },
   "source": [
    "##### Regularization \n",
    "\n",
    "Regularization is a technique used to prevent overfitting by penalizing models with extreme coefficient values. XGBoost offers two parameters for regularization [6]:\n",
    "\n",
    "`lambda`: L2 regularization term on weights, also known as reg_lambda. It's used to help prevent overfitting by adding a penalty for larger weights in the model.\n",
    "\n",
    "`alpha`: L1 regularization term on weights, also known as reg_alpha. It encourages sparsity, meaning it can set some weight coefficients in the model to zero."
   ]
  },
  {
   "cell_type": "code",
   "execution_count": 18,
   "id": "172c14de-892e-4b96-819d-e37ddcbac463",
   "metadata": {},
   "outputs": [
    {
     "name": "stdout",
     "output_type": "stream",
     "text": [
      "MSE: 239.5020945901269\n",
      "MAE: 1.7075537845152722\n",
      "RMSE: 15.475855213529458\n",
      "MAPE: 0.08958831238328308\n"
     ]
    }
   ],
   "source": [
    "# Initialize an XGBRegressor with specified parameter\n",
    "xgb_reg = xgb.XGBRegressor(\n",
    "    objective='reg:squarederror',\n",
    "    n_estimators=100,\n",
    "    seed=0,\n",
    "    reg_lambda=1,  \n",
    "    reg_alpha=1    \n",
    ")\n",
    "# Fit model \n",
    "xgb_reg.fit(X_train, y_train)\n",
    "# Make prediction on X_test \n",
    "xgb_pred = xgb_reg.predict(X_test)\n",
    "# Evaluation\n",
    "xgb_mse = mean_squared_error(y_test, xgb_pred)\n",
    "xgb_mae = mean_absolute_error(y_test, xgb_pred)\n",
    "xgb_rmse = np.sqrt(mean_squared_error(y_test, xgb_pred))\n",
    "xgb_mape = mean_absolute_percentage_error(y_test, xgb_pred)\n",
    "# Print metrics \n",
    "print(\"MSE:\", xgb_mse) \n",
    "print(\"MAE:\", xgb_mae) \n",
    "print(\"RMSE:\", xgb_rmse) \n",
    "print(\"MAPE:\", xgb_mape) "
   ]
  },
  {
   "cell_type": "code",
   "execution_count": 22,
   "id": "5f380ba3-d03d-49d6-9299-eca7bad6e11d",
   "metadata": {
    "tags": []
   },
   "outputs": [
    {
     "data": {
      "image/png": "[encoded data removed]",
      "text/plain": [
       "<Figure size 432x288 with 1 Axes>"
      ]
     },
     "metadata": {
      "needs_background": "light"
     },
     "output_type": "display_data"
    }
   ],
   "source": [
    "# Plot feature importance\n",
    "xgb.plot_importance(xgb_reg)\n",
    "plt.title(\"Figure 11. Feature Importance in XGBoost Regression after Regularization\")\n",
    "plt.show()"
   ]
  },
  {
   "cell_type": "code",
   "execution_count": null,
   "id": "d77f5b97-beb2-4290-aae3-3f143be978f6",
   "metadata": {},
   "outputs": [],
   "source": [
    "# # Initialize model\n",
    "# xgb_reg = xgb.XGBRegressor()\n",
    "\n",
    "# # Define the parameter grid\n",
    "# param_grid = {\n",
    "#     'n_estimators': [100, 200, 300, 400],\n",
    "#     'learning_rate': [0.01, 0.1, 0.2, 0.4],\n",
    "#     'reg_alpha': [1e-5, 1e-2, 0.1, 1, 100],\n",
    "#     'reg_lambda': [1e-5, 1e-2, 0.1, 1, 100]\n",
    "# }\n",
    "\n",
    "# # Initialize grid search\n",
    "# grid_search = GridSearchCV(estimator=xgb_reg, \n",
    "#                            param_grid=param_grid, \n",
    "#                            cv=5, \n",
    "#                            scoring='neg_mean_squared_error'\n",
    "#                           )\n",
    "\n",
    "# grid_search.fit(X_valid, y_valid)\n",
    "# print(\"Best parameters found: \", grid_search.best_params_)"
   ]
  },
  {
   "cell_type": "code",
   "execution_count": null,
   "id": "59d67f72-6ecf-4310-abbe-9560fbfc2bd6",
   "metadata": {},
   "outputs": [],
   "source": [
    "# # Train the final model with the best parameters\n",
    "# best_xgb = xgb.XGBRegressor(**grid_search.best_params_)\n",
    "# best_xgb.fit(X_train, y_train)\n",
    "# xgb_pred = final_model.predict(X_test)\n",
    "\n",
    "# # Evaluate\n",
    "# xgb_mse = mean_squared_error(y_test, xgb_pred)\n",
    "# xgb_mae = mean_absolute_error(y_test, xgb_pred)\n",
    "# xgb_rmse = np.sqrt(mean_squared_error(y_test, xgb_pred))\n",
    "# xgb_mape = mean_absolute_percentage_error(y_test, xgb_pred)\n",
    "# print(f\"Tuned XGBoost for Regression MSE:\", xgb_mse) \n",
    "# print(f\"Tuned XGBoost for Regression MAE:\", xgb_mae) \n",
    "# print(f\"Tuned XGBoost for Regression RMSE:\", xgb_rmse) \n",
    "# print(f\"Tuned XGBoost for Regression MAPE:\", xgb_mape) "
   ]
  },
  {
   "cell_type": "code",
   "execution_count": null,
   "id": "e27d7975-7e39-4169-a42e-1c28985cc7b2",
   "metadata": {},
   "outputs": [],
   "source": [
    "# # Initialize random search with a fixed number of iterations and cross-validation folds\n",
    "# random_search = RandomizedSearchCV(estimator=xgb_reg,\n",
    "#                                    param_distributions=param_grid,\n",
    "#                                    n_iter=25,\n",
    "#                                    scoring='neg_mean_squared_error',\n",
    "#                                    cv=5,\n",
    "#                                    verbose=1,\n",
    "#                                    random_state=0\n",
    "#                                   )\n",
    " \n",
    "# random_search.fit(X_valid, y_valid)\n",
    "\n",
    "# print(\"Best parameters found: \", random_search.best_params_)"
   ]
  },
  {
   "cell_type": "code",
   "execution_count": null,
   "id": "c2957682-a5d3-4ae9-a808-d9b424d1985f",
   "metadata": {},
   "outputs": [],
   "source": [
    "# # Train model using the best parameters found\n",
    "# best_reg_alpha = random_search.best_params_['reg_alpha']\n",
    "# best_reg_lambda = random_search.best_params_['reg_lambda']\n",
    "\n",
    "# best_xgb = xgb.XGBRegressor(\n",
    "#     objective='reg:squarederror',\n",
    "#     n_estimators=100,\n",
    "#     seed=0,\n",
    "#     reg_alpha=best_reg_alpha,\n",
    "#     reg_lambda=best_reg_lambda\n",
    "# )\n",
    "\n",
    "# best_xgb.fit(X_train, y_train)\n",
    "# xgb_pred = best_xgb.predict(X_test)\n",
    "\n",
    "# xgb_mse = mean_squared_error(y_test, xgb_pred)\n",
    "# xgb_mse = mean_squared_error(y_test, xgb_pred)\n",
    "# xgb_mae = mean_absolute_error(y_test, xgb_pred)\n",
    "# xgb_rmse = np.sqrt(mean_squared_error(y_test, xgb_pred))\n",
    "# xgb_mape = mean_absolute_percentage_error(y_test, xgb_pred)\n",
    "\n",
    "# print(\"MSE:\", xgb_mse) \n",
    "# print(\"MAE:\", xgb_mae) \n",
    "# print(\"RMSE:\", xgb_rmse) \n",
    "# print(\"MAPE:\", xgb_mape) \n",
    "# print(f\"Best Mean Squared Error: {xgb_mse}\")"
   ]
  },
  {
   "cell_type": "markdown",
   "id": "f3ad593c-14c5-4bc8-84e6-0bc619bbed39",
   "metadata": {
    "tags": []
   },
   "source": [
    "### Final Stock Price Prediction after Hyperparameters Tuning "
   ]
  },
  {
   "cell_type": "markdown",
   "id": "37f25da7-89c6-4b5c-94f8-b04273da0263",
   "metadata": {},
   "source": [
    "Now, we use LinearSVR with the `best parameters: {'C': 0.01, 'epsilon': 0.01, 'loss': 'squared_epsilon_insensitive', 'max_iter': 100000, 'tol': 0.01}`"
   ]
  },
  {
   "cell_type": "code",
   "execution_count": 17,
   "id": "11145054-3684-4362-bdab-a3c0a98ce6bf",
   "metadata": {},
   "outputs": [
    {
     "ename": "AttributeError",
     "evalue": "'LinearSVR' object has no attribute 'coef_'",
     "output_type": "error",
     "traceback": [
      "\u001b[0;31m---------------------------------------------------------------------------\u001b[0m",
      "\u001b[0;31mAttributeError\u001b[0m                            Traceback (most recent call last)",
      "Input \u001b[0;32mIn [17]\u001b[0m, in \u001b[0;36m<cell line: 3>\u001b[0;34m()\u001b[0m\n\u001b[1;32m      1\u001b[0m \u001b[38;5;66;03m# Predict the price for the whole dataset `stock_df`\u001b[39;00m\n\u001b[1;32m      2\u001b[0m X_all \u001b[38;5;241m=\u001b[39m pd\u001b[38;5;241m.\u001b[39mconcat([X_train, X_test, X_valid])\n\u001b[0;32m----> 3\u001b[0m predicted_prices \u001b[38;5;241m=\u001b[39m \u001b[43mbest_svr\u001b[49m\u001b[38;5;241;43m.\u001b[39;49m\u001b[43mpredict\u001b[49m\u001b[43m(\u001b[49m\u001b[43mX_all\u001b[49m\u001b[43m)\u001b[49m\n\u001b[1;32m      5\u001b[0m \u001b[38;5;66;03m# Add pred_price into new column \u001b[39;00m\n\u001b[1;32m      6\u001b[0m stock_df[\u001b[38;5;124m'\u001b[39m\u001b[38;5;124mpredicted_price\u001b[39m\u001b[38;5;124m'\u001b[39m] \u001b[38;5;241m=\u001b[39m predicted_prices\n",
      "File \u001b[0;32m~/opt/anaconda3/lib/python3.9/site-packages/sklearn/linear_model/_base.py:362\u001b[0m, in \u001b[0;36mLinearModel.predict\u001b[0;34m(self, X)\u001b[0m\n\u001b[1;32m    348\u001b[0m \u001b[38;5;28;01mdef\u001b[39;00m \u001b[38;5;21mpredict\u001b[39m(\u001b[38;5;28mself\u001b[39m, X):\n\u001b[1;32m    349\u001b[0m \u001b[38;5;250m    \u001b[39m\u001b[38;5;124;03m\"\"\"\u001b[39;00m\n\u001b[1;32m    350\u001b[0m \u001b[38;5;124;03m    Predict using the linear model.\u001b[39;00m\n\u001b[1;32m    351\u001b[0m \n\u001b[0;32m   (...)\u001b[0m\n\u001b[1;32m    360\u001b[0m \u001b[38;5;124;03m        Returns predicted values.\u001b[39;00m\n\u001b[1;32m    361\u001b[0m \u001b[38;5;124;03m    \"\"\"\u001b[39;00m\n\u001b[0;32m--> 362\u001b[0m     \u001b[38;5;28;01mreturn\u001b[39;00m \u001b[38;5;28;43mself\u001b[39;49m\u001b[38;5;241;43m.\u001b[39;49m\u001b[43m_decision_function\u001b[49m\u001b[43m(\u001b[49m\u001b[43mX\u001b[49m\u001b[43m)\u001b[49m\n",
      "File \u001b[0;32m~/opt/anaconda3/lib/python3.9/site-packages/sklearn/linear_model/_base.py:346\u001b[0m, in \u001b[0;36mLinearModel._decision_function\u001b[0;34m(self, X)\u001b[0m\n\u001b[1;32m    343\u001b[0m check_is_fitted(\u001b[38;5;28mself\u001b[39m)\n\u001b[1;32m    345\u001b[0m X \u001b[38;5;241m=\u001b[39m \u001b[38;5;28mself\u001b[39m\u001b[38;5;241m.\u001b[39m_validate_data(X, accept_sparse\u001b[38;5;241m=\u001b[39m[\u001b[38;5;124m\"\u001b[39m\u001b[38;5;124mcsr\u001b[39m\u001b[38;5;124m\"\u001b[39m, \u001b[38;5;124m\"\u001b[39m\u001b[38;5;124mcsc\u001b[39m\u001b[38;5;124m\"\u001b[39m, \u001b[38;5;124m\"\u001b[39m\u001b[38;5;124mcoo\u001b[39m\u001b[38;5;124m\"\u001b[39m], reset\u001b[38;5;241m=\u001b[39m\u001b[38;5;28;01mFalse\u001b[39;00m)\n\u001b[0;32m--> 346\u001b[0m \u001b[38;5;28;01mreturn\u001b[39;00m safe_sparse_dot(X, \u001b[38;5;28;43mself\u001b[39;49m\u001b[38;5;241;43m.\u001b[39;49m\u001b[43mcoef_\u001b[49m\u001b[38;5;241m.\u001b[39mT, dense_output\u001b[38;5;241m=\u001b[39m\u001b[38;5;28;01mTrue\u001b[39;00m) \u001b[38;5;241m+\u001b[39m \u001b[38;5;28mself\u001b[39m\u001b[38;5;241m.\u001b[39mintercept_\n",
      "\u001b[0;31mAttributeError\u001b[0m: 'LinearSVR' object has no attribute 'coef_'"
     ]
    }
   ],
   "source": [
    "# Predict the price for the whole dataset `stock_df`\n",
    "X_all = pd.concat([X_train, X_test, X_valid])\n",
    "predicted_prices = best_svr.predict(X_all)\n",
    "\n",
    "# Add pred_price into new column \n",
    "stock_df['predicted_price'] = predicted_prices"
   ]
  },
  {
   "cell_type": "code",
   "execution_count": 19,
   "id": "e77db6ea-7053-459b-a120-b537dee33afa",
   "metadata": {},
   "outputs": [
    {
     "name": "stderr",
     "output_type": "stream",
     "text": [
      "/Users/vanle/opt/anaconda3/lib/python3.9/site-packages/sklearn/svm/_base.py:1206: ConvergenceWarning: Liblinear failed to converge, increase the number of iterations.\n",
      "  warnings.warn(\n"
     ]
    }
   ],
   "source": [
    "best_linear_svr = LinearSVR(C=0.01,\n",
    "                            epsilon=0.01,\n",
    "                            loss='squared_epsilon_insensitive',\n",
    "                            max_iter=100000,\n",
    "                            tol=0.01)\n",
    "\n",
    "# Fit the model to the entire dataset\n",
    "X_all = pd.concat([X_train, X_test, X_valid])\n",
    "best_linear_svr.fit(X_train, y_train)  \n",
    "\n",
    "# Predict the prices for the entire dataset\n",
    "predicted_prices = best_linear_svr.predict(X_all)\n",
    "\n",
    "# Add the predicted prices into a new column in 'stock_df'\n",
    "stock_df['predicted_price'] = predicted_prices"
   ]
  },
  {
   "cell_type": "code",
   "execution_count": 23,
   "id": "4511c37e-4aee-4d19-8e39-4f3d09115ce6",
   "metadata": {},
   "outputs": [],
   "source": [
    "# Calculate `%error` to compare the true value and predicted value\n",
    "stock_df['%error'] = (abs(stock_df['Close'] - stock_df['predicted_price']) / stock_df['Close']) * 100"
   ]
  },
  {
   "cell_type": "code",
   "execution_count": 38,
   "id": "b4d2f0e3-b4af-407c-b8f1-6730e9ffb9f4",
   "metadata": {},
   "outputs": [
    {
     "data": {
      "text/html": [
       "<div>\n",
       "<style scoped>\n",
       "    .dataframe tbody tr th:only-of-type {\n",
       "        vertical-align: middle;\n",
       "    }\n",
       "\n",
       "    .dataframe tbody tr th {\n",
       "        vertical-align: top;\n",
       "    }\n",
       "\n",
       "    .dataframe thead th {\n",
       "        text-align: right;\n",
       "    }\n",
       "</style>\n",
       "<table border=\"1\" class=\"dataframe\">\n",
       "  <thead>\n",
       "    <tr style=\"text-align: right;\">\n",
       "      <th></th>\n",
       "      <th>Feature_1</th>\n",
       "      <th>Feature_2</th>\n",
       "      <th>Feature_3</th>\n",
       "      <th>Feature_4</th>\n",
       "      <th>Feature_5</th>\n",
       "      <th>Ticker</th>\n",
       "      <th>Close</th>\n",
       "      <th>row_num</th>\n",
       "      <th>predicted_price</th>\n",
       "      <th>%error</th>\n",
       "    </tr>\n",
       "    <tr>\n",
       "      <th>Date</th>\n",
       "      <th></th>\n",
       "      <th></th>\n",
       "      <th></th>\n",
       "      <th></th>\n",
       "      <th></th>\n",
       "      <th></th>\n",
       "      <th></th>\n",
       "      <th></th>\n",
       "      <th></th>\n",
       "      <th></th>\n",
       "    </tr>\n",
       "  </thead>\n",
       "  <tbody>\n",
       "    <tr>\n",
       "      <th>2017-01-03</th>\n",
       "      <td>-4.694621</td>\n",
       "      <td>0.050102</td>\n",
       "      <td>0.525245</td>\n",
       "      <td>-4.551044</td>\n",
       "      <td>1.058598</td>\n",
       "      <td>A</td>\n",
       "      <td>46.178</td>\n",
       "      <td>1</td>\n",
       "      <td>46.159938</td>\n",
       "      <td>0.039114</td>\n",
       "    </tr>\n",
       "    <tr>\n",
       "      <th>2017-01-04</th>\n",
       "      <td>-4.948428</td>\n",
       "      <td>0.293337</td>\n",
       "      <td>0.468583</td>\n",
       "      <td>-4.553871</td>\n",
       "      <td>1.065424</td>\n",
       "      <td>A</td>\n",
       "      <td>46.784</td>\n",
       "      <td>2</td>\n",
       "      <td>46.544546</td>\n",
       "      <td>0.511830</td>\n",
       "    </tr>\n",
       "    <tr>\n",
       "      <th>2017-01-05</th>\n",
       "      <td>-4.885045</td>\n",
       "      <td>0.113366</td>\n",
       "      <td>0.636895</td>\n",
       "      <td>-4.541259</td>\n",
       "      <td>1.020767</td>\n",
       "      <td>A</td>\n",
       "      <td>46.228</td>\n",
       "      <td>3</td>\n",
       "      <td>46.638431</td>\n",
       "      <td>0.887840</td>\n",
       "    </tr>\n",
       "    <tr>\n",
       "      <th>2017-01-06</th>\n",
       "      <td>-5.465603</td>\n",
       "      <td>0.731387</td>\n",
       "      <td>0.340322</td>\n",
       "      <td>-4.613235</td>\n",
       "      <td>1.154764</td>\n",
       "      <td>A</td>\n",
       "      <td>47.668</td>\n",
       "      <td>4</td>\n",
       "      <td>46.799169</td>\n",
       "      <td>1.822671</td>\n",
       "    </tr>\n",
       "    <tr>\n",
       "      <th>2017-01-09</th>\n",
       "      <td>-5.977897</td>\n",
       "      <td>1.172599</td>\n",
       "      <td>0.107106</td>\n",
       "      <td>-4.593020</td>\n",
       "      <td>1.132056</td>\n",
       "      <td>A</td>\n",
       "      <td>47.817</td>\n",
       "      <td>5</td>\n",
       "      <td>47.257096</td>\n",
       "      <td>1.170931</td>\n",
       "    </tr>\n",
       "    <tr>\n",
       "      <th>...</th>\n",
       "      <td>...</td>\n",
       "      <td>...</td>\n",
       "      <td>...</td>\n",
       "      <td>...</td>\n",
       "      <td>...</td>\n",
       "      <td>...</td>\n",
       "      <td>...</td>\n",
       "      <td>...</td>\n",
       "      <td>...</td>\n",
       "      <td>...</td>\n",
       "    </tr>\n",
       "    <tr>\n",
       "      <th>2017-11-06</th>\n",
       "      <td>-6.903199</td>\n",
       "      <td>-1.760332</td>\n",
       "      <td>-1.418393</td>\n",
       "      <td>4.088618</td>\n",
       "      <td>0.799909</td>\n",
       "      <td>ZYNE</td>\n",
       "      <td>11.190</td>\n",
       "      <td>214</td>\n",
       "      <td>11.790536</td>\n",
       "      <td>5.366720</td>\n",
       "    </tr>\n",
       "    <tr>\n",
       "      <th>2017-11-07</th>\n",
       "      <td>-6.796380</td>\n",
       "      <td>-1.978180</td>\n",
       "      <td>-1.165790</td>\n",
       "      <td>4.113964</td>\n",
       "      <td>0.734404</td>\n",
       "      <td>ZYNE</td>\n",
       "      <td>10.830</td>\n",
       "      <td>215</td>\n",
       "      <td>12.097984</td>\n",
       "      <td>11.708067</td>\n",
       "    </tr>\n",
       "    <tr>\n",
       "      <th>2017-11-08</th>\n",
       "      <td>-6.773013</td>\n",
       "      <td>-2.083958</td>\n",
       "      <td>-1.029962</td>\n",
       "      <td>4.123684</td>\n",
       "      <td>0.727150</td>\n",
       "      <td>ZYNE</td>\n",
       "      <td>10.900</td>\n",
       "      <td>216</td>\n",
       "      <td>12.111996</td>\n",
       "      <td>11.119226</td>\n",
       "    </tr>\n",
       "    <tr>\n",
       "      <th>2017-11-09</th>\n",
       "      <td>-7.115683</td>\n",
       "      <td>-1.690110</td>\n",
       "      <td>-1.202882</td>\n",
       "      <td>4.137377</td>\n",
       "      <td>0.783180</td>\n",
       "      <td>ZYNE</td>\n",
       "      <td>11.600</td>\n",
       "      <td>217</td>\n",
       "      <td>12.299534</td>\n",
       "      <td>6.030469</td>\n",
       "    </tr>\n",
       "    <tr>\n",
       "      <th>2017-11-10</th>\n",
       "      <td>-7.551065</td>\n",
       "      <td>-1.215361</td>\n",
       "      <td>-1.301172</td>\n",
       "      <td>4.140841</td>\n",
       "      <td>0.872513</td>\n",
       "      <td>ZYNE</td>\n",
       "      <td>12.460</td>\n",
       "      <td>218</td>\n",
       "      <td>12.679370</td>\n",
       "      <td>1.760596</td>\n",
       "    </tr>\n",
       "  </tbody>\n",
       "</table>\n",
       "<p>386566 rows × 10 columns</p>\n",
       "</div>"
      ],
      "text/plain": [
       "            Feature_1  Feature_2  Feature_3  Feature_4  Feature_5 Ticker  \\\n",
       "Date                                                                       \n",
       "2017-01-03  -4.694621   0.050102   0.525245  -4.551044   1.058598      A   \n",
       "2017-01-04  -4.948428   0.293337   0.468583  -4.553871   1.065424      A   \n",
       "2017-01-05  -4.885045   0.113366   0.636895  -4.541259   1.020767      A   \n",
       "2017-01-06  -5.465603   0.731387   0.340322  -4.613235   1.154764      A   \n",
       "2017-01-09  -5.977897   1.172599   0.107106  -4.593020   1.132056      A   \n",
       "...               ...        ...        ...        ...        ...    ...   \n",
       "2017-11-06  -6.903199  -1.760332  -1.418393   4.088618   0.799909   ZYNE   \n",
       "2017-11-07  -6.796380  -1.978180  -1.165790   4.113964   0.734404   ZYNE   \n",
       "2017-11-08  -6.773013  -2.083958  -1.029962   4.123684   0.727150   ZYNE   \n",
       "2017-11-09  -7.115683  -1.690110  -1.202882   4.137377   0.783180   ZYNE   \n",
       "2017-11-10  -7.551065  -1.215361  -1.301172   4.140841   0.872513   ZYNE   \n",
       "\n",
       "             Close  row_num  predicted_price     %error  \n",
       "Date                                                     \n",
       "2017-01-03  46.178        1        46.159938   0.039114  \n",
       "2017-01-04  46.784        2        46.544546   0.511830  \n",
       "2017-01-05  46.228        3        46.638431   0.887840  \n",
       "2017-01-06  47.668        4        46.799169   1.822671  \n",
       "2017-01-09  47.817        5        47.257096   1.170931  \n",
       "...            ...      ...              ...        ...  \n",
       "2017-11-06  11.190      214        11.790536   5.366720  \n",
       "2017-11-07  10.830      215        12.097984  11.708067  \n",
       "2017-11-08  10.900      216        12.111996  11.119226  \n",
       "2017-11-09  11.600      217        12.299534   6.030469  \n",
       "2017-11-10  12.460      218        12.679370   1.760596  \n",
       "\n",
       "[386566 rows x 10 columns]"
      ]
     },
     "execution_count": 38,
     "metadata": {},
     "output_type": "execute_result"
    }
   ],
   "source": [
    "stock_df"
   ]
  },
  {
   "cell_type": "code",
   "execution_count": 39,
   "id": "b36b64af-464c-432d-9e65-3cadf515e40b",
   "metadata": {},
   "outputs": [],
   "source": [
    "# Save our data to csv file \n",
    "# stock_df.to_csv('predicted_price_data.csv', index=False)"
   ]
  },
  {
   "cell_type": "code",
   "execution_count": 31,
   "id": "d8b83efc-b107-4ea4-b00d-2be6618e9250",
   "metadata": {},
   "outputs": [],
   "source": [
    "def ticker_plot(ticker):\n",
    "    ticker_df = stock_df[stock_df['Ticker']==ticker]\n",
    "\n",
    "    A = pd.DataFrame()\n",
    "    A['Date'] = ticker_df['Date']\n",
    "    A['Close'] = ticker_df['Close']\n",
    "\n",
    "    B = pd.DataFrame()\n",
    "    B['Date'] = ticker_df['Date']\n",
    "    B['Close'] = ticker_df['predicted_price']\n",
    "    #fig = px.line(df, x='date', y='close', color='new', markers=True)\n",
    "    \n",
    "    column = pd.DataFrame() \n",
    "    column['NewColumn'] = np.zeros(A.shape[0])\n",
    "    column['NewColumn'] = 'actual_values'\n",
    "\n",
    "    column1 = pd.DataFrame()\n",
    "    column1['NewColumn'] = np.zeros(A.shape[0])\n",
    "    column1['NewColumn'] = 'predicted_price'\n",
    "\n",
    "    new = pd.concat([column, column1], ignore_index=True)\n",
    "    \n",
    "    result = pd.concat([A, B], ignore_index=True)\n",
    "    result['Actual Vs Predicted'] = new\n",
    "    result\n",
    "    #result.drop(['NewColumn'],axis=1,inplace=True)\n",
    "    result\n",
    "    print(result)\n",
    "\n",
    "    #fig=px.line(For_prediction_ticker,x='date',y='close')\n",
    "    #fig.add_scatter(x=For_prediction_ticker['date'],y=For_prediction_ticker['Predicted_values'],name='Predicted_values')\n",
    "    #fig.update_traces(name='Actual')\n",
    "    #fig.update_traces(name='Actual', selector=dict(name='line'))\n",
    "    #line_trace_index = 0\n",
    "    #fig.data[line_trace_index].name = 'Actual'\n",
    "    fig = px.line(result, x='date', y='close', color='Actual Vs Predicted', markers=False)\n",
    "\n",
    "    fig.show()\n"
   ]
  },
  {
   "cell_type": "code",
   "execution_count": 40,
   "id": "3381af21-1364-4e55-a7ec-6630d8d60e97",
   "metadata": {},
   "outputs": [],
   "source": [
    "# ticker_plot('YY')"
   ]
  },
  {
   "cell_type": "code",
   "execution_count": null,
   "id": "fbc94959-7d24-4263-8216-9260f7223c3a",
   "metadata": {},
   "outputs": [],
   "source": []
  },
  {
   "cell_type": "markdown",
   "id": "b48173f2-f4ce-4b35-8284-940f14fbb7a3",
   "metadata": {
    "jp-MarkdownHeadingCollapsed": true,
    "tags": []
   },
   "source": [
    "## 5. Financial News Sentiment Analysis:"
   ]
  },
  {
   "cell_type": "code",
   "execution_count": null,
   "id": "0b70d829-5c66-482f-96bf-5c622c251e52",
   "metadata": {},
   "outputs": [],
   "source": [
    "# Connect to Drive \n",
    "from google.colab import drive\n",
    "drive.mount('/content/Mydrive')"
   ]
  },
  {
   "cell_type": "code",
   "execution_count": null,
   "id": "7f27c5d5-b06c-47c6-9942-395060894a49",
   "metadata": {
    "tags": []
   },
   "outputs": [],
   "source": [
    "# Read data \n",
    "df1 = pd.read_csv('/content/Mydrive/MyDrive/raw_partner_headlines.csv')"
   ]
  },
  {
   "cell_type": "code",
   "execution_count": null,
   "id": "0c47c0d9-252a-4475-bb13-a08684c2f4a9",
   "metadata": {},
   "outputs": [],
   "source": [
    "# Make copy of `df1`\n",
    "df1_copy = df1.copy()"
   ]
  },
  {
   "cell_type": "markdown",
   "id": "23bb917f-6c6b-402c-94d9-ab25b7af21f6",
   "metadata": {
    "jp-MarkdownHeadingCollapsed": true,
    "tags": []
   },
   "source": [
    "### 5.1. Pre-trained Hugging Face Model:"
   ]
  },
  {
   "cell_type": "code",
   "execution_count": null,
   "id": "299b0172-8a36-4140-8dee-82215930cc0a",
   "metadata": {},
   "outputs": [],
   "source": [
    "# Use a pipeline as a high-level helper\n",
    "from transformers import pipeline\n",
    "\n",
    "pipe_sentiment = pipeline(\"text-classification\", model=\"mrm8488/distilroberta-finetuned-financial-news-sentiment-analysis\")"
   ]
  },
  {
   "cell_type": "code",
   "execution_count": null,
   "id": "efa91219-b2a2-44e0-a387-1eb50c63e7a4",
   "metadata": {},
   "outputs": [],
   "source": [
    "# Filter df1 for dates between '2017-01-01' and '2017-12-31'\n",
    "df1 = df1[(df1['date'] > '2017-01-01') & (df1['date'] < '2017-12-31')]\n",
    "\n",
    "# Remove rows with missing values\n",
    "df1 = df1.dropna(axis=0)\n",
    "\n",
    "# Drop duplicate headlines, keeping the first occurrence\n",
    "df1.drop_duplicates(subset='headline', keep='first', inplace=True)\n",
    "\n",
    "# Reset the index of df1 to new column\n",
    "df1 = df1.reset_index()"
   ]
  },
  {
   "cell_type": "code",
   "execution_count": null,
   "id": "bb8307ad-8b44-4d25-8273-e5f0a3c12925",
   "metadata": {},
   "outputs": [],
   "source": [
    "# Function to extract content of news from url\n",
    "def extract_paragraphs_from_url(url):\n",
    "    import requests\n",
    "    from bs4 import BeautifulSoup\n",
    "    # Send an HTTP GET request to the URL\n",
    "    response = requests.get(url)\n",
    "\n",
    "    if response.status_code == 200:\n",
    "        # Parse the HTML content using BeautifulSoup\n",
    "        soup = BeautifulSoup(response.text, 'html.parser')\n",
    "\n",
    "        # Find all the <p> elements and extract their text\n",
    "        paragraphs = [p.get_text() for p in soup.find_all('p')]\n",
    "\n",
    "        # Join the paragraphs into a single text\n",
    "        extracted_text = '\\n'.join(paragraphs)\n",
    "\n",
    "        return extracted_text\n",
    "    else:\n",
    "        flag=1\n",
    "        return flag\n",
    "\n",
    "# Example usage\n",
    "url = \"https://seekingalpha.com/article/4133429-agilent-technologies-good-business-total-return-pricey?source=partner_benzinga\"  # Replace with the URL you want to extract data from\n",
    "extracted_data = extract_paragraphs_from_url(url)\n",
    "\n",
    "if extracted_data:\n",
    "    # Print or store the extracted data as a paragraph\n",
    "    print(extracted_data)"
   ]
  },
  {
   "cell_type": "code",
   "execution_count": null,
   "id": "8ff65423-4622-458f-83cd-7cbbcdf20cad",
   "metadata": {},
   "outputs": [],
   "source": [
    "# Preprocessing text function\n",
    "def clean_data(text, lang):\n",
    "    # Remove HTML tags\n",
    "    soup = BeautifulSoup(text, 'lxml')\n",
    "    text = soup.get_text()\n",
    "    \n",
    "    # Replace Emoticons/Emojis with Text\n",
    "    text = emoji.demojize(text, language=lang)\n",
    "    text = emoticon_fix.emoticon_fix(text)\n",
    "    \n",
    "    # Decoding of abbreviations (commented out)\n",
    "    # text = abbr_conversion(text)\n",
    "    \n",
    "    # Remove mentions (usernames)\n",
    "    text = re.sub(\"@[A-Za-z0-9]+\", \"\", text)\n",
    "    \n",
    "    # Remove hashtags\n",
    "    text = re.sub(\"#[A-Za-z0-9_]+\", \"\", text)\n",
    "    \n",
    "    # Remove links (URLs)\n",
    "    text = re.sub('https:\\/\\/\\S+', '', text)\n",
    "    \n",
    "    # Remove punctuation\n",
    "    text = re.sub('[%s]' % re.escape(string.punctuation), ' ', text)\n",
    "    \n",
    "    # Remove newline characters\n",
    "    text = re.sub(r'[^ \\w\\.]', '', text)\n",
    "    \n",
    "    # Remove words containing numbers\n",
    "    text = re.sub('\\w*\\d\\w*', '', text)\n",
    "    \n",
    "    return text\n"
   ]
  },
  {
   "cell_type": "code",
   "execution_count": null,
   "id": "f5d832d3-b8cf-4ea9-9cfe-aa531aba9e1c",
   "metadata": {},
   "outputs": [],
   "source": [
    "# Clean the extracted data using a function called 'clean_data' with the language parameter set to 'eng'\n",
    "cleaned_data = clean_data(extracted_data, 'eng')\n",
    "\n",
    "# Print cleaned data\n",
    "cleaned_data"
   ]
  },
  {
   "cell_type": "code",
   "execution_count": null,
   "id": "f3c3c676-6d44-42c2-b9d6-25b98250aca4",
   "metadata": {},
   "outputs": [],
   "source": [
    "# Set \"Labels\" and \"Scores\" columns to NaN in DataFrame df1\n",
    "df1[\"Labels\"] = np.nan\n",
    "df1[\"Scores\"] = np.nan\n",
    "\n",
    "# Drop unnecessary columns 'index' and 'Unnamed: 0' from df1\n",
    "df1 = df1.drop(['index', 'Unnamed: 0'], axis=1)"
   ]
  },
  {
   "cell_type": "code",
   "execution_count": null,
   "id": "ff40ca52-c2a5-4572-822b-2f90a308781d",
   "metadata": {},
   "outputs": [],
   "source": [
    "# # start_time = time.time()\n",
    "# for i in range(0,len(df1)):\n",
    "#     try:\n",
    "#         extracted_data = extract_paragraphs_from_url(df1['url'][i])\n",
    "#         if extracted_data == 1:\n",
    "#             extracted_data = clean_data(df1['headline'][i],'eng')\n",
    "#             sentiment1 = pipe_sentiment(extracted_data)\n",
    "#             df1['Labels'][i] = sentiment1[0]['label']\n",
    "#             df1['Scores'][i] = sentiment1[0]['score']\n",
    "#         else:\n",
    "#             cleaned_data = clean_data(extracted_data,'eng')\n",
    "#             sentiment2 = pipe_sentiment(cleaned_data,truncation=True)\n",
    "#             df1['Labels'][i] = sentiment2[0]['label']\n",
    "#             df1['Scores'][i] = sentiment2[0]['score']\n",
    "#         if i%100==0:\n",
    "#             df1.to_csv('Set.csv')\n",
    "\n",
    "#     except:\n",
    "#         pass\n",
    "# # print(\"--- %s seconds ---\" % (time.time() - start_time))"
   ]
  },
  {
   "cell_type": "code",
   "execution_count": null,
   "id": "e008af7f-2f96-4613-b1d7-19aa6d8abbf1",
   "metadata": {},
   "outputs": [],
   "source": [
    "# df1.to_csv('Final_ouput.csv')"
   ]
  },
  {
   "cell_type": "code",
   "execution_count": null,
   "id": "d959e9a6-28fd-4d26-aa88-87212c278eac",
   "metadata": {},
   "outputs": [],
   "source": [
    "# new_df = pd.read_csv('/content/Mydrive/MyDrive/Final_ouput.csv')"
   ]
  },
  {
   "cell_type": "code",
   "execution_count": null,
   "id": "b0e7cae2-6f17-41fb-992d-85b13a9c1d7b",
   "metadata": {},
   "outputs": [],
   "source": [
    "# new_df = new_df.dropna(axis=0)"
   ]
  },
  {
   "cell_type": "code",
   "execution_count": null,
   "id": "dfeb3cef-9b3c-4940-b70a-8f45248bdb11",
   "metadata": {},
   "outputs": [],
   "source": [
    "# new_df.to_csv(\"SentimentAnalysis.csv\")"
   ]
  },
  {
   "cell_type": "markdown",
   "id": "a29f875a-938b-4186-b330-1791dc456355",
   "metadata": {
    "jp-MarkdownHeadingCollapsed": true,
    "tags": []
   },
   "source": [
    "### 5.2. Naive Bayes Model:"
   ]
  },
  {
   "cell_type": "code",
   "execution_count": null,
   "id": "f566f336-6fc8-40d6-a5cb-bc826a41430c",
   "metadata": {},
   "outputs": [],
   "source": [
    "# Read the CSV file into a DataFrame\n",
    "data = pd.read_csv('/content/Mydrive/MyDrive/SentimentAnalysis.csv')\n",
    "# Make copy of data\n",
    "data_copy = data.copy()"
   ]
  },
  {
   "cell_type": "code",
   "execution_count": null,
   "id": "56116a2d-fd75-4fe9-971b-6bc76f5bf337",
   "metadata": {},
   "outputs": [],
   "source": [
    "# Load the 'en_core_web_sm' model\n",
    "nlp = spacy.load('en_core_web_sm')\n",
    "\n",
    "# Check the names of pipeline components\n",
    "print(nlp.pipe_names)"
   ]
  },
  {
   "cell_type": "code",
   "execution_count": null,
   "id": "8baa1d21-3b2a-4139-b57c-799be30585ca",
   "metadata": {},
   "outputs": [],
   "source": [
    "# Create spaCy NLP object with a blank English model\n",
    "nlp = spacy.blank('en')\n",
    "\n",
    "# There should be no pipeline components.\n",
    "nlp.pipe_names"
   ]
  },
  {
   "cell_type": "code",
   "execution_count": null,
   "id": "130f1b15-7443-4deb-8bd5-81446abd240e",
   "metadata": {},
   "outputs": [],
   "source": [
    "# Define a custom tokenizer function called 'spacy_tokenizer'\n",
    "def spacy_tokenizer(doc):\n",
    "    \n",
    "    # Use spaCy to process the input text document ('doc') and iterate over its tokens\n",
    "    # while applying the following conditions to filter the tokens.\n",
    "    return [t.text for t in nlp(doc) if \\  # Return a list of tokenized words\n",
    "    \n",
    "            # Check if the token is not a punctuation mark\n",
    "            not t.is_punct and \\\n",
    "            \n",
    "            # Check if the token is not a space (whitespace character)\n",
    "            not t.is_space and \\\n",
    "            \n",
    "            # Check if the token consists of alphabetic characters (letters)\n",
    "            t.is_alpha]\n"
   ]
  },
  {
   "cell_type": "code",
   "execution_count": null,
   "id": "df1564d7-5652-4df6-b65d-22469700b1d1",
   "metadata": {},
   "outputs": [],
   "source": [
    "# Create a LabelEncoder object\n",
    "encoder = LabelEncoder()\n",
    "# Extract the 'Labels' column from the 'data' DataFrame and store it in the 'labels' variable\n",
    "labels = data['Labels'].values\n",
    "# Use the LabelEncoder to fit and transform the 'labels' array, encoding the labels as integers\n",
    "encoded_labels = encoder.fit_transform(labels)\n",
    "\n",
    "# Split the 'headline' column as features (X) and the encoded labels as targets (y)\n",
    "X_train, X_test, y_train, y_test = train_test_split(data['headline'], encoded_labels, stratify=encoded_labels, train_size=0.2)"
   ]
  },
  {
   "cell_type": "code",
   "execution_count": null,
   "id": "7567d0fb-0eb0-4b41-9118-e4cac8942205",
   "metadata": {},
   "outputs": [],
   "source": [
    "# Measure the execution time of this code block\n",
    "%%time\n",
    "# Create a TfidfVectorizer object and specify the custom tokenizer function\n",
    "vectorizer = TfidfVectorizer(tokenizer=spacy_tokenizer)\n",
    "\n",
    "# Fit the vectorizer to the training data (X_train) and transform it into TF-IDF vectors\n",
    "train_feature_vects = vectorizer.fit_transform(X_train)"
   ]
  },
  {
   "cell_type": "markdown",
   "id": "68268ef4-6221-4a0c-8ba7-6f85f1cafd4f",
   "metadata": {
    "jp-MarkdownHeadingCollapsed": true,
    "tags": []
   },
   "source": [
    "#### Train Set"
   ]
  },
  {
   "cell_type": "code",
   "execution_count": null,
   "id": "3ce671a1-013a-4abd-b764-e123734bc914",
   "metadata": {},
   "outputs": [],
   "source": [
    "# Create a Multinomial Naive Bayes classifier\n",
    "nb_classifier = MultinomialNB()\n",
    "# Fit the classifier to the training feature vectors and corresponding labels\n",
    "nb_classifier.fit(train_feature_vects, y_train)\n",
    "# Make predictions on the training feature vectors\n",
    "train_preds = nb_classifier.predict(train_feature_vects)"
   ]
  },
  {
   "cell_type": "code",
   "execution_count": null,
   "id": "b0afa814-1eda-4f2c-bdc2-a9982d133aa5",
   "metadata": {},
   "outputs": [],
   "source": [
    "# Get the parameters of the classifier\n",
    "nb_classifier.get_params()"
   ]
  },
  {
   "cell_type": "code",
   "execution_count": null,
   "id": "7ee89272-d79c-43f7-a51a-4319a605c09d",
   "metadata": {},
   "outputs": [],
   "source": [
    "# Get class probabilities for the training feature vectors\n",
    "train_preds_score = nb_classifier.predict_proba(train_feature_vects)"
   ]
  },
  {
   "cell_type": "code",
   "execution_count": null,
   "id": "4224926a-5758-42c6-aa59-4982a7edb583",
   "metadata": {},
   "outputs": [],
   "source": [
    "# Calculate and print accuracy score on the training set\n",
    "print('Accuracy score on train set: {}'.format(metrics.accuracy_score(y_train, train_preds)))\n",
    "# Calculate and print F1 score on the training set (weighted average)\n",
    "print('F1 score on train set: {}'.format(metrics.f1_score(y_train, train_preds, average='weighted')))\n",
    "# Calculate and print precision score on the training set (weighted average)\n",
    "print('Precision score on train set: {}'.format(metrics.precision_score(y_train, train_preds, average='weighted')))\n",
    "# Calculate and print recall score on the training set (weighted average)\n",
    "print('Recall score on train set: {}'.format(metrics.recall_score(y_train, train_preds, average='weighted')))\n",
    "# Calculate and print ROC-AUC score on the training set (weighted average, one-vs-rest)\n",
    "print('ROC-AUC score on train set: {}'.format(metrics.roc_auc_score(y_train, train_preds_score, average='weighted', multi_class='ovr')))"
   ]
  },
  {
   "cell_type": "markdown",
   "id": "52033ade-02ab-43b3-87fb-73d06ac9717b",
   "metadata": {
    "jp-MarkdownHeadingCollapsed": true,
    "tags": []
   },
   "source": [
    "#### Test Set"
   ]
  },
  {
   "cell_type": "code",
   "execution_count": null,
   "id": "690aaf56-63c7-4974-8b29-236d5a9a024d",
   "metadata": {},
   "outputs": [],
   "source": [
    "# Transforming the test data into TF-IDF vectors using the same vectorizer that was previously fitted on the training data\n",
    "test_feature_vects = vectorizer.transform(X_test)"
   ]
  },
  {
   "cell_type": "code",
   "execution_count": null,
   "id": "7c4b6743-32fc-44ef-96e4-6e016939857f",
   "metadata": {},
   "outputs": [],
   "source": [
    "# make predictions on the test feature vectors \n",
    "test_preds = nb_classifier.predict(test_feature_vects)"
   ]
  },
  {
   "cell_type": "code",
   "execution_count": null,
   "id": "1fef31fb-037d-4a87-9888-b074267deaa6",
   "metadata": {},
   "outputs": [],
   "source": [
    "# Calculating class probabilities for the test data \n",
    "test_preds_score = nb_classifier.predict_proba(test_feature_vects)"
   ]
  },
  {
   "cell_type": "code",
   "execution_count": null,
   "id": "6be684ff-7661-4df5-b49c-aa4d3408946b",
   "metadata": {},
   "outputs": [],
   "source": [
    "# Evaluation metrics \n",
    "print('Accuracy score on test set: {}'.format(metrics.accuracy_score(y_test, test_preds)))\n",
    "print('F1 score on test set: {}'.format(metrics.f1_score(y_test, test_preds, average='weighted')))\n",
    "print('Precision score on test set: {}'.format(metrics.precision_score(y_test, test_preds, average='weighted')))\n",
    "print('Recall score on test set: {}'.format(metrics.recall_score(y_test, test_preds, average='weighted')))\n",
    "print('ROC-AUC score on test set: {}'.format(metrics.roc_auc_score(y_test, test_preds_score, average='weighted',multi_class='ovr')))"
   ]
  },
  {
   "cell_type": "code",
   "execution_count": null,
   "id": "bc4c2ecf-d173-4e12-a68f-776dcb3a5c9c",
   "metadata": {},
   "outputs": [],
   "source": [
    "# Generate a classification report to evaluate the classifier's performance\n",
    "cr_NB = metrics.classification_report(y_test, test_preds)\n",
    "\n",
    "# Print the classification report\n",
    "print(\"\\n\\nClassification Report\\n\")\n",
    "print(cr_NB)"
   ]
  },
  {
   "cell_type": "code",
   "execution_count": null,
   "id": "4dcc7121-e389-45ca-9461-9f11beb8ca8a",
   "metadata": {},
   "outputs": [],
   "source": [
    "# Calculate the confusion matrix to evaluate classifier performance\n",
    "cm_NB = metrics.confusion_matrix(y_test, test_preds)\n",
    "\n",
    "# Print a header indicating the following output is the confusion matrix\n",
    "print(\"Confusion Matrix\\n\")\n",
    "\n",
    "# Print the confusion matrix\n",
    "print(cm_NB)"
   ]
  },
  {
   "cell_type": "code",
   "execution_count": null,
   "id": "0f4d202f-4257-4fbc-8adc-638b2a5e0310",
   "metadata": {},
   "outputs": [],
   "source": [
    "# Create a heatmap visualization of the confusion matrix \n",
    "sns.heatmap(cm_NB, annot=True, cmap='Blues')"
   ]
  },
  {
   "cell_type": "markdown",
   "id": "c941b940-3881-4e8e-b078-94b3859f116c",
   "metadata": {},
   "source": [
    "##### This part of the code is commented which was made to run once for collecting csv with aggregated results of labels and scores"
   ]
  },
  {
   "cell_type": "code",
   "execution_count": null,
   "id": "1ae7daa5-7a43-4db3-98b7-fe934765c8cc",
   "metadata": {},
   "outputs": [],
   "source": [
    "## Create a new column 'Labels' in the DataFrame df1_copy and initialize its values to NaN\n",
    "# df1_copy['Labels'] = np.nan\n",
    "## Create a new column 'Scores' in the DataFrame df1_copy and initialize its values to NaN\n",
    "# df1_copy['Scores'] = np.nan"
   ]
  },
  {
   "cell_type": "code",
   "execution_count": null,
   "id": "f3bb6b79-3e92-49e7-8c61-58501da1d5d1",
   "metadata": {},
   "outputs": [],
   "source": [
    "# # Iterate through a range of indices starting from 10 (assuming there's a reason for this specific starting point)\n",
    "# for i in range(10, len(X_train)):\n",
    "#     # Find the index of the row in df1_copy where the 'headline' column matches X_train.iloc[i]\n",
    "#     j = df1_copy.index[df1_copy['headline'] == X_train.iloc[i]].tolist()[0]\n",
    "#     # Update the 'Labels' column in df1_copy with the prediction from train_preds for the corresponding row\n",
    "#     df1_copy['Labels'][j] = train_preds[i]\n",
    "#     # Update the 'Scores' column in df1_copy with the maximum prediction score from train_preds_score for the corresponding row\n",
    "#     df1_copy['Scores'][j] = np.max(train_preds_score[i])"
   ]
  },
  {
   "cell_type": "code",
   "execution_count": null,
   "id": "e50af923-2903-4eae-9512-39557c5129de",
   "metadata": {},
   "outputs": [],
   "source": [
    "# # Iterate through a range of indices starting from 0 (assuming you're iterating through the entire test set)\n",
    "# for i in range(0, len(X_test)):\n",
    "#     # Find the index of the row in df1_copy where the 'headline' column matches X_test.iloc[i]\n",
    "#     j = df1_copy.index[df1_copy['headline'] == X_test.iloc[i]].tolist()[0]  \n",
    "#     # Update the 'Labels' column in df1_copy with the prediction from test_preds for the corresponding row\n",
    "#     df1_copy['Labels'][j] = test_preds[i]  \n",
    "#     # Update the 'Scores' column in df1_copy with the maximum prediction score from test_preds_score for the corresponding row\n",
    "#     df1_copy['Scores'][j] = np.max(test_preds_score[i])"
   ]
  },
  {
   "cell_type": "code",
   "execution_count": null,
   "id": "31895cd2-b007-4f54-a6bb-2bfaff47c3d7",
   "metadata": {},
   "outputs": [],
   "source": [
    "# # Save the DataFrame df1 to a CSV file named 'Final-NB.csv'\n",
    "# df1.to_csv('Final-NB.csv')"
   ]
  },
  {
   "cell_type": "markdown",
   "id": "086c6655-39ab-47b8-b123-ad2878e5ef59",
   "metadata": {
    "jp-MarkdownHeadingCollapsed": true,
    "tags": []
   },
   "source": [
    "### 5.3. KNN Model:"
   ]
  },
  {
   "cell_type": "code",
   "execution_count": null,
   "id": "32071d20-846a-48f9-a762-21ce385d6220",
   "metadata": {},
   "outputs": [],
   "source": [
    "# Create a K-Nearest Neighbors (KNN) classifier with the specified hyperparameters\n",
    "model_knn = KNeighborsClassifier(n_neighbors=22, metric='cosine', weights='distance')"
   ]
  },
  {
   "cell_type": "markdown",
   "id": "6b365e1d-59f4-4328-931d-9530e1dd90f4",
   "metadata": {
    "jp-MarkdownHeadingCollapsed": true,
    "tags": []
   },
   "source": [
    "#### Train Set"
   ]
  },
  {
   "cell_type": "code",
   "execution_count": null,
   "id": "30caa15e-d5a2-474f-ac73-ef1023a0faf2",
   "metadata": {},
   "outputs": [],
   "source": [
    "# Fit the KNN classifier to the training feature vectors and corresponding labels\n",
    "model_knn.fit(train_feature_vects, y_train)\n",
    "# Make predictions on the training feature vectors \n",
    "pred_train_knn = model_knn.predict(train_feature_vects)\n",
    "# Get class probabilities for the training feature vectors\n",
    "pred_train_scores_knn = model_knn.predict_proba(train_feature_vects)"
   ]
  },
  {
   "cell_type": "code",
   "execution_count": null,
   "id": "b18aa5a0-453a-4565-8a4d-d382fdc2c8a5",
   "metadata": {},
   "outputs": [],
   "source": [
    "# Print out evaluation metrcics on train set\n",
    "print('Accuracy score on train set: {}'.format(metrics.accuracy_score(y_train,pred_train_knn)))\n",
    "print('F1 score on train set: {}'.format(metrics.f1_score(y_train,pred_train_knn, average='weighted')))\n",
    "print('Precision on train set: {}'.format(metrics.precision_score(y_train,pred_train_knn, average='weighted')))\n",
    "print('Recall on train set: {}'.format(metrics.recall_score(y_train,pred_train_knn, average='weighted')))\n",
    "print('ROC-AUC score on train set: {}'.format(metrics.roc_auc_score(y_train,pred_train_scores_knn, average='weighted',multi_class='ovr')))"
   ]
  },
  {
   "cell_type": "markdown",
   "id": "c2b9ff49-c44d-4499-91d9-dff87fb01839",
   "metadata": {
    "jp-MarkdownHeadingCollapsed": true,
    "tags": []
   },
   "source": [
    "#### Test Set"
   ]
  },
  {
   "cell_type": "code",
   "execution_count": null,
   "id": "f6e1f658-cf73-409c-b61e-c4e325970e5d",
   "metadata": {},
   "outputs": [],
   "source": [
    "# Make predictions on the test feature vectors \n",
    "pred_test_knn = model_knn.predict(test_feature_vects)\n",
    "\n",
    "# Get class probabilities for the test feature vectors\n",
    "pred_test_scores_knn = model_knn.predict_proba(test_feature_vects)"
   ]
  },
  {
   "cell_type": "code",
   "execution_count": null,
   "id": "9495cfa7-5f30-47a2-8119-ed1a03ef2936",
   "metadata": {},
   "outputs": [],
   "source": [
    "# Print out evaluation metrcics on test set\n",
    "print('Accuracy score on test set: {}'.format(metrics.accuracy_score(y_test,pred_test_knn)))\n",
    "print('F1 score on test set: {}'.format(metrics.f1_score(y_test,pred_test_knn, average='weighted')))\n",
    "print('Precision on test set: {}'.format(metrics.precision_score(y_test,pred_test_knn, average='weighted')))\n",
    "print('Recall on test set: {}'.format(metrics.recall_score(y_test,pred_test_knn, average='weighted')))\n",
    "print('AUC score on test set: {}'.format(metrics.roc_auc_score(y_test,pred_test_scores_knn, average='weighted',multi_class='ovr')))"
   ]
  },
  {
   "cell_type": "code",
   "execution_count": null,
   "id": "31be7c26-a16a-4cc3-864b-b08f19240d0c",
   "metadata": {},
   "outputs": [],
   "source": [
    "# Generate a classification report to evaluate KNN classifier's performance on the test data\n",
    "cr_KNN = metrics.classification_report(y_test, pred_test_knn)\n",
    "# Print the classification report\n",
    "print(\"\\n\\nClassification Report\\n\")\n",
    "print(cr_KNN)"
   ]
  },
  {
   "cell_type": "code",
   "execution_count": null,
   "id": "ea5f142e-d6be-4dd9-8a5a-4cb1e438bb0a",
   "metadata": {},
   "outputs": [],
   "source": [
    "# Calculate the confusion matrix to evaluate KNN classifier performance on the test data\n",
    "cm_KNN = metrics.confusion_matrix(y_test, pred_test_knn)\n",
    "# Print the confusion matrix\n",
    "print(\"Confusion Matrix\\n\")\n",
    "print(cm_KNN)"
   ]
  },
  {
   "cell_type": "code",
   "execution_count": null,
   "id": "d003c39f-7a42-42ca-903f-c22613a336ee",
   "metadata": {},
   "outputs": [],
   "source": [
    "# Create a heatmap visualization of the confusion matrix \n",
    "sns.heatmap(cm_KNN, annot=True, cmap='Blues')"
   ]
  },
  {
   "cell_type": "code",
   "execution_count": null,
   "id": "39acc8a9-bef3-4e80-8331-1d4a7adb04f5",
   "metadata": {},
   "outputs": [],
   "source": [
    "# df1_copy['Labels'] = np.nan\n",
    "# df1_copy['Scores'] = np.nan"
   ]
  },
  {
   "cell_type": "code",
   "execution_count": null,
   "id": "e582e25d-dc4c-47f6-8b45-ce5380eac58e",
   "metadata": {},
   "outputs": [],
   "source": [
    "# for i in range(10,len(X_train)):\n",
    "#   j=df1_copy.index[df1_copy['headline']==X_train.iloc[i]].tolist()[0]\n",
    "#   df1_copy['Labels'][j] = pred_train_knn[i]\n",
    "#   df1_copy['Scores'][j] = np.max(pred_train_scores_knn[i])"
   ]
  },
  {
   "cell_type": "code",
   "execution_count": null,
   "id": "d3cc20cb-18e2-4b18-9cc2-24d1ec9fe876",
   "metadata": {},
   "outputs": [],
   "source": [
    "# for i in range(0,len(X_test)):\n",
    "#   j=df1_copy.index[df1_copy['headline']==X_test.iloc[i]].tolist()[0]\n",
    "#   df1_copy['Labels'][j] = pred_test[i]\n",
    "#   df1_copy['Scores'][j] = np.max(pred_test_scores_knn[i])"
   ]
  },
  {
   "cell_type": "code",
   "execution_count": null,
   "id": "6449645c-8416-4c93-b40a-d056bf6c56de",
   "metadata": {},
   "outputs": [],
   "source": [
    "# df1.to_csv('Final-KNN.csv')"
   ]
  },
  {
   "cell_type": "markdown",
   "id": "aeb362ad-61bc-4870-b706-89995ab04300",
   "metadata": {
    "tags": []
   },
   "source": [
    "### 5.4. Graphs:"
   ]
  },
  {
   "cell_type": "markdown",
   "id": "cc6c9414-05f9-49af-8a79-95c9be23913e",
   "metadata": {
    "jp-MarkdownHeadingCollapsed": true,
    "tags": []
   },
   "source": [
    "#### 5.4.1. Naive Bayes"
   ]
  },
  {
   "cell_type": "code",
   "execution_count": null,
   "id": "4e73a875-b2cc-4d88-b9c9-817dbf63d141",
   "metadata": {},
   "outputs": [],
   "source": [
    "# Create a LabelBinarizer and fit it to the training labels\n",
    "label_binarizer1 = LabelBinarizer().fit(y_train)\n",
    "\n",
    "# Transform the test labels into one-hot encoded binary vectors\n",
    "y_onehot_test = label_binarizer1.transform(y_test)\n",
    "\n",
    "# Transform the label [1] into a one-hot encoded binary vector\n",
    "label_binarizer1.transform([1])"
   ]
  },
  {
   "cell_type": "code",
   "execution_count": null,
   "id": "a605a7b5-568d-40b9-8507-89867a4faf59",
   "metadata": {},
   "outputs": [],
   "source": [
    "# Define the class of interest and its corresponding class ID for class 0\n",
    "class_of_interest0 = 0\n",
    "class_id0 = np.flatnonzero(label_binarizer1.classes_ == 0)[0]\n",
    "\n",
    "# Define the class of interest and its corresponding class ID for class 1\n",
    "class_of_interest1 = 1\n",
    "class_id1 = np.flatnonzero(label_binarizer1.classes_ == 1)[0]\n",
    "\n",
    "# Define the class of interest and its corresponding class ID for class 2\n",
    "class_of_interest2 = 2\n",
    "class_id2 = np.flatnonzero(label_binarizer1.classes_ == 2)[0]"
   ]
  },
  {
   "cell_type": "code",
   "execution_count": null,
   "id": "3caad41c-9f09-471c-8660-b38ce92aa1d7",
   "metadata": {},
   "outputs": [],
   "source": [
    "# ROC curve for class 0 vs the rest\n",
    "RocCurveDisplay.from_predictions(\n",
    "    y_onehot_test[:, class_id0],\n",
    "    test_preds_score[:, class_id0],\n",
    "    name=f\"{class_of_interest0} vs the rest\",\n",
    "    color=\"darkorange\"\n",
    ")\n",
    "plt.axis(\"square\")\n",
    "plt.xlabel(\"False Positive Rate\")\n",
    "plt.ylabel(\"True Positive Rate\")\n",
    "plt.title(\"One-vs-Rest ROC curves:\\nNegative vs (Neutral& Positive)\")\n",
    "plt.legend()\n",
    "plt.show()"
   ]
  },
  {
   "cell_type": "code",
   "execution_count": null,
   "id": "b781861d-e12b-4706-ae93-f12fbc0198a6",
   "metadata": {},
   "outputs": [],
   "source": [
    "# ROC curve for class 1 vs the rest\n",
    "RocCurveDisplay.from_predictions(\n",
    "    y_onehot_test[:, class_id1],\n",
    "    test_preds_score[:, class_id1],\n",
    "    name=f\"{class_of_interest1} vs the rest\",\n",
    "    color=\"green\"\n",
    ")\n",
    "plt.axis(\"square\")\n",
    "plt.xlabel(\"False Positive Rate\")\n",
    "plt.ylabel(\"True Positive Rate\")\n",
    "plt.title(\"One-vs-Rest ROC curves:\\nNeutral vs (Negative& Positive)\")\n",
    "plt.legend()\n",
    "plt.show()"
   ]
  },
  {
   "cell_type": "code",
   "execution_count": null,
   "id": "5a05e7ce-55c8-4d2b-9718-10abea28233f",
   "metadata": {},
   "outputs": [],
   "source": [
    "# ROC curve for class 2 vs the rest\n",
    "RocCurveDisplay.from_predictions(\n",
    "    y_onehot_test[:, class_id2],\n",
    "    test_preds_score[:, class_id2],\n",
    "    name=f\"{class_of_interest2} vs the rest\",\n",
    "    color=\"blue\"\n",
    ")\n",
    "plt.axis(\"square\")\n",
    "plt.xlabel(\"False Positive Rate\")\n",
    "plt.ylabel(\"True Positive Rate\")\n",
    "plt.title(\"One-vs-Rest ROC curves:\\nPositive vs (Negative& Neutral)\")\n",
    "plt.legend()\n",
    "plt.show()\n"
   ]
  },
  {
   "cell_type": "code",
   "execution_count": null,
   "id": "29119e64-94e9-4d7c-ace4-5254c92feaf4",
   "metadata": {},
   "outputs": [],
   "source": [
    "# Micro-averaged ROC curve\n",
    "RocCurveDisplay.from_predictions(\n",
    "    y_onehot_test.ravel(),\n",
    "    test_preds_score.ravel(),\n",
    "    name=\"micro-average OvR\",\n",
    "    color=\"darkorange\"\n",
    ")\n",
    "plt.axis(\"square\")\n",
    "plt.xlabel(\"False Positive Rate\")\n",
    "plt.ylabel(\"True Positive Rate\")\n",
    "plt.title(\"Micro-averaged One-vs-Rest\\nReceiver Operating Characteristic\")\n",
    "plt.legend()\n",
    "plt.show()"
   ]
  },
  {
   "cell_type": "markdown",
   "id": "78369320-5a6f-4fa4-bc0d-b9227b26df08",
   "metadata": {
    "jp-MarkdownHeadingCollapsed": true,
    "tags": []
   },
   "source": [
    "#### 5.4.2. KNN"
   ]
  },
  {
   "cell_type": "code",
   "execution_count": null,
   "id": "46386506-81ae-4c58-9b6b-3a2e153799f0",
   "metadata": {},
   "outputs": [],
   "source": [
    "# ROC curve for class 0 vs the rest using pred_test_scores_knn\n",
    "RocCurveDisplay.from_predictions(\n",
    "    y_onehot_test[:, class_id0],\n",
    "    pred_test_scores_knn[:, class_id0],\n",
    "    name=f\"{class_of_interest0} vs the rest\",\n",
    "    color=\"darkorange\"\n",
    ")\n",
    "plt.axis(\"square\")\n",
    "plt.xlabel(\"False Positive Rate\")\n",
    "plt.ylabel(\"True Positive Rate\")\n",
    "plt.title(\"One-vs-Rest ROC curves:\\nNegative vs (Neutral& Positive)\")\n",
    "plt.legend()\n",
    "plt.show()"
   ]
  },
  {
   "cell_type": "code",
   "execution_count": null,
   "id": "0a025c25-7df4-4b56-ada1-a9ac3fabffef",
   "metadata": {},
   "outputs": [],
   "source": [
    "# ROC curve for class 1 vs the rest using pred_test_scores_knn\n",
    "RocCurveDisplay.from_predictions(\n",
    "    y_onehot_test[:, class_id1],\n",
    "    pred_test_scores_knn[:, class_id1],\n",
    "    name=f\"{class_of_interest1} vs the rest\",\n",
    "    color=\"green\"\n",
    ")\n",
    "plt.axis(\"square\")\n",
    "plt.xlabel(\"False Positive Rate\")\n",
    "plt.ylabel(\"True Positive Rate\")\n",
    "plt.title(\"One-vs-Rest ROC curves:\\nNeutral vs (Negative& Positive)\")\n",
    "plt.legend()\n",
    "plt.show()\n"
   ]
  },
  {
   "cell_type": "code",
   "execution_count": null,
   "id": "d15aa4cb-1a2f-4b54-9f53-3e18b5f76745",
   "metadata": {},
   "outputs": [],
   "source": [
    "# ROC curve for class 2 vs the rest using pred_test_scores_knn\n",
    "RocCurveDisplay.from_predictions(\n",
    "    y_onehot_test[:, class_id2],\n",
    "    pred_test_scores_knn[:, class_id2],\n",
    "    name=f\"{class_of_interest2} vs the rest\",\n",
    "    color=\"blue\"\n",
    ")\n",
    "plt.axis(\"square\")\n",
    "plt.xlabel(\"False Positive Rate\")\n",
    "plt.ylabel(\"True Positive Rate\")\n",
    "plt.title(\"One-vs-Rest ROC curves:\\nPositive vs (Negative& Neutral)\")\n",
    "plt.legend()\n",
    "plt.show()"
   ]
  },
  {
   "cell_type": "code",
   "execution_count": null,
   "id": "e3b17cb9-2421-4ca3-8826-9c442f18f658",
   "metadata": {},
   "outputs": [],
   "source": [
    "# Micro-averaged ROC curve using pred_test_scores_knn\n",
    "RocCurveDisplay.from_predictions(\n",
    "    y_onehot_test.ravel(),\n",
    "    pred_test_scores_knn.ravel(),\n",
    "    name=\"micro-average OvR\",\n",
    "    color=\"darkorange\"\n",
    ")\n",
    "plt.axis(\"square\")\n",
    "plt.xlabel(\"False Positive Rate\")\n",
    "plt.ylabel(\"True Positive Rate\")\n",
    "plt.title(\"Micro-averaged One-vs-Rest\\nReceiver Operating Characteristic\")\n",
    "plt.legend()\n",
    "plt.show()"
   ]
  },
  {
   "cell_type": "markdown",
   "id": "9f7b9cb0-acd5-4dbd-b2db-67ffd4a7f9e5",
   "metadata": {
    "jp-MarkdownHeadingCollapsed": true,
    "tags": []
   },
   "source": [
    "### 5.5. Comparison of predictions between HuggingFace, Naive Bayes and KNN: "
   ]
  },
  {
   "cell_type": "code",
   "execution_count": null,
   "id": "f30591c0-c8e2-4caf-9f3f-bc2bec1dd3e3",
   "metadata": {},
   "outputs": [],
   "source": [
    "# Create a PCA object with 2 principal components\n",
    "pca = PCA(n_components=2)\n",
    "# Convert the test feature vectors to dense matrix \n",
    "dense_matrix_test = test_feature_vects.toarray()\n",
    "# Apply PCA to the dense matrix to reduce it to 2 principal components\n",
    "pca_x_test = pca.fit_transform(dense_matrix_test)"
   ]
  },
  {
   "cell_type": "code",
   "execution_count": null,
   "id": "305553d1-eaf6-454f-9778-489430a237df",
   "metadata": {},
   "outputs": [],
   "source": [
    "# Create subplot for features \n",
    "plt.subplot(1, 3, 1)\n",
    "new_list_x=[]\n",
    "new_list_y=[]\n",
    "for j in range(0,len(y_test)):\n",
    "    if y_test[j]==0:\n",
    "        new_list_x.append(pca_x_test[j][0])\n",
    "        new_list_y.append(pca_x_test[j][1])\n",
    "        label_str = 'Negative'\n",
    "plt.scatter(new_list_x,new_list_y,label=f'{label_str}', c=np.random.rand(3,), edgecolor='k',s=40)   \n",
    "plt.legend()\n",
    "plt.xlabel(\"Features reduced\",fontsize=10)\n",
    "plt.ylabel(\"Features reduced\",fontsize=10)\n",
    "plt.title(\"Negative HF\")\n",
    "\n",
    "\n",
    "plt.subplot(1,3,2)\n",
    "for j in range(0,len(test_preds)):\n",
    "    if y_test[j]==0:\n",
    "        new_list_x.append(pca_x_test[j][0])\n",
    "        new_list_y.append(pca_x_test[j][1])\n",
    "        label_str = 'Negative'\n",
    "plt.scatter(new_list_x,new_list_y,label=f'{label_str}', c=np.random.rand(3,),edgecolor='k',s=30)   \n",
    "plt.legend()\n",
    "plt.title(\"Negative NB\")\n",
    "\n",
    "\n",
    "plt.subplot(1,3,3)\n",
    "for j in range(0,len(pred_test_knn)):\n",
    "    if y_test[j]==0:\n",
    "        new_list_x.append(pca_x_test[j][0])\n",
    "        new_list_y.append(pca_x_test[j][1])\n",
    "        label_str = 'Negative'\n",
    "plt.scatter(new_list_x,new_list_y,label=f'{label_str}', c=np.random.rand(3,),edgecolor='k',s=30)   \n",
    "plt.legend()\n",
    "plt.title(\"Negative KNN\")\n",
    "plt.show()"
   ]
  },
  {
   "cell_type": "code",
   "execution_count": null,
   "id": "dd4997d1-811e-4419-ba45-882e87f44e93",
   "metadata": {},
   "outputs": [],
   "source": [
    "plt.subplot(1, 3, 1)\n",
    "new_list_x=[]\n",
    "new_list_y=[]\n",
    "for j in range(0,len(y_test)):\n",
    "    if y_test[j]==1:\n",
    "        new_list_x.append(pca_x_test[j][0])\n",
    "        new_list_y.append(pca_x_test[j][1])\n",
    "        label_str = 'Neutral'\n",
    "plt.scatter(new_list_x,new_list_y,label=f'{label_str}', c=np.random.rand(3,), edgecolor='k',s=40)   \n",
    "plt.legend()\n",
    "plt.xlabel(\"Features reduced\",fontsize=10)\n",
    "plt.ylabel(\"Features reduced\",fontsize=10)\n",
    "plt.title(\"Neutral HF\")\n",
    "\n",
    "\n",
    "plt.subplot(1,3,2)\n",
    "for j in range(0,len(test_preds)):\n",
    "    if y_test[j]==1:\n",
    "        new_list_x.append(pca_x_test[j][0])\n",
    "        new_list_y.append(pca_x_test[j][1])\n",
    "        label_str = 'Neutral'\n",
    "plt.scatter(new_list_x,new_list_y,label=f'{label_str}', c=np.random.rand(3,),edgecolor='k',s=30)   \n",
    "plt.legend()\n",
    "plt.title(\"Neutral NB\")\n",
    "\n",
    "plt.subplot(1,3,3)\n",
    "for j in range(0,len(pred_test_knn)):\n",
    "    if y_test[j]==1:\n",
    "        new_list_x.append(pca_x_test[j][0])\n",
    "        new_list_y.append(pca_x_test[j][1])\n",
    "        label_str = 'Neutral'\n",
    "plt.scatter(new_list_x,new_list_y,label=f'{label_str}', c=np.random.rand(3,),edgecolor='k',s=30)   \n",
    "plt.legend()\n",
    "plt.title(\"Neutral KNN\")\n",
    "plt.show()"
   ]
  },
  {
   "cell_type": "code",
   "execution_count": null,
   "id": "cf862781-eeb5-4c6c-bad0-82c7dca49cab",
   "metadata": {},
   "outputs": [],
   "source": [
    "# Create subplot for features \n",
    "plt.subplot(1, 3, 1)\n",
    "new_list_x=[]\n",
    "new_list_y=[]\n",
    "for j in range(0,len(y_test)):\n",
    "    if y_test[j]==2:\n",
    "        new_list_x.append(pca_x_test[j][0])\n",
    "        new_list_y.append(pca_x_test[j][1])\n",
    "        label_str = 'Positive'\n",
    "plt.scatter(new_list_x,new_list_y,label=f'{label_str}', c=np.random.rand(3,), edgecolor='k',s=40)   \n",
    "plt.legend()\n",
    "plt.xlabel(\"Features reduced\",fontsize=10)\n",
    "plt.ylabel(\"Features reduced\",fontsize=10)\n",
    "plt.title(\"Positive HF\")\n",
    "\n",
    "\n",
    "plt.subplot(1,3,2)\n",
    "for j in range(0,len(test_preds)):\n",
    "    if y_test[j]==2:\n",
    "        new_list_x.append(pca_x_test[j][0])\n",
    "        new_list_y.append(pca_x_test[j][1])\n",
    "        label_str = 'Positive'\n",
    "plt.scatter(new_list_x,new_list_y,label=f'{label_str}', c=np.random.rand(3,),edgecolor='k',s=30)   \n",
    "plt.legend()\n",
    "plt.title(\"Positive NB\")\n",
    "\n",
    "plt.subplot(1,3,3)\n",
    "for j in range(0,len(pred_test_knn)):\n",
    "    if y_test[j]==2:\n",
    "        new_list_x.append(pca_x_test[j][0])\n",
    "        new_list_y.append(pca_x_test[j][1])\n",
    "        label_str = 'Positive'\n",
    "plt.scatter(new_list_x,new_list_y,label=f'{label_str}', c=np.random.rand(3,),edgecolor='k',s=30)   \n",
    "plt.legend()\n",
    "plt.title(\"Positive KNN\")\n",
    "plt.show()"
   ]
  },
  {
   "cell_type": "markdown",
   "id": "819325b5-701a-4cb4-b58d-03f772c44578",
   "metadata": {
    "jp-MarkdownHeadingCollapsed": true,
    "tags": []
   },
   "source": [
    "#  PHASE III - CONTENT-BASED COLLABORATIVE FILTERING"
   ]
  },
  {
   "cell_type": "markdown",
   "id": "cae56f2f-c87d-487e-96bc-2e90d6f7cba9",
   "metadata": {
    "jp-MarkdownHeadingCollapsed": true,
    "tags": []
   },
   "source": [
    "## 6. Preprocessing for Feature Representation"
   ]
  },
  {
   "cell_type": "code",
   "execution_count": 2,
   "id": "c20bcb43-1d51-4bec-a74c-83539c5335b9",
   "metadata": {},
   "outputs": [
    {
     "name": "stdout",
     "output_type": "stream",
     "text": [
      "Index(['Unnamed: 0.1', 'index', 'Unnamed: 0', 'headline', 'url', 'publisher',\n",
      "       'date', 'stock', 'Labels', 'Scores'],\n",
      "      dtype='object')\n",
      "         date ticker  labels    scores\n",
      "0  2017-02-11      A     2.0  0.649311\n",
      "1  2017-02-13      A     1.0  0.726289\n",
      "2  2017-02-14      A     1.0  1.000000\n",
      "3  2017-02-15      A     2.0  0.405166\n",
      "4  2017-02-27      A     1.0  0.690469\n"
     ]
    }
   ],
   "source": [
    "# Read result from sentiment analysis \n",
    "sentiment_df = pd.read_csv('Final-KNN.csv')\n",
    "print(sentiment_df.columns)\n",
    "\n",
    "# Drop unwanted columns\n",
    "unwanted_columns = ['Unnamed: 0.1', 'index', 'Unnamed: 0', 'headline', 'url', 'publisher']\n",
    "sentiment_df = sentiment_df.drop(columns=unwanted_columns)\n",
    "sentiment_df.head()\n",
    "\n",
    "# Extract only yyyy-mm-dd\n",
    "sentiment_df['date'] = pd.to_datetime(sentiment_df['date']).dt.date\n",
    "\n",
    "# Sort df by 'ticker', 'date', and 'Scores' in descending order\n",
    "sentiment_df = sentiment_df.rename(columns={'stock': 'ticker'})\n",
    "sentiment_df = sentiment_df.sort_values(by=['ticker', 'date', 'Scores'], ascending=[True, True, False])\n",
    "\n",
    "# Get the highest score for each unique 'ticker' and 'date' combination\n",
    "sentiment_df = sentiment_df.drop_duplicates(subset=['ticker', 'date'], keep='first')\n",
    "sentiment_df = sentiment_df.reset_index(drop=True)\n",
    "sentiment_df.columns = sentiment_df.columns.str.lower()\n",
    "print(sentiment_df.head())"
   ]
  },
  {
   "cell_type": "code",
   "execution_count": 3,
   "id": "ad276ce1-b94a-469d-941e-91358e18573f",
   "metadata": {},
   "outputs": [
    {
     "data": {
      "text/html": [
       "<div>\n",
       "<style scoped>\n",
       "    .dataframe tbody tr th:only-of-type {\n",
       "        vertical-align: middle;\n",
       "    }\n",
       "\n",
       "    .dataframe tbody tr th {\n",
       "        vertical-align: top;\n",
       "    }\n",
       "\n",
       "    .dataframe thead th {\n",
       "        text-align: right;\n",
       "    }\n",
       "</style>\n",
       "<table border=\"1\" class=\"dataframe\">\n",
       "  <thead>\n",
       "    <tr style=\"text-align: right;\">\n",
       "      <th></th>\n",
       "      <th>feature_1</th>\n",
       "      <th>feature_2</th>\n",
       "      <th>feature_3</th>\n",
       "      <th>feature_4</th>\n",
       "      <th>feature_5</th>\n",
       "      <th>date</th>\n",
       "      <th>ticker</th>\n",
       "      <th>close</th>\n",
       "    </tr>\n",
       "  </thead>\n",
       "  <tbody>\n",
       "    <tr>\n",
       "      <th>0</th>\n",
       "      <td>-4.694621</td>\n",
       "      <td>0.050102</td>\n",
       "      <td>0.525245</td>\n",
       "      <td>-4.551044</td>\n",
       "      <td>1.058598</td>\n",
       "      <td>2017-01-03</td>\n",
       "      <td>A</td>\n",
       "      <td>46.178</td>\n",
       "    </tr>\n",
       "    <tr>\n",
       "      <th>1</th>\n",
       "      <td>-4.948428</td>\n",
       "      <td>0.293337</td>\n",
       "      <td>0.468583</td>\n",
       "      <td>-4.553871</td>\n",
       "      <td>1.065424</td>\n",
       "      <td>2017-01-04</td>\n",
       "      <td>A</td>\n",
       "      <td>46.784</td>\n",
       "    </tr>\n",
       "    <tr>\n",
       "      <th>2</th>\n",
       "      <td>-4.885045</td>\n",
       "      <td>0.113366</td>\n",
       "      <td>0.636895</td>\n",
       "      <td>-4.541259</td>\n",
       "      <td>1.020767</td>\n",
       "      <td>2017-01-05</td>\n",
       "      <td>A</td>\n",
       "      <td>46.228</td>\n",
       "    </tr>\n",
       "    <tr>\n",
       "      <th>3</th>\n",
       "      <td>-5.465603</td>\n",
       "      <td>0.731387</td>\n",
       "      <td>0.340322</td>\n",
       "      <td>-4.613235</td>\n",
       "      <td>1.154764</td>\n",
       "      <td>2017-01-06</td>\n",
       "      <td>A</td>\n",
       "      <td>47.668</td>\n",
       "    </tr>\n",
       "    <tr>\n",
       "      <th>4</th>\n",
       "      <td>-5.977897</td>\n",
       "      <td>1.172599</td>\n",
       "      <td>0.107106</td>\n",
       "      <td>-4.593020</td>\n",
       "      <td>1.132056</td>\n",
       "      <td>2017-01-09</td>\n",
       "      <td>A</td>\n",
       "      <td>47.817</td>\n",
       "    </tr>\n",
       "  </tbody>\n",
       "</table>\n",
       "</div>"
      ],
      "text/plain": [
       "   feature_1  feature_2  feature_3  feature_4  feature_5       date ticker  \\\n",
       "0  -4.694621   0.050102   0.525245  -4.551044   1.058598 2017-01-03      A   \n",
       "1  -4.948428   0.293337   0.468583  -4.553871   1.065424 2017-01-04      A   \n",
       "2  -4.885045   0.113366   0.636895  -4.541259   1.020767 2017-01-05      A   \n",
       "3  -5.465603   0.731387   0.340322  -4.613235   1.154764 2017-01-06      A   \n",
       "4  -5.977897   1.172599   0.107106  -4.593020   1.132056 2017-01-09      A   \n",
       "\n",
       "    close  \n",
       "0  46.178  \n",
       "1  46.784  \n",
       "2  46.228  \n",
       "3  47.668  \n",
       "4  47.817  "
      ]
     },
     "execution_count": 3,
     "metadata": {},
     "output_type": "execute_result"
    }
   ],
   "source": [
    "# Read the CSV file into a DataFrame\n",
    "stock_df = pd.read_csv('pca_stock_result.csv')\n",
    "# Convert the 'Date' column to datetime format\n",
    "stock_df['Date'] = pd.to_datetime(stock_df['Date'])\n",
    "# Set the 'Date' column as the DataFrame's index \n",
    "stock_df.set_index('Date', inplace=False)\n",
    "# Rename columns to lowercase\n",
    "stock_df = stock_df.rename(columns={\n",
    "    'Feature_1': 'feature_1',\n",
    "    'Feature_2': 'feature_2',\n",
    "    'Feature_3': 'feature_3',\n",
    "    'Feature_4': 'feature_4',\n",
    "    'Feature_5': 'feature_5',\n",
    "    'Date': 'date',\n",
    "    'Ticker': 'ticker',\n",
    "    'Close': 'close'\n",
    "})\n",
    "\n",
    "# Display the first few rows of the DataFrame\n",
    "stock_df.head()"
   ]
  },
  {
   "cell_type": "code",
   "execution_count": 4,
   "id": "26f51dc2-2b91-4160-bad7-2862f105343d",
   "metadata": {},
   "outputs": [
    {
     "data": {
      "text/plain": [
       "False"
      ]
     },
     "execution_count": 4,
     "metadata": {},
     "output_type": "execute_result"
    }
   ],
   "source": [
    "# Verify the tickers match between data sets\n",
    "stock_tickers = stock_df['ticker'].unique()\n",
    "sentiment_tickers = sentiment_df['ticker'].unique()\n",
    "set(stock_tickers) == set(sentiment_tickers)"
   ]
  },
  {
   "cell_type": "code",
   "execution_count": 102,
   "id": "0338b9e5-49a0-4c82-947c-cf67877e99b4",
   "metadata": {
    "collapsed": true,
    "jupyter": {
     "outputs_hidden": true
    },
    "tags": []
   },
   "outputs": [
    {
     "name": "stdout",
     "output_type": "stream",
     "text": [
      "Tickers missing in stock_df but present in sentiment_df: {'BLPH', 'ENV', 'SRG', 'LCAHW', 'VKI', 'MYD', 'CONN', 'GDS', 'URGN', 'EGF', 'ENIC', 'LGI', 'MXC', 'AMGN', 'DNP', 'WK', 'MIN', 'NCV', 'DARE', 'ZKIN', 'CTBB', 'ENO', 'EVV', 'ROST', 'NXP', 'PTY', 'KRNT', 'ATLC', 'RETA', 'MHI', 'MHD', 'GWRS', 'STK', 'CRM', 'UHAL', 'CBD', 'CTDD', 'LOMA', 'DWAC', 'CSTR', 'CARA', 'APLS', 'TCON', 'CGNX', 'MTX', 'GOOG', 'HESM', 'LIFE', 'CDTX', 'NBO', 'MFM', 'MSN', 'YRD', 'VRNA', 'CRSP', 'IDE', 'WIA', 'CLSD', 'PMM', 'MLCO', 'NPV', 'RRR', 'FIVE', 'CBOE', 'SITE', 'CWST', 'ZG', 'LAUR', 'CVI', 'SD', 'AXSM', 'CBRL', 'HLI', 'RDFN', 'TWN', 'NGVT', 'BABA', 'ADVM', 'ASPN', 'ACRS', 'LCII', 'JNPR', 'APPN', 'JEQ', 'MCRB', 'BNJ', 'ZDGE', 'SUM', 'SELB', 'SGH', 'NCNA', 'NDRA', 'NAN', 'GOOGL', 'TPIC', 'EXG', 'DEA', 'TRU', 'CENX', 'EDU', 'OBE', 'PDLB', 'IMGN', 'CASH', 'CE', 'CBH', 'KALA', 'RZB', 'PIXY', 'JPT', 'RS', 'DESP', 'BME', 'NXRT', 'CXH', 'NIM', 'BGT', 'ISRG', 'NBB', 'FDEU', 'EMO', 'ASND', 'HONE', 'BRN', 'NCTY', 'NQP', 'VKTX', 'FFIV', 'AMPH', 'PZC', 'HLNE', 'OPTN', 'PFL', 'PLYM', 'CHUY', 'MGF', 'GOLF', 'OR', 'SNAP', 'ATUS', 'BLX', 'FFNW', 'ETV', 'MDB', 'RIV', 'WOW', 'RYAM', 'NKX', 'XELA', 'CAF', 'VFL', 'DBL', 'ETO', 'DMB', 'ETJ', 'WVE', 'ATOS', 'IGA', 'BIT', 'GSBD', 'TGI', 'OVID', 'NAC', 'SMHI', 'RH', 'CEV', 'IHD', 'MHLD', 'FSBC', 'CHCI', 'KRP', 'DSL', 'NMZ', 'SFR', 'JCE', 'LOB', 'BIDU', 'BKD', 'LRCX', 'HIX', 'RIO', 'HTD', 'ATOM', 'NAZ', 'TGLS', 'SAFT', 'HPF', 'IMRN', 'FPH', 'FTS', 'ZYNE', 'HRI', 'SUPV', 'PEN', 'GPJA', 'PHD', 'PMX', 'VCYT', 'MSBI', 'TSLA', 'TWNK', 'EOI', 'MANU', 'RMNI', 'GLPG', 'ERC', 'AGI', 'DTF', 'EXAS', 'LC', 'KSM', 'PLNT', 'OLLI', 'AMS', 'TUSK', 'IHIT', 'NEXT', 'SQ', 'JPS', 'PSTG', 'NUS', 'SVT', 'ISRL', 'ATAI', 'BAND', 'EDIT', 'GASS', 'CVNA', 'MUI', 'NTLA', 'GOOD', 'HIMX', 'CNFR', 'JOF', 'OSG', 'YEXT', 'SWIN', 'VOC', 'LSTR', 'APRN', 'BNED', 'GNL', 'LKQ', 'EIGR', 'FUV', 'INPX', 'HGV', 'CII', 'BW', 'DKS', 'CPIX', 'RHE', 'TRTN', 'EURN', 'ICHR', 'WEA', 'ACLS', 'ALRM', 'RNGR', 'EVA', 'EDD', 'EXPR', 'RWT', 'INSE', 'TEI', 'BTO', 'PI', 'IMMR', 'PX', 'KN', 'POLA', 'ESQ', 'VYGR', 'CACC', 'BBN', 'MELI', 'AMSC', 'MUC', 'NTB', 'DRH', 'FAT', 'TTD', 'PJT', 'BHACW', 'SE', 'PFD', 'GM', 'ALPN', 'INVH', 'FANH', 'ENX', 'NXPI', 'AIRG', 'ASIX', 'USM', 'ABG', 'OUT', 'HTLD', 'JILL', 'NMS', 'FBNC', 'WYNN', 'INSW', 'MMT', 'EMF', 'EVT', 'VTVT', 'KBH', 'CRVS', 'OXBRW', 'KEN', 'PML', 'TBB', 'NUV', 'SCWX', 'MRBK', 'DHY', 'CUTR', 'RYTM', 'PMO', 'GLV', 'CTV', 'BETR', 'RCL', 'RCS', 'XFLT', 'MESO', 'CGEN', 'AKBA', 'AQMS', 'DG', 'MSD', 'TCBI', 'IAE', 'SPLK', 'TTWO', 'SYF', 'MHN', 'HYI', 'HMST', 'VSTO', 'BBU', 'NOK', 'SFB', 'MPA', 'IIPR', 'DCF', 'ADNT', 'MDGL', 'AVGR', 'AER', 'CHRS', 'CLNE', 'CLPR', 'ZLAB', 'NODK', 'GOOS', 'ING', 'RELY', 'EOT', 'BUR', 'LIND', 'IAF', 'SHOP', 'BYSI', 'KREF', 'GSBC', 'BRACR', 'INST', 'QCOM', 'DPG', 'SND', 'DERM', 'RA', 'DSKE', 'GS', 'AZUL', 'GBR', 'MQY', 'YUMC', 'THQ', 'XBIT', 'TRTX', 'WTI', 'ZTO', 'VLT', 'CRI', 'MBIN', 'QD', 'MQT', 'AXON', 'SECO', 'SMCI', 'PVBC', 'FNWB', 'HLTH', 'AMAT', 'TDG', 'PCQ', 'AAPL', 'BCRX', 'MRAM', 'MUA', 'AIC', 'BZUN', 'MHF', 'ENPH', 'EVC', 'EAI', 'AJX', 'IGD', 'CBIO', 'SRTS', 'GPACW', 'SLAB', 'EXEL', 'HPI', 'CODX', 'CWH', 'BGB', 'CHEK', 'URBN', 'BOE', 'AMBA', 'AMKR', 'BKN', 'FSI', 'CCV', 'BCX', 'MMU', 'JPI', 'CBL', 'CTRN', 'APPF', 'SNOA', 'NRO', 'NXN', 'TEAM', 'JRS', 'AFGE', 'FSLR', 'NTNX', 'CARS', 'ACN', 'HUBB', 'GNT', 'PFH', 'PAVM', 'MPV', 'EDF', 'TSE', 'APT', 'MTNB', 'EEX', 'PETQ', 'GPP', 'MTEM', 'ORA', 'NIE', 'CGO', 'EVN', 'MHLA', 'USA', 'GILD', 'OPGN', 'CSSE', 'XIN', 'BYM', 'VECO', 'TPB', 'DLTH', 'UFAB', 'TRVG', 'PDI', 'CET', 'NRK', 'AVK', 'BLBD', 'JHG', 'MRUS', 'HFRO', 'MIY', 'MHNC', 'FEDU', 'TRIB', 'BST', 'ABCB', 'RFI', 'BHV', 'MEDP', 'KNX', 'EVBG', 'MNP', 'BX', 'LQDT', 'CECO', 'PAC', 'AVIR', 'BHACU', 'VIRT', 'JBGS', 'WRK', 'AQN', 'NNY', 'DO', 'ORC', 'PGP', 'MMV', 'TWLO', 'TMST', 'GGN', 'OOMA', 'SMMT', 'SSTI', 'RVP', 'BSL', 'KRYS', 'NFLX', 'RQI', 'SGBX', 'SNDX', 'DSWL', 'BGX', 'MLSS', 'ARCH', 'ELF', 'RGT', 'XPER', 'NOMD', 'TRHC', 'MCFT', 'PMF', 'AMSF', 'LCAHU', 'LNG', 'NBW', 'PCK', 'FND', 'TCRX', 'AMLX', 'WING', 'LGL', 'IIF', 'ULH', 'AGR', 'ROSEW', 'GSD', 'AEIS', 'CFRX', 'YPF', 'PGZ', 'S', 'RBB', 'ACV', 'HPE', 'VNCE', 'WTTR', 'QNST', 'CGBD', 'CMG', 'PULM', 'JLS', 'SNDR', 'NVDA', 'SPSC', 'CLM', 'TCMD', 'FHB', 'CLLS', 'NTRA', 'RELX', 'JAGX', 'EVG', 'ADUS', 'GGZ', 'DEI', 'PRME', 'SYRS', 'AMWD', 'NML', 'CSTE', 'ETSY', 'SHAK', 'SEDG', 'CHKP', 'DCPH', 'CIM', 'FANG', 'EYE', 'EHI', 'ELC', 'UTF', 'FTV', 'CPLP', 'HPS', 'GDDY', 'ISD', 'DFP', 'CHCT', 'DVN', 'PUMP', 'PFGC', 'NE', 'PRH', 'VVR', 'SGRY', 'PCN', 'USAS', 'MBI', 'USFD', 'CORT', 'AC', 'GES', 'ALRN', 'ALNY', 'EVF', 'PTGX', 'RGC', 'RSLS', 'AYX', 'MCB', 'NSA', 'AAT', 'SSNC', 'SEAS', 'PLSE', 'KIDS', 'CELC', 'NVTA', 'BHAC', 'SSKN', 'AA', 'EDI', 'ODFL', 'TANH', 'HEQ', 'SBS', 'THW', 'JRI', 'VRTX', 'COGT', 'TDOC', 'VVV', 'NNBR', 'PSF', 'BWG', 'PEGA', 'ETY', 'COLL', 'ADAP', 'CMU', 'URI', 'BPMC', 'MGYR', 'ANSS', 'EMP', 'BUI', 'CTR', 'HNW', 'BDJ', 'APLE', 'PNI', 'SACH', 'OKTA', 'SOI', 'MUJ', 'ORCL', 'INVA', 'SYBX', 'YTEN', 'EFR', 'LULU', 'IPI', 'JKHY', 'NOM', 'CMT', 'CSTM', 'ACIU', 'EVM', 'XRAY', 'CABO', 'JBLU', 'OMF', 'EVH', 'DMF', 'COE', 'RGNX', 'JQC', 'TIL', 'GPACU', 'ROKU', 'FLGT', 'ADBE', 'IOR', 'VNRX', 'MVT', 'CXE', 'FTNT', 'CASY', 'ELP', 'HCM', 'BY', 'HYB', 'NXC', 'CSCO', 'LMFA', 'SAH', 'DHF', 'RNP', 'ANAB', 'CTMX', 'NVCR', 'APEI', 'UE', 'BLMN', 'PFO', 'MBRX', 'WLKP', 'BGNE', 'BLD', 'ATXI', 'TPZ', 'PYN', 'GIM', 'AGNC', 'LCA', 'STX', 'MA', 'CHRW', 'PXLW', 'PCM', 'CENT', 'GMRE', 'AIV', 'ACMR', 'NMI', 'UPS', 'FBK', 'EIM', 'ANGO', 'GDO', 'GMS', 'MYO', 'USAC', 'ECF', 'DFIN', 'CCRN', 'SLG', 'NEXA', 'WIW', 'NBH', 'GSK', 'CCM', 'FNKO', 'HIE', 'BLE', 'HBB', 'FOF', 'UMH', 'KALV', 'DMO', 'COTY', 'BTZ', 'PFN', 'EVO', 'CRF', 'ARGX', 'XHR', 'ABBV', 'SNES', 'SDRL', 'BHVN', 'FCO', 'MRSN', 'CARG', 'NTCT', 'RPD', 'SCD', 'LVS', 'COMM', 'EMKR', 'SAFE', 'VERI', 'FCPT', 'LW', 'AMZN', 'RUN', 'CEN', 'IRTC', 'OPP', 'SCM', 'BNTC', 'BOX', 'MSFT', 'MYN', 'LUNA', 'REVG', 'ANTX', 'FTF', 'MRT', 'NEWR', 'PNF', 'MVF', 'GPRO', 'LNTH', 'IGI', 'NCSM', 'CMPR', 'EBAY', 'GPMT', 'AJXA', 'BSM', 'LGIH', 'PETZ', 'LTRX', 'RACE', 'AGLE', 'BL', 'KFRC', 'AKAM', 'CHEF', 'WES', 'SLNO', 'BTA', 'NTZ', 'PEB', 'TRVN', 'CSGS', 'CAMP', 'EAD', 'METC', 'BGR', 'ICCH', 'NXE', 'KTF', 'NUW', 'BRQS', 'HLF', 'BEDU', 'UA', 'GPAC', 'SCS', 'NXJ', 'AAOI', 'SP', 'CC', 'IFRX', 'RKDA', 'ZTR', 'HIBB', 'GTHX', 'GLO', 'UTG', 'GKOS', 'GLQ', 'SBUX', 'JELD', 'ATKR', 'PK'}\n",
      "Tickers missing in sentiment_df but present in stock_df: {'DRAM', 'HMY', 'CX', 'GIMO', 'EPHE', 'HDGE', 'DFRG', 'XXII', 'QESP', 'MRLN', 'CNC', 'AWAY', 'WIFI', 'ROLL', 'WAIR', 'WSCI', 'MOM', 'FTEK', 'ACNB', 'SNV', 'ECYT', 'IYZ', 'PACD', 'APH', 'RT', 'EWL', 'TOO', 'COW', 'CELP', 'ORN', 'HTBX', 'VTTI', 'POPE', 'BPT', 'TXMD', 'VLY', 'PBIP', 'TSL', 'PNQI', 'TCP', 'AUMN', 'CAE', 'DPLO', 'FFHL', 'KSU', 'HA', 'CUB', 'PIP', 'SFE', 'TIF', 'VONG', 'CTBI', 'WSO', 'DWSN', 'WPC', 'SIEB', 'DGLY', 'IXP', 'CBT', 'NNVC', 'CBSH', 'TRUP', 'CLD', 'CYOU', 'CERU', 'VCRA', 'IYY', 'VRTU', 'LUV', 'BBL', 'RFP', 'SGG', 'JWN', 'LIVE', 'TBPH', 'TIPT', 'APOL', 'SSN', 'BDC', 'LM', 'ETN', 'QIWI', 'FICO', 'GII', 'LOV', 'PPL', 'MNGA', 'SYKE', 'LCI', 'RVLT', 'MATR', 'MCF', 'SWZ', 'WFM', 'IMI', 'OPY', 'VICL', 'EGAS', 'GPM', 'PAAS', 'CPS', 'HMG', 'QEFA', 'ASRV', 'MAG', 'LAQ', 'TDS', 'TXN', 'LPT', 'RLGY', 'HI', 'XES', 'CLMS', 'KE', 'SCHC', 'IJH', 'CWI', 'PLTM', 'VA', 'IHE', 'MDY', 'HWAY', 'OXFD', 'HNI', 'SNN', 'UBSI', 'LWAY', 'CNDA', 'NEN', 'NJ', 'AIXG', 'BKH', 'SLW', 'ISBC', 'STBA', 'MDVN', 'EME', 'DV', 'MBT', 'EGY', 'KOOL', 'RAI', 'CMFN', 'CI', 'KONA', 'SEE', 'TOWR', 'EUSA', 'MRO', 'MAS', 'NAUH', 'PLPC', 'NCR', 'PKBK', 'CFBK', 'HRTX', 'EQC', 'NTP', 'BYBK', 'AWI', 'OGE', 'OPB', 'LNKD', 'STAY', 'OAKS', 'CVA', 'GAZ', 'THG', 'AGCO', 'PEBK', 'VDE', 'GURU', 'QGEN', 'BSTC', 'IWB', 'RYU', 'NI', 'GFED', 'EBSB', 'TSBK', 'YRCW', 'GNVC', 'EXPO', 'CASS', 'EXP', 'MIDD', 'GHDX', 'ESTE', 'IJR', 'DVY', 'NSSC', 'CORI', 'UIHC', 'ECT', 'AME', 'COUP', 'ECR', 'FLY', 'NYCB', 'AREX', 'TRIP', 'MNK', 'LKFN', 'EWQ', 'GTT', 'FSS', 'COO', 'JHX', 'KIN', 'FBC', 'IYG', 'GEF.B', 'PGF', 'XNY', 'GOLD', 'HURC', 'ORI', 'CP', 'INTL', 'HAFC', 'IDTI', 'WR', 'FDN', 'CLGX', 'CSL', 'EGOV', 'HTY', 'PRAN', 'SINA', 'ALCO', 'ERF', 'CHSCO', 'GSOL', 'HSGX', 'DOL', 'OFS', 'SUP', 'UNXL', 'COR', 'LTXB', 'LONG', 'CUT', 'AF', 'MTK', 'MTSL', 'IMUC', 'NOBL', 'SYBT', 'VNQ', 'SGA', 'DRYS', 'MLR', 'RBL', 'TECD', 'BBDO', 'ANGL', 'EXA', 'TUP', 'FARM', 'NICE', 'ACFN', 'AON', 'DHI', 'GTY', 'IEO', 'CORE', 'WILN', 'SBLK', 'APWC', 'DPW', 'BSX', 'IESC', 'NYF', 'TWIN', 'XTLB', 'CBM', 'DKT', 'MITL', 'KONE', 'PNR', 'MOFG', 'WNR', 'NLST', 'EVER', 'FIZZ', 'IVE', 'VTR', 'RCII', 'FBR', 'DISCA', 'NL', 'AZZ', 'STFC', 'FAF', 'RGLD', 'ISL', 'BCPC', 'WWW', 'BNCN', 'COHR', 'VDC', 'BAA', 'RTK', 'MOS', 'MTUM', 'MOBL', 'PES', 'ABTL', 'BCE', 'CHD', 'EWH', 'SHIP', 'KGJI', 'TRK', 'XEL', 'ABCD', 'JOE', 'MDT', 'TIME', 'BBG', 'CBR', 'ASYS', 'MICT', 'AMAG', 'LLTC', 'CIDM', 'CIR', 'MNTA', 'TSS', 'IOSP', 'KIM', 'ILB', 'HYS', 'TOT', 'AGZD', 'PEO', 'BLL', 'MNOV', 'MPO', 'MYOS', 'TU', 'TBZ', 'DGS', 'VLGEA', 'ROX', 'DVA', 'OTIC', 'UBNK', 'INCO', 'AZO', 'BUSE', 'PMD', 'SXCP', 'NRIM', 'RDY', 'FUEL', 'ARCI', 'FUNC', 'ATRS', 'SSFN', 'SWM', 'TRI', 'ZX', 'FXN', 'GURE', 'MIDU', 'SKM', 'IMDZ', 'MPET', 'DCT', 'BCOM', 'HDS', 'VET', 'BOCH', 'JKE', 'USLM', 'NMR', 'PBCT', 'FNSR', 'CALL', 'KBAL', 'LNCE', 'SYRG', 'ELGX', 'ACXM', 'FF', 'FXO', 'ZION', 'SRSC', 'BHLB', 'RLH', 'JIVE', 'L', 'ACAS', 'UBA', 'ZFGN', 'MYCC', 'REFR', 'GRES', 'FBHS', 'SPU', 'DWA', 'ACUR', 'LFVN', 'ALSK', 'ARDM', 'EVEP', 'OREX', 'RNN', 'FBSS', 'DWAQ', 'HMTV', 'IMMU', 'SSRI', 'MAMS', 'SHG', 'BPTH', 'EFA', 'BRCD', 'PDEX', 'PRTO', 'FCT', 'EMMS', 'GAM', 'EMXX', 'XCRA', 'HTZ', 'ATI', 'HNR', 'IFON', 'DDS', 'GWPH', 'KTWO', 'LCNB', 'CWT', 'KBSF', 'EWY', 'FRME', 'ITC', 'PNFP', 'WEYS', 'RGA', 'JBHT', 'ANW', 'NYLD', 'MSCI', 'ARL', 'GQRE', 'SRCE', 'RATE', 'SEAC', 'INSY', 'ERA', 'OSBC', 'CCBG', 'FMC', 'OPOF', 'AMBR', 'AMID', 'GFI', 'EVOL', 'CETV', 'ACST', 'INCR', 'AGU', 'AMJ', 'PNRG', 'UBP', 'DLN', 'IMNP', 'TUES', 'KCG', 'CLX', 'PQ', 'AOA', 'CGW', 'MSP', 'ELNK', 'RDNT', 'ESR', 'XPLR', 'HOS', 'PRTK', 'ISNS', 'RNWK', 'PBR.A', 'KEX', 'BNSO', 'MOV', 'HAR', 'ESCA', 'ACIM', 'GRIF', 'LFUS', 'SCHD', 'EXI', 'HH', 'BIP', 'MAN', 'AHL', 'RSYS', 'FDX', 'BGSF', 'JPEP', 'ALV', 'NTT', 'WHF', 'TRCO', 'ALD', 'QAT', 'BVSN', 'KT', 'ARE', 'MARA', 'NANO', 'SCHF', 'SFL', 'CGIX', 'RHT', 'UCFC', 'AMRK', 'CHU', 'ORIG', 'SYUT', 'AMTX', 'SDLP', 'NWHM', 'SSW', 'EWM', 'FLXS', 'JEC', 'SMMF', 'TAO', 'RDIB', 'EMI', 'WMGI', 'SFBS', 'YGE', 'AVEO', 'REV', 'SYMC', 'WEBK', 'AFAM', 'PBYI', 'CATY', 'PWR', 'CAPE', 'IAI', 'EMAN', 'ROL', 'HIIQ', 'RTRX', 'NADL', 'CRS', 'AV', 'LOCK', 'WMB', 'NSR', 'REM', 'FXH', 'VHT', 'CINF', 'OME', 'CEL', 'ISR', 'CPF', 'AFK', 'TEL', 'LUB', 'DGRE', 'IPHS', 'FUND', 'STZ', 'BANX', 'FAC', 'SCHN', 'FNB', 'NAK', 'HFWA', 'SONC', 'LANC', 'FLIC', 'AKO.A', 'BXS', 'CH', 'HSBC', 'KMG', 'BKE', 'AKG', 'FPX', 'FHCO', 'KEQU', 'TKAI', 'POT', 'PEY', 'EML', 'AEGN', 'FSNN', 'PDCE', 'DMLP', 'MANT', 'KEG', 'NPO', 'DTD', 'HOFT', 'SRLP', 'TWC', 'CORN', 'AVB', 'LQ', 'LFC', 'ESE', 'HOVNP', 'TGP', 'BNFT', 'GGOV', 'MNA', 'SFNC', 'FBZ', 'JOBS', 'SINO', 'RAS', 'RMCF', 'RECN', 'SIG', 'RNST', 'ACG', 'ZNGA', 'BICK', 'EWN', 'FSTA', 'PB', 'SGC', 'WVVI', 'CBZ', 'FAZ', 'ILF', 'XLU', 'RE', 'TCX', 'GRFS', 'HSY', 'HGG', 'SMH', 'TIVO', 'UG', 'ALX', 'AVA', 'TORM', 'BRO', 'EGL', 'DVD', 'CVRR', 'NVGN', 'CAC', 'IHI', 'KBE', 'PPLT', 'KMT', 'SPTN', 'TNAV', 'DFE', 'EMHY', 'XONE', 'XCO', 'EAT', 'JXSB', 'SBBX', 'VIP', 'CIU', 'SPAR', 'LOGM', 'MLVF', 'PRGO', 'SLMAP', 'OLN', 'TGTX', 'GMO', 'CLR', 'TXT', 'HCI', 'OFG', 'CSOD', 'CBG', 'ONVO', 'GBB', 'RNET', 'PMR', 'AMFW', 'DEO', 'AIRT', 'PEGI', 'DFS', 'SA', 'ENFC', 'GABC', 'EDE', 'PKI', 'VGK', 'MMP', 'PBD', 'PCOM', 'SIXD', 'AEZS', 'CO', 'MBB', 'CUBA', 'OVBC', 'ETM', 'SCAI', 'HY', 'RNR', 'STAA', 'GBLI', 'INDB', 'CANF', 'JO', 'SGOC', 'GLTR', 'FELE', 'WTFC', 'AJG', 'CCMP', 'ESRX', 'HWKN', 'FORD', 'OSUR', 'UFS', 'AVOL', 'AG', 'PSTI', 'SXI', 'NEWM', 'PRCP', 'OAK', 'JJT', 'RBA', 'OFC', 'QTS', 'SNOW', 'PEI', 'KMPR', 'BIB', 'OHAI', 'RADA', 'AHC', 'LORL', 'MTT', 'RAX', 'MVC', 'ANY', 'NLS', 'APTO', 'ALFA', 'CURE', 'ICLD', 'FDD', 'NWL', 'RXII', 'PRIM', 'MGCD', 'NUVA', 'SPLS', 'DVYE', 'MCS', 'PAGP', 'XENT', 'BSAC', 'LH', 'HAIN', 'EMD', 'HBAN', 'MFG', 'EQS', 'AIT', 'IDT', 'CRTN', 'ACC', 'LMNR', 'KELYA', 'DDD', 'FNDX', 'AGG', 'PRMW', 'ENOC', 'DUST', 'GBCI', 'IBCP', 'BAX', 'NPK', 'RUBI', 'AVX', 'CBAK', 'IPF', 'UTMD', 'JLL', 'NP', 'SYX', 'HCHC', 'EQT', 'BRT', 'PROV', 'FNX', 'TZOO', 'LND', 'CS', 'STBZ', 'PHO', 'FMAT', 'PBMD', 'FIG', 'PBT', 'SAA', 'INB', 'HDV', 'SYY', 'PPHMP', 'TRST', 'MDCO', 'TWOK', 'THM', 'CEMP', 'LLEX', 'SYNC', 'GXG', 'FCAP', 'FWRD', 'GDXJ', 'KEYW', 'GPN', 'LLL', 'DBE', 'NFX', 'REIS', 'CY', 'ORM', 'OSK', 'CYTR', 'FNJN', 'KNOW', 'HELE', 'GGB', 'BOFI', 'BKJ', 'MLAB', 'MKTO', 'XPO', 'AAP', 'GRH', 'SKYS', 'CBLI', 'LQD', 'CFNB', 'CEO', 'ARTX', 'NEWT', 'SMRT', 'LPCN', 'TNH', 'PLX', 'BRKS', 'CPG', 'TRNS', 'NSP', 'DEM', 'KW', 'VISI', 'AKAO', 'ACT', 'LARK', 'GBL', 'STM', 'RPTP', 'CLC', 'ASNA', 'AXGN', 'FI', 'IYC', 'NAO', 'BR', 'DDF', 'WLL', 'HAL', 'BDE', 'DLHC', 'HDSN', 'AGM', 'NR', 'PSCF', 'KWEB', 'ATRI', 'IHY', 'YNDX', 'PNK', 'FBP', 'SOHU', 'PRF', 'SMLR', 'TCBK', 'HYGS', 'PEJ', 'NKSH', 'CXP', 'IIIN', 'CHFC', 'AZPN', 'GSB', 'MEI', 'SIR', 'ERX', 'PAH', 'CGI', 'EZA', 'EGHT', 'CIZN', 'CMF', 'NRCIA', 'IPCC', 'SYK', 'WSBC', 'CSI', 'INDL', 'MOD', 'HVT', 'PHMD', 'K', 'MERC', 'GNTX', 'RMP', 'AN', 'BRSS', 'ANAC', 'GWW', 'NNA', 'ATNM', 'IEC', 'AYR', 'ARNA', 'LEN', 'AHPI', 'SCMP', 'FRED', 'MAV', 'HDNG', 'VAC', 'BLVD', 'OCIP', 'AMTG', 'CTG', 'AXL', 'KTEC', 'GRAM', 'PAR', 'LEG', 'NAV', 'PBS', 'CMA', 'AMP', 'HE', 'BLRX', 'BGC', 'ABX', 'TTC', 'CHT', 'NORW', 'ROK', 'XLV', 'BREW', 'ASCMA', 'DCOM', 'DHIL', 'DWTI', 'GK', 'CPAC', 'NEO', 'ANTM', 'FYC', 'INGR', 'LBTYA', 'DTH', 'LGCY', 'RF', 'FSM', 'KANG', 'AVG', 'DRNA', 'IVC', 'AIQ', 'EEP', 'BSET', 'HBP', 'NJR', 'PKD', 'GTIM', 'WAB', 'HPJ', 'BDSI', 'RAVN', 'CVBF', 'LVLT', 'MSLI', 'TECL', 'SFS', 'CPHR', 'OTEL', 'SWN', 'LUX', 'SR', 'ITA', 'EDOG', 'WMLP', 'FXL', 'TGD', 'GMCR', 'TISI', 'SVBL', 'ARKQ', 'GWX', 'PZN', 'TAN', 'SOFO', 'INFI', 'NRF', 'VPG', 'OHRP', 'AVY', 'SAJA', 'PH', 'HIL', 'ITCI', 'OC', 'ESSX', 'LMCK', 'BAS', 'ITIC', 'VRTB', 'CAG', 'GMAN', 'SLP', 'THFF', 'HFC', 'ECH', 'FMF', 'BFOR', 'FTI', 'BPI', 'CECE', 'PRXL', 'PVTB', 'ALEX', 'ARCX', 'DCIX', 'REX', 'BONA', 'ITG', 'NAII', 'XLP', 'CRDS', 'SMBC', 'MFRM', 'NAP', 'TEP', 'MLN', 'IWD', 'DLNG', 'NVO', 'GLOP', 'LVNTA', 'SIGI', 'MRIN', 'MXWL', 'SPRT', 'RELV', 'AGTC', 'HEDJ', 'PE', 'BCO', 'CTWS', 'FAM', 'SDT', 'DOV', 'FVD', 'FMX', 'NUAN', 'LLNW', 'SENEB', 'TCO', 'VSLR', 'XBI', 'SNH', 'IHC', 'NWE', 'NUTR', 'TWO', 'BEP', 'HXL', 'EVDY', 'GLF', 'BPFH', 'IBIO', 'COB', 'IFF', 'EVBS', 'LBIX', 'OXY', 'LZB', 'NC', 'RWC', 'PKB', 'RAVE', 'BWP', 'BSFT', 'DEL', 'MDRX', 'WLB', 'DRR', 'HBMD', 'AMCC', 'CTRL', 'BWINA', 'CHL', 'FM', 'ALQA', 'HALL', 'EIDO', 'PEBO', 'WGO', 'SVVC', 'STO', 'CVG', 'AMRI', 'PTR', 'SHLO', 'TCAP', 'TDY', 'TTM', 'MTBC', 'ED', 'ONVI', 'AMSWA', 'MGEE', 'VHC', 'UCBI', 'RSPP', 'LPX', 'SBRAP', 'VIRC', 'CVE', 'TICC', 'FSC', 'JOY', 'DOW', 'REXX', 'CRMD', 'DIVI', 'GPL', 'RWJ', 'PCMI', 'SNAK', 'TX', 'PRAH', 'ENDP', 'SPAN', 'AIRM', 'ICN', 'DDC', 'DXJ', 'ZSL', 'PII', 'CNBKA', 'EVGN', 'FUL', 'GIGA', 'AYI', 'CUI', 'ATTU', 'TAP', 'BLV', 'HL', 'BTN', 'BAK', 'DEST', 'EMIF', 'CDTI', 'KB', 'XLRN', 'BSRR', 'FRAK', 'TBIO', 'NGD', 'CACI', 'QRHC', 'FPRX', 'EBIX', 'AHGP', 'AAON', 'ERS', 'HNP', 'MGA', 'SJI', 'VVUS', 'RP', 'ASR', 'BTX', 'RESN', 'CORR', 'WTM', 'OPHC', 'PFIE', 'DTE', 'DIG', 'MSI', 'IGE', 'KED', 'QAI', 'FCEL', 'CCOI', 'SVM', 'PMBC', 'PSTB', 'CPHC', 'CGG', 'LODE', 'QIHU', 'ARGT', 'DOD', 'EXXI', 'HIVE', 'WTR', 'CHNR', 'EMCF', 'WPX', 'ALTS', 'HTBK', 'PLPM', 'GDP', 'VB', 'HYG', 'PCO', 'FMI', 'CBF', 'LNT', 'FSP', 'XIV', 'IGLD', 'PDT', 'AP', 'USB', 'CBFV', 'CCUR', 'KMX', 'PSO', 'SGU', 'TCFC', 'CHFN', 'CLRO', 'UGP', 'EPOL', 'REGI', 'SHOR', 'TREX', 'EGLE', 'CRY', 'MLHR', 'SBCF', 'BIF', 'ANF', 'FCF', 'TFX', 'NSC', 'NTRS', 'HNH', 'PCYG', 'THRM', 'PPC', 'DVCR', 'CCU', 'RPM', 'FSAM', 'LMOS', 'POR', 'PPP', 'SFUN', 'VRTS', 'FCG', 'IDHQ', 'WEX', 'FLS', 'IKNX', 'WMK', 'QUAL', 'MJN', 'PHDG', 'HOG', 'WSFS', 'QVCA', 'NAVI', 'ARRS', 'BRID', 'DIVY', 'VGR', 'DZZ', 'MARK', 'SGF', 'DTN', 'VMI', 'VLP', 'GGP', 'CMN', 'EBIO', 'GEOS', 'CRAY', 'FGP', 'NGHC', 'XLY', 'AT', 'CBAY', 'SPLP', 'WCG', 'ASUR', 'CLVS', 'AND', 'AFH', 'TLLP', 'CTXS', 'SVA', 'EHIC', 'VISN', 'VSH', 'RXDX', 'MT', 'CVC', 'PPR', 'STRT', 'ERY', 'AOI', 'KMB', 'KERX', 'TEN', 'ECOL', 'CLSN', 'CHIQ', 'MMC', 'EMES', 'PAG', 'EQY', 'YZC', 'FNDE', 'CA', 'OCN', 'PSCI', 'ATU', 'TNXP', 'AFL', 'MTSC', 'TTF', 'WCN', 'FDL', 'CRMT', 'JNK', 'PXE', 'DY', 'EGBN', 'UNB', 'BRZU', 'IAK', 'STON', 'UGAZ', 'HLS', 'ARWR', 'LDL', 'MDP', 'HNNA', 'EGPT', 'PKOH', 'AGA', 'RJF', 'VEA', 'BGI', 'ICAD', 'ADK', 'ASHR', 'LIT', 'ACH', 'DDR', 'MDYV', 'COL', 'STRS', 'IRET', 'FCX', 'TSRI', 'STML', 'CRME', 'EWBC', 'DRAD', 'RGSE', 'FTSD', 'NAVB', 'CRK', 'CSLT', 'EQLT', 'AGII', 'FSIC', 'CHS', 'OPK', 'MINI', 'BHP', 'FIS', 'NGG', 'AMOV', 'UHT', 'SIFY', 'NVEC', 'EFII', 'FNFV', 'ARMH', 'FCSC', 'PCYO', 'PVG', 'IPAR', 'CL', 'CXDC', 'ADX', 'ICB', 'ODC', 'KCNY', 'KTOS', 'INBK', 'DAN', 'CUBI', 'QCCO', 'RCMT', 'TKC', 'CPK', 'FL', 'HERO', 'SU', 'SXE', 'NMBL', 'WAGE', 'FLL', 'CASM', 'BEN', 'LYB', 'BEBE', 'CYBE', 'FEIM', 'GOV', 'STOR', 'LXRX', 'EMCI', 'ROIC', 'AGQ', 'FE', 'IEP', 'PARN', 'BOSC', 'OLED', 'CTL', 'FMBI', 'COVS', 'STRM', 'UWN', 'EGLT', 'DGAZ', 'AHP', 'DISCK', 'FLN', 'BRLI', 'ARIA', 'NSH', 'EWO', 'NXTD', 'OB', 'TERP', 'WWD', 'ELLI', 'BHE', 'DGRS', 'ENZL', 'MSCC', 'BSMX', 'RZG', 'NILE', 'VSEC', 'TRQ', 'SPOK', 'IPAS', 'DGX', 'AEE', 'INDY', 'PBA', 'FRN', 'SSNI', 'TG', 'PBHC', 'SSD', 'IPXL', 'ATHX', 'PDP', 'NEM', 'HWBK', 'CWCO', 'CFA', 'SAEX', 'EPE', 'FNRG', 'GFF', 'MHH', 'MEP', 'WBS', 'MBLX', 'ZLTQ', 'DCO', 'SHPG', 'CQH', 'TAC', 'ZAYO', 'PER', 'VBIV', 'EWI', 'MDSO', 'NVAX', 'URA', 'CZA', 'ODP', 'CREG', 'GLBZ', 'UNIS', 'APO', 'IYK', 'MGLN', 'DSKX', 'MTU', 'ABCO', 'ELSE', 'XBKS', 'GGG', 'INUV', 'OKE', 'CVV', 'KITE', 'PXD', 'VOXX', 'OAS', 'QDF', 'JHI', 'SNFCA', 'BFR', 'HGT', 'NDAQ', 'MTOR', 'BOXC', 'LNC', 'OMN', 'SOHO', 'RGCO', 'UGI', 'SMIT', 'ADGE', 'RRC', 'TRXC', 'IGF', 'DIOD', 'PANW', 'JCOM', 'PWV', 'PRKR', 'MPB', 'PID', 'ADHD', 'ASH', 'MBCN', 'MTB', 'PFPT', 'EMN', 'RES', 'SALT', 'CHMT', 'PFNX', 'NTIP', 'DCI', 'GIG', 'SBGL', 'DPM', 'BPK', 'CRZO', 'TLP', 'EQM', 'SQBG', 'SGBK', 'AWH', 'ADPT', 'TA', 'DEF', 'ATV', 'FTD', 'CKH', 'LXFT', 'CAW', 'PLM', 'UVV', 'D', 'AXAS', 'NTIC', 'FOE', 'COHU', 'BONT', 'MXIM', 'DBA', 'GST', 'HMSY', 'MSBF', 'MATX', 'WF', 'RSO', 'OMC', 'HRS', 'EPI', 'TMK', 'MSG', 'CDZI', 'WPT', 'FXSG', 'GTWN', 'EUFN', 'LNN', 'CJJD', 'ACHN', 'BRC', 'CHSP', 'FDIV', 'HIG', 'BAL', 'EFF', 'WSTC', 'PBIB', 'OPXA', 'NTL', 'DX', 'ICON', 'TLO', 'CJES', 'FRP', 'GBF', 'NWBO', 'UMPQ', 'USAT', 'LXK', 'VCEL', 'ZN', 'MBVT', 'PRSS', 'BC', 'ONEQ', 'DOX', 'INS', 'UPL', 'PRSC', 'CLI', 'CLNY', 'ASA', 'OSN', 'NSM', 'ZPIN', 'ATHN', 'PFBI', 'WM', 'NORD', 'JTPY', 'TNGO', 'ASTC', 'Q', 'GPS', 'STMP', 'CLUB', 'CALD', 'PTC', 'ALOG', 'WABC', 'ECC', 'TKR', 'HPT', 'HGSH', 'SJR', 'LDOS', 'JAH', 'LDR', 'TRR', 'MHG', 'JOUT', 'HF', 'PLKI', 'AUPH', 'MGU', 'IBOC', 'BSF', 'CEQP', 'CBMX', 'NSPR', 'HTM', 'IIVI', 'CACQ', 'EZY', 'IDX', 'MCK', 'PIH', 'CHKE', 'QUAD', 'CNA', 'EWC', 'EWJ', 'DMRC', 'HACK', 'SPHB', 'HWCC', 'AES', 'GAL', 'MZOR', 'CCIH', 'FRC', 'OTTR', 'LPI', 'WFT', 'WPCS', 'ORBC', 'DXM', 'CSX', 'GSL', 'SSB', 'NKTR', 'EIP', 'CUK', 'DTV', 'DEX', 'ALJ', 'ACTG', 'SM', 'TDIV', 'DEPO', 'GVA', 'NTES', 'DON', 'FRBK', 'CHE', 'DENN', 'GXC', 'ISCA', 'ARGS', 'ETE', 'OIH', 'ORBK', 'BT', 'RAND', 'BNY', 'OFLX', 'KR', 'APRI', 'III', 'RUSS', 'CFFI', 'SUNS', 'WIN', 'SCLN', 'QRVO', 'GVP', 'JMP', 'JACK', 'EGN', 'NBN', 'SMTX', 'IL', 'SAL', 'AVH', 'FPO', 'HABT', 'CNIT', 'RTH', 'BANC', 'ALB', 'CEA', 'EWT', 'FXP', 'DBC', 'ETP', 'SEV', 'PBSK', 'FVE', 'SID', 'DEW', 'VTWV', 'ADMA', 'EWK', 'PBFX', 'SO', 'GBSN', 'GCBC', 'AMNB', 'SNBC', 'BOTJ', 'RPAI', 'DI', 'GMZ', 'AXU', 'IYE', 'SRE', 'VNM', 'HYH', 'IRDM', 'DXYN', 'CAAS', 'VIVO', 'PPBI', 'SDOG', 'XL', 'CPTA', 'BLJ', 'HYEM', 'HEAR', 'PF', 'RDC', 'OCC', 'GEQ', 'MFA', 'IP', 'TWMC', 'FNLC', 'SOR', 'SBR', 'RHI', 'BLT', 'FFIN', 'TEX', 'FCH', 'TESO', 'RYJ', 'FNY', 'TREE', 'IYLD', 'SMFG', 'BRKL', 'GNBC', 'BWEN', 'CVGW', 'PETS', 'SHI', 'KEM', 'STAR', 'DCM', 'RICE', 'FISV', 'TR', 'KORS', 'SIVR', 'TSO', 'AIN', 'SHW', 'ARR', 'KBWB', 'MCBC', 'GENE', 'MOC', 'MEG', 'PLT', 'SSI', 'TYPE', 'NWFL', 'COWN', 'SREV', 'MDLZ', 'OUTR', 'SNR', 'TUBE', 'AXR', 'VMC', 'BWLD', 'INWK', 'VIOG', 'ALG', 'BMS', 'UNTY', 'SSH', 'AVT', 'CLACU', 'HSNI', 'AEO', 'NFG', 'ACAT', 'LMRK', 'LEDD', 'OMAM', 'PUK', 'PGR', 'TRP', 'MCY', 'BDGE', 'CBPO', 'PATK', 'XTN', 'ACY', 'ARKR', 'ECTE', 'MTGE', 'HLX', 'FWP', 'KND', 'RUTH', 'GNC', 'INO', 'HBHC', 'LEE', 'PDS', 'ALE', 'BBT', 'WBC', 'WPPGY', 'CSBK', 'FCAU', 'NEPT', 'RHP', 'CRVP', 'KS', 'CDR', 'AGNCB', 'CSM', 'MCO', 'RDIV', 'LEI', 'MTSN', 'ELOS', 'STJ', 'FMS', 'GEF', 'BWINB', 'MBTF', 'GWR', 'NM', 'PGNX', 'ENT', 'CHN', 'BBRC', 'SFBC', 'SBY', 'PETX', 'AROW', 'SAIA', 'SAR', 'BCOR', 'GGM', 'HCLP', 'IEZ', 'DWM', 'IPK', 'PHI', 'PTNR', 'EV', 'Y', 'FULT', 'PGC', 'RIBT', 'VRS', 'ATE', 'ATML', 'RCD', 'HMC', 'FELP', 'LBRDA', 'PKY', 'CNNX', 'PHIIK', 'CUNB', 'FBT', 'NYMT', 'VSR', 'NDSN', 'CNOB', 'TIK', 'PGEM', 'SNSS', 'ARW', 'MAR', 'BGG', 'ATTO', 'CEMI', 'PME', 'BSCH', 'VCR', 'TASR', 'IO', 'AFG', 'MTR', 'IMOS', 'UUUU', 'AAV', 'AEY', 'HAWK', 'KBIO', 'EBR.B', 'MPAA', 'FSL', 'MXI', 'FTLS', 'CLF', 'TAL', 'WDC', 'UBSH', 'DUK', 'ROIAK', 'FBNK', 'EGP', 'MDLY', 'ACIW', 'USCR', 'RBS', 'NECB', 'FONE', 'KFS', 'EGO', 'PICO', 'QSII', 'SEED', 'CPE', 'MON', 'WBK', 'CVCY', 'SIVB', 'DOOR', 'FRO', 'GPC', 'SPB', 'UWTI', 'CMC', 'ORAN', 'FSTR', 'HMNY', 'ARTNA', 'OTIV', 'UAM', 'EWSS', 'KATE', 'TNC', 'PTLA', 'CFR', 'SYPR', 'NWY', 'PCG', 'FLIR', 'GILT', 'FCS', 'BEL', 'MOO', 'WRB', 'RMGN', 'VSAR', 'REMX', 'IDA', 'EGI', 'PFM', 'REPH', 'GPRE', 'HP', 'TST', 'NWSA', 'CPST', 'STLY', 'CNO', 'EFSC', 'ELLO', 'ONP', 'FRAN', 'SCPB', 'WG', 'CUR', 'CNXR', 'VIG', 'GALE', 'SPCB', 'CNP', 'IPCI', 'WVFC', 'KLXI', 'SLCT', 'SLM', 'FAS', 'PIE', 'SWIR', 'IRR', 'GTN.A', 'CPL', 'JNS', 'ACTA', 'GNCMA', 'NCLH', 'FPT', 'BIOL', 'SJT', 'TSN', 'WFBI', 'RLGT', 'NYMX', 'FCE.B', 'EIS', 'HRC', 'IGC', 'TEO', 'WAC', 'INCY', 'BNS', 'ENZY', 'MFNC', 'PPA', 'LBRDK', 'STE', 'HAS', 'EYES', 'RBPAA', 'OCFC', 'HCOM', 'XGTI', 'GCO', 'BMTC', 'LMCA', 'CSV', 'YDKN', 'EC', 'FLM', 'ACCU', 'CMS', 'MCC', 'CSJ', 'SLX', 'SCHB', 'SMED', 'VVC', 'SHOS', 'OI', 'EEMV', 'TGS', 'WST', 'PDLI', 'DYNT', 'FFG', 'UVE', 'IYM', 'PLXS', 'PEIX', 'YUME', 'CBA', 'FHN', 'STC', 'SYNT', 'CCXI', 'NRT', 'RUSHA', 'TMH', 'ALR', 'FT', 'LECO', 'FNBC', 'PKE', 'PNRA', 'FES', 'RVSB', 'HIFS', 'DLS', 'CATM', 'AOK', 'BOH', 'EIA', 'KYO', 'IAT', 'CST', 'SNP', 'SGM', 'NVCN', 'PFF', 'SHLD', 'DBEF', 'KNDI', 'SPP', 'CCE', 'NAME', 'SIFI', 'PFBX', 'AUY', 'BASI', 'ESV', 'ASEA', 'TINY', 'COH', 'AAMC', 'SOCL', 'CNI', 'IVOV', 'GLUU', 'NLNK', 'ZOES', 'GRR', 'PPHM', 'DGICA', 'THS', 'DJCO', 'SIGM', 'TJX', 'CELGZ', 'RLOG', 'SSL', 'POWL', 'VOX', 'ATLS', 'HBI', 'SGY', 'EW', 'GNMK', 'ABB', 'KALU', 'PSDV', 'TARO', 'UBFO', 'CXW', 'ECA', 'TCCO', 'DFJ', 'FLXN', 'AGX', 'BHI', 'BKSC', 'ZIXI', 'CPHD', 'VJET', 'FTR', 'IFN', 'MAGS', 'ATW', 'PRPH', 'SYLD', 'JJC', 'ZGNX', 'SNI', 'FLR', 'TS', 'BKMU', 'ACCO', 'LJPC', 'JGV', 'RMD', 'CVLY', 'XLB', 'TRMK', 'ABY', 'MDC', 'UMBF', 'GZT', 'KKR', 'UFI', 'WPG', 'PPG', 'BF.B', 'ZEN', 'EPP', 'GG', 'NWLI', 'SPKE', 'RIC', 'LIOX', 'EEQ', 'PTIE', 'DGRW', 'STKL', 'QBAK', 'JKJ', 'CSII', 'CDC', 'GIGM', 'YCS', 'BANR', 'DCUC', 'DHR', 'HFBC', 'PAM', 'HCN', 'AADR', 'PERY', 'IGN', 'MHK', 'STL', 'ULTI', 'BJK', 'HOLI', 'RESI', 'WYN', 'BMRC', 'EWW', 'CFFN', 'EPU', 'AWR', 'XRM', 'DNKN', 'DRE', 'FCCO', 'ADP', 'WBAI', 'SGMS', 'ETRM', 'AET', 'UCBA', 'BUD', 'CRR', 'ENZN', 'KODK', 'LBTYK', 'NYT', 'SC', 'TIP', 'HDP', 'INFU', 'ADMS', 'BCR', 'NS', 'CAJ', 'OKSB', 'MNI', 'CFP', 'PHG', 'CWB', 'AUBN', 'CEVA', 'TSLF', 'MIK', 'DATA', 'FOXA', 'EVAR', 'BND', 'QUMU', 'TI', 'LRAD', 'CNV', 'IWO', 'PNTR', 'SKOR', 'FORTY', 'ELS', 'USAK', 'AOS', 'FXCM', 'BIOA', 'IXUS', 'CLNT', 'MCZ', 'AB', 'NBTB', 'MBFI', 'MPEL', 'GRX', 'ATAX', 'CCI', 'JKI', 'BMA', 'HCKT', 'BBC', 'MOCO', 'CALI', 'YUMA', 'WHLM', 'MFC', 'EDC', 'CCC', 'HYXU', 'GLOG', 'GPIC', 'TMO', 'TECH', 'CGA', 'ECOM', 'ATRO', 'AKR', 'HSON', 'OKS', 'CLFD', 'SDR', 'SYMX', 'ITB', 'IVZ', 'CARV', 'UEPS', 'BBH', 'AKER', 'OZRK', 'TRN', 'WDR', 'EPZM', 'ORIT', 'RTEC', 'WRE', 'RRTS', 'CVCO', 'TLF', 'COPX', 'MBRG', 'BKK', 'IPG', 'NCI', 'IQNT', 'LPNT', 'BRAQ', 'KWR', 'MGV', 'TAX', 'PACW', 'MEET', 'GUID', 'COBZ', 'SON', 'BDX', 'UFCS', 'CAPN', 'GARS', 'RDUS', 'LMNX', 'ASFI', 'REN', 'VAL', 'CWEI', 'ALK', 'EXFO', 'IGHG', 'WILC', 'MMAC', 'IX', 'FRPH', 'TESS', 'IDSY', 'LMIA', 'TGEN', 'GCE', 'GPT', 'RGR', 'HW', 'RLI', 'WGL', 'AGYS', 'DRWI', 'PSCM', 'LION', 'EFG', 'SGB', 'ECPG', 'CCK', 'CSD', 'NATL', 'ROKA', 'SATS', 'AMT', 'RSH', 'AKS', 'IOC', 'ISIL', 'HEB', 'GSS', 'TOWN', 'VGM', 'PCH', 'ANAT', 'VTL', 'DNR', 'ONB', 'BMO', 'OHGI', 'SCX', 'CSS', 'BHBK', 'TRIL', 'ESGR', 'PVH', 'SFLY', 'TDC', 'MTRN', 'CHA', 'EA', 'OVLY', 'EXK', 'UHS', 'CCNE', 'AEB', 'EOG', 'CFNL', 'CZNC', 'PBJ', 'ITW', 'JNUG', 'DF', 'LYV', 'GHC', 'BSPM', 'BLCM', 'ALL', 'FXG', 'AKO.B', 'NCIT', 'PWE', 'DGAS', 'WWAV', 'TROV', 'JCI', 'WEN', 'WUBA', 'TTPH', 'EXAR', 'BRG', 'WSM', 'CMD', 'HMLP', 'KOL', 'IYF', 'PBW', 'EWD', 'TPRE', 'EVHC', 'OMEX', 'PGX', 'BCLI', 'FFKT', 'FFNM', 'PNBK', 'AED', 'SCG', 'CRH', 'CSF', 'WMAR', 'TWER', 'FPXI', 'AXDX', 'RTI', 'THC', 'PHT', 'ATSG', 'AAME', 'MLNX', 'LHCG', 'ADI', 'ENLC', 'ACGL', 'NWN', 'PSA', 'IBKC', 'NVDQ', 'JCS', 'MBII', 'AEG', 'EFNL', 'BWZ', 'AKRX', 'DIN', 'SZYM', 'SCSC', 'BRF', 'CBK', 'MOG.A', 'PWOD', 'IFMI', 'BPOP', 'NBL', 'PSUN', 'MD', 'SBB', 'PARR', 'GTS', 'ISLE', 'DRD', 'GMLP', 'VZA', 'JMEI', 'PICB', 'SLB', 'MMSI', 'KIE', 'CHH', 'EIRL', 'SPG', 'SWK', 'EEI', 'GORO', 'PPSI', 'GTXI', 'GWGH', 'DVHL', 'AEPI', 'BFO', 'GBNK', 'CXO', 'NEU', 'BOKF', 'GFA', 'BABY', 'RCI', 'IART', 'IPW', 'DGI', 'MTH', 'WPZ', 'HALO', 'STRL', 'LXP', 'ZIOP', 'RRD', 'REED', 'ICF', 'IHF', 'BBX', 'TSU', 'ATNI', 'SCSS', 'FCA', 'TISA', 'CRNT', 'IGV', 'JONE', 'KYE', 'STI', 'IWY', 'RLYP', 'APC', 'BAB', 'ADES', 'NVFY', 'UTEK', 'TEAR', 'GLPW', 'ALDW', 'CLY', 'CNCO', 'EMQQ', 'HEOP', 'BKS', 'FFBC', 'BK', 'AFCB', 'SPA', 'LABL', 'WPP', 'GEO', 'TAHO', 'CVY', 'MFSF', 'FXF', 'RDHL', 'ARCW', 'BIG', 'NOV', 'AGC', 'HHC', 'PKW', 'ACPW', 'CRCM', 'PSXP', 'MLPA', 'ADT', 'AVV', 'CIB', 'MLPY', 'ESL', 'SVU', 'EROS', 'NLSN', 'RTIX', 'FLO', 'SPIL', 'ADXS', 'ARIS', 'CCCR', 'BBVA', 'DVP', 'DRV', 'IRL', 'FMNB', 'SPHS', 'LVL', 'VVI', 'CALA', 'CNTY', 'TVIX', 'TREC', 'TRCB', 'AMDA', 'NLR', 'NRZ', 'ELON', 'ESEA', 'LOAN', 'BOBE', 'HBM', 'ACHC', 'BXE', 'CLRB', 'YHOO', 'VWO', 'EMB', 'ZAGG', 'TBK', 'BBD', 'FDML', 'NNN', 'SKIS', 'FTK', 'XON', 'FLTR', 'MDCA', 'AXJL', 'BRKR', 'MSFG', 'NSEC', 'MNST', 'FDEF', 'COBO', 'BELFA', 'BRFS', 'HCAP', 'OIBR', 'MDU', 'RFG', 'ARCB', 'HBNC', 'USG', 'UCP', 'RDI', 'SILC', 'ISP', 'STS', 'ITUB', 'BKEP', 'ENH', 'LNDC', 'MSON', 'DWCH', 'FEYE', 'TSC', 'OZM', 'STXS', 'ESLT', 'WINA', 'EFAV', 'FSBK', 'CSFL', 'LOOK', 'ELY', 'SENEA', 'ENG', 'WBMD', 'XOXO', 'DLPH', 'EBF', 'NMRX', 'MSEX', 'AU', 'HHS', 'GER', 'DBV', 'MSB', 'CVTI', 'API', 'VNTV', 'SF', 'CSC', 'BBOX', 'CBPX', 'RAD', 'AOM', 'UVSP', 'AXP', 'MSTX', 'CLCT', 'URG', 'RSX', 'AMBC', 'ESIO', 'FNDA', 'LAD', 'NDRO', 'EPV', 'BVX', 'ASB', 'RST', 'CATO', 'COT', 'SEMG', 'TYL', 'B', 'CRWS', 'HTH', 'CBB', 'RLJE', 'SGYP', 'NEE', 'EPM', 'VSI', 'LGND', 'BGCP', 'WU', 'WLH', 'EVX', 'GVI', 'TSRA', 'QEP', 'OFED', 'SMI', 'MNR', 'PBR', 'LRN', 'ZSPH', 'ADMP', 'BWA', 'EWA', 'FXD', 'IDV', 'JUNO', 'SWX', 'WSTG', 'ETH', 'IKGH', 'AVNW', 'RDVY', 'DLX', 'NYRT', 'OGXI', 'QTM', 'ASPS', 'CZZ', 'GTE', 'GGT', 'DFT', 'SLF', 'WDAY', 'FCNCA', 'NTWK', 'IXC', 'BYFC', 'TSRO', 'CDI', 'E', 'PCP', 'PLBC', 'LTM', 'PZE', 'UEC', 'IMPV', 'IDRA', 'CW', 'PFBC', 'CIE', 'RENN', 'KCAP', 'LBAI', 'MORT', 'TTS', 'AST', 'CFX', 'ENLK', 'RTM', 'SGNL', 'CAB', 'AIMC', 'CYRN', 'JBT', 'LBY', 'LTS', 'GRUB', 'TD', 'CM', 'ARTW', 'SCCO', 'ENB', 'CNQ', 'CEW', 'CRED', 'EIGI', 'KEY', 'DST', 'IMAX', 'SYNL', 'VYM', 'FDM', 'CBMG', 'NICK', 'PMC', 'RFIL', 'QTNT', 'MBLY', 'NHI', 'FCB', 'REI', 'DNBF', 'VAW', 'VUG', 'PERF', 'PBI', 'BNCL', 'ECON', 'FEMS', 'FNV', 'IXYS', 'SAVE', 'SAFM', 'IIN', 'CTS', 'AIR', 'ETR', 'MORE', 'MTEX', 'FNHC', 'WGP', 'INFY', 'DSCI', 'OXM', 'DGSE', 'TROX', 'GLBS', 'GPX', 'GXP', 'VRML', 'WNRL', 'PRGX', 'SPNC', 'OMED', 'USEG', 'SIL', 'TRV', 'CYS', 'ENBL', 'KNL', 'PVCT', 'SHLX', 'WHR', 'SOXL', 'ANTH', 'SERV', 'CYAN', 'NTN', 'HTA', 'USD', 'ERO', 'MRVC', 'SRNE', 'TCRD', 'AXE', 'GNCA', 'CTT', 'GSVC', 'NEWS', 'IPO', 'GFNCP', 'JKK', 'SCHM', 'PJC', 'WOR', 'XHS', 'XOP', 'GWB', 'EFX', 'HRT', 'GPK', 'SJM', 'TVPT', 'GGE', 'RIGP', 'TPL', 'PTX', 'NPTN', 'ADC', 'JCTCF', 'NEOT', 'MTW', 'HTLF', 'MNTX', 'HSC', 'SBNY', 'FMK', 'FPL', 'LTC', 'GALT', 'IDU', 'OCLR', 'ERUS', 'OPHT', 'PRY', 'LE', 'OIIM', 'HYD', 'HSKA', 'MGPI', 'INDA', 'ERIE', 'CIG', 'CTSO', 'HK', 'WEC', 'FINL', 'GCAP', 'RYT', 'VNO', 'PEG', 'GBIM', 'EGT', 'WIT', 'INAP', 'SMP', 'PGJ', 'UGL', 'HNRG', 'ULTR', 'VIS', 'CYTX', 'SIRI', 'FTC', 'ITR', 'SSP', 'MIC', 'JASO', 'PSIX', 'GULTU', 'SVXY', 'LAYN', 'KWT', 'PNM', 'FOMX', 'CUZ', 'SCTY', 'KINS', 'NGLS', 'ADRD', 'FCBC', 'MENT', 'TWX', 'PIR', 'KOSS', 'BAP', 'TAT', 'OCRX', 'QADA', 'OSIR', 'BORN', 'OMI', 'MYL', 'WSTL', 'CRIS', 'HUM', 'EFOI', 'CPN', 'INVE', 'JASN', 'KRE', 'PESI', 'NXTM', 'ARQL', 'CMTL', 'SIX', 'GULF', 'IBN', 'DYSL', 'GLNG', 'VTV', 'EBTC', 'IVH', 'WAFD', 'ORPN', 'NWS', 'DCA', 'TENX', 'CLW', 'ELD', 'MCUR', 'GREK', 'BFK', 'EMJ', 'ACFC', 'TRMR', 'GIB', 'IRS', 'VCF', 'BPL', 'DUC', 'MUB', 'SKY', 'MKC', 'ORRF', 'PHH', 'CHMG', 'UDR', 'CYCC', 'ANH', 'BID', 'BITA', 'PSLV', 'XME', 'UBCP'}\n"
     ]
    }
   ],
   "source": [
    "# Create sets of unique ticker symbols in each DataFrame\n",
    "stock_tickers = set(stock_df['ticker'].unique())\n",
    "sentiment_tickers = set(sentiment_df['ticker'].unique())\n",
    "\n",
    "# Find ticker symbols missing in stock_df but present in sentiment_df\n",
    "missing_in_stock = stock_tickers.difference(sentiment_tickers)\n",
    "\n",
    "# Find ticker symbols missing in sentiment_df but present in stock_df\n",
    "missing_in_sentiment = sentiment_tickers.difference(stock_tickers)"
   ]
  },
  {
   "cell_type": "code",
   "execution_count": 5,
   "id": "103ccb41-a49e-4047-adcf-de59b7feb3bd",
   "metadata": {},
   "outputs": [],
   "source": [
    "# Find tickers in sentiment_df that are not in sentiment_df and delete those tickers from stock_df\n",
    "missing_tickers = set(stock_tickers) - set(sentiment_tickers)\n",
    "stock_df = stock_df[~stock_df['ticker'].isin(missing_tickers)]\n",
    "stock_df = stock_df.reset_index(drop=True)"
   ]
  },
  {
   "cell_type": "code",
   "execution_count": 6,
   "id": "f8d44faa-6fb8-4ec4-b266-15e0dc8cf0da",
   "metadata": {},
   "outputs": [
    {
     "name": "stdout",
     "output_type": "stream",
     "text": [
      "   feature_1  feature_2  feature_3  feature_4  feature_5       date ticker  \\\n",
      "0  -4.694621   0.050102   0.525245  -4.551044   1.058598 2017-01-03      A   \n",
      "1  -4.948428   0.293337   0.468583  -4.553871   1.065424 2017-01-04      A   \n",
      "2  -4.885045   0.113366   0.636895  -4.541259   1.020767 2017-01-05      A   \n",
      "3  -5.465603   0.731387   0.340322  -4.613235   1.154764 2017-01-06      A   \n",
      "4  -5.977897   1.172599   0.107106  -4.593020   1.132056 2017-01-09      A   \n",
      "\n",
      "    close  labels  scores  \n",
      "0  46.178     NaN     NaN  \n",
      "1  46.784     NaN     NaN  \n",
      "2  46.228     NaN     NaN  \n",
      "3  47.668     NaN     NaN  \n",
      "4  47.817     NaN     NaN  \n"
     ]
    }
   ],
   "source": [
    "# Perform an left merge on 'ticker' and 'date' columns, filling missing sentiment with NaN\n",
    "sentiment_df['date'] = pd.to_datetime(sentiment_df['date'])\n",
    "stock_df['date'] = pd.to_datetime(stock_df['date'])\n",
    "merged_df = pd.merge(stock_df, sentiment_df, on=['ticker', 'date'], how='left')\n",
    "\n",
    "# Fill NaN values in the 'sentiment' column with forward filling\n",
    "merged_df.sort_values(by=['ticker', 'date'], inplace=True)\n",
    "merged_df['labels'] = merged_df.groupby('ticker')['labels'].fillna(method='ffill')\n",
    "merged_df['scores'] = merged_df.groupby('ticker')['scores'].fillna(method='ffill')\n",
    "merged_df.head()"
   ]
  },
  {
   "cell_type": "code",
   "execution_count": 8,
   "id": "8346367b-2b4b-4f4c-b907-5441f1b0aefc",
   "metadata": {},
   "outputs": [
    {
     "data": {
      "text/plain": [
       "21553"
      ]
     },
     "execution_count": 8,
     "metadata": {},
     "output_type": "execute_result"
    }
   ],
   "source": [
    "# The number of null (missing) values in the 'labels' column \n",
    "merged_df['labels'].isnull().sum() "
   ]
  },
  {
   "cell_type": "markdown",
   "id": "ba93b3b2-aac7-4f0d-9f7b-2edf63fcd4e3",
   "metadata": {},
   "source": [
    "Since we use `filling forward` to fill missing `labels` and `scores`, meanwhile, in the very beginning of that ticker, if there was no data for sentiment, these missing values remaining NAN. We decide to remove 21,553 missing values. "
   ]
  },
  {
   "cell_type": "code",
   "execution_count": 9,
   "id": "b80f6ee2-e9f7-4601-bd5b-6544b99c3877",
   "metadata": {},
   "outputs": [
    {
     "data": {
      "text/html": [
       "<div>\n",
       "<style scoped>\n",
       "    .dataframe tbody tr th:only-of-type {\n",
       "        vertical-align: middle;\n",
       "    }\n",
       "\n",
       "    .dataframe tbody tr th {\n",
       "        vertical-align: top;\n",
       "    }\n",
       "\n",
       "    .dataframe thead th {\n",
       "        text-align: right;\n",
       "    }\n",
       "</style>\n",
       "<table border=\"1\" class=\"dataframe\">\n",
       "  <thead>\n",
       "    <tr style=\"text-align: right;\">\n",
       "      <th></th>\n",
       "      <th>index</th>\n",
       "      <th>feature_1</th>\n",
       "      <th>feature_2</th>\n",
       "      <th>feature_3</th>\n",
       "      <th>feature_4</th>\n",
       "      <th>feature_5</th>\n",
       "      <th>date</th>\n",
       "      <th>ticker</th>\n",
       "      <th>close</th>\n",
       "      <th>labels</th>\n",
       "      <th>scores</th>\n",
       "    </tr>\n",
       "  </thead>\n",
       "  <tbody>\n",
       "    <tr>\n",
       "      <th>0</th>\n",
       "      <td>28</td>\n",
       "      <td>-7.135500</td>\n",
       "      <td>1.737037</td>\n",
       "      <td>0.549845</td>\n",
       "      <td>-4.568750</td>\n",
       "      <td>0.963048</td>\n",
       "      <td>2017-02-13</td>\n",
       "      <td>A</td>\n",
       "      <td>50.181</td>\n",
       "      <td>1.0</td>\n",
       "      <td>0.726289</td>\n",
       "    </tr>\n",
       "    <tr>\n",
       "      <th>1</th>\n",
       "      <td>29</td>\n",
       "      <td>-6.763309</td>\n",
       "      <td>1.054229</td>\n",
       "      <td>1.104335</td>\n",
       "      <td>-4.783732</td>\n",
       "      <td>0.910144</td>\n",
       "      <td>2017-02-14</td>\n",
       "      <td>A</td>\n",
       "      <td>50.051</td>\n",
       "      <td>1.0</td>\n",
       "      <td>1.000000</td>\n",
       "    </tr>\n",
       "    <tr>\n",
       "      <th>2</th>\n",
       "      <td>30</td>\n",
       "      <td>-7.440492</td>\n",
       "      <td>1.941932</td>\n",
       "      <td>0.611897</td>\n",
       "      <td>-4.902583</td>\n",
       "      <td>1.118596</td>\n",
       "      <td>2017-02-15</td>\n",
       "      <td>A</td>\n",
       "      <td>51.274</td>\n",
       "      <td>2.0</td>\n",
       "      <td>0.405166</td>\n",
       "    </tr>\n",
       "    <tr>\n",
       "      <th>3</th>\n",
       "      <td>31</td>\n",
       "      <td>-7.021660</td>\n",
       "      <td>1.260201</td>\n",
       "      <td>1.244202</td>\n",
       "      <td>-4.692837</td>\n",
       "      <td>0.886699</td>\n",
       "      <td>2017-02-16</td>\n",
       "      <td>A</td>\n",
       "      <td>50.499</td>\n",
       "      <td>2.0</td>\n",
       "      <td>0.405166</td>\n",
       "    </tr>\n",
       "    <tr>\n",
       "      <th>4</th>\n",
       "      <td>32</td>\n",
       "      <td>-7.772780</td>\n",
       "      <td>2.240362</td>\n",
       "      <td>0.517339</td>\n",
       "      <td>-4.614486</td>\n",
       "      <td>0.989061</td>\n",
       "      <td>2017-02-17</td>\n",
       "      <td>A</td>\n",
       "      <td>51.284</td>\n",
       "      <td>2.0</td>\n",
       "      <td>0.405166</td>\n",
       "    </tr>\n",
       "  </tbody>\n",
       "</table>\n",
       "</div>"
      ],
      "text/plain": [
       "   index  feature_1  feature_2  feature_3  feature_4  feature_5       date  \\\n",
       "0     28  -7.135500   1.737037   0.549845  -4.568750   0.963048 2017-02-13   \n",
       "1     29  -6.763309   1.054229   1.104335  -4.783732   0.910144 2017-02-14   \n",
       "2     30  -7.440492   1.941932   0.611897  -4.902583   1.118596 2017-02-15   \n",
       "3     31  -7.021660   1.260201   1.244202  -4.692837   0.886699 2017-02-16   \n",
       "4     32  -7.772780   2.240362   0.517339  -4.614486   0.989061 2017-02-17   \n",
       "\n",
       "  ticker   close  labels    scores  \n",
       "0      A  50.181     1.0  0.726289  \n",
       "1      A  50.051     1.0  1.000000  \n",
       "2      A  51.274     2.0  0.405166  \n",
       "3      A  50.499     2.0  0.405166  \n",
       "4      A  51.284     2.0  0.405166  "
      ]
     },
     "execution_count": 9,
     "metadata": {},
     "output_type": "execute_result"
    }
   ],
   "source": [
    "# Drop rows with missing values (NaN) \n",
    "merged_df = merged_df.dropna()\n",
    "\n",
    "# Reset the index and add the previous index as a new column 'index'\n",
    "merged_df = merged_df.reset_index()\n",
    "\n",
    "# Convert the 'date' column to datetime format\n",
    "merged_df['date'] = pd.to_datetime(merged_df['date'])\n",
    "\n",
    "# Label encoding for 'ticker'\n",
    "label_encoder = LabelEncoder()\n",
    "merged_df['ticker_encoded'] = label_encoder.fit_transform(merged_df['ticker'])\n",
    "\n",
    "# Drop the 'ticker', 'index', `date` columns\n",
    "merged_df.drop(columns=['ticker', 'date', 'index'], axis=1, inplace=True)"
   ]
  },
  {
   "cell_type": "code",
   "execution_count": null,
   "id": "deda0040-b6e2-49a5-88ca-323afa0da872",
   "metadata": {},
   "outputs": [],
   "source": [
    "# merged_df.to_csv(\"Candidate_features.csv\")"
   ]
  },
  {
   "cell_type": "markdown",
   "id": "0349b72b-b2a9-424f-8fa6-e2c6f1fb21b3",
   "metadata": {
    "tags": []
   },
   "source": [
    "## 7. Deep Learning Autoencoder "
   ]
  },
  {
   "cell_type": "markdown",
   "id": "6f233472-8da9-4c23-9e8c-fbafd4a5b4f7",
   "metadata": {
    "jp-MarkdownHeadingCollapsed": true,
    "tags": []
   },
   "source": [
    "#### Import Libraries"
   ]
  },
  {
   "cell_type": "code",
   "execution_count": null,
   "id": "d0488979-523c-4130-8e71-3a013b3cec17",
   "metadata": {},
   "outputs": [],
   "source": [
    "import numpy as np\n",
    "import pandas as pd\n",
    "import matplotlib.pyplot as plt\n",
    "from sklearn.neighbors import NearestNeighbors\n",
    "from sklearn.preprocessing import StandardScaler\n",
    "from sklearn.metrics.pairwise import cosine_similarity\n",
    "from sklearn.metrics import accuracy_score, precision_score, recall_score\n",
    "import tensorflow as tf\n",
    "from tensorflow.keras.models import Model\n",
    "from tensorflow.keras.layers import Input, Dense, Dropout, BatchNormalization\n",
    "from tensorflow.keras.optimizers import Adam, SGD, RMSprop\n",
    "from tensorflow.keras import regularizers\n",
    "from tensorflow.keras import layers, losses\n",
    "from tensorflow.keras.callbacks import ModelCheckpoint\n",
    "from tensorflow.keras.models import load_model"
   ]
  },
  {
   "cell_type": "code",
   "execution_count": null,
   "id": "63f405d9-89de-4055-ac64-e763f782e0fd",
   "metadata": {},
   "outputs": [],
   "source": [
    "df = pd.read_csv(\"Candidate_features.csv\").drop(['Unnamed: 0'], axis=1)\n",
    "df.head()"
   ]
  },
  {
   "cell_type": "code",
   "execution_count": null,
   "id": "1e5dc0cf-eb2f-425d-8767-ffbdfe61b92f",
   "metadata": {},
   "outputs": [],
   "source": [
    "product_df = df.copy()\n",
    "product_df = product_df.sort_values(['ticker'])\n",
    "product_df.columns = map(str.lower, product_df.columns)\n",
    "X_all = product_df[['feature_1', 'feature_2', 'feature_3', 'feature_4', 'feature_5', 'labels', 'scores']].values"
   ]
  },
  {
   "cell_type": "code",
   "execution_count": null,
   "id": "50a5dbc8-2ab4-48a0-ad89-1d5b2a57a5da",
   "metadata": {},
   "outputs": [],
   "source": [
    "X_all"
   ]
  },
  {
   "cell_type": "code",
   "execution_count": null,
   "id": "8c89159a-f34a-4191-bc80-c85bfbc49c59",
   "metadata": {},
   "outputs": [],
   "source": [
    "ticker_df = features_df[['ticker', 'ticker_encoded']].copy()\n",
    "ticker_df.drop_duplicates(keep='first', inplace=False, ignore_index=True) "
   ]
  },
  {
   "cell_type": "markdown",
   "id": "c1d6613f-d16f-471d-aee5-39ec4d7ea5e6",
   "metadata": {
    "jp-MarkdownHeadingCollapsed": true,
    "tags": []
   },
   "source": [
    "### 7.1. Spliting Train, Test and Validation sets"
   ]
  },
  {
   "cell_type": "code",
   "execution_count": null,
   "id": "6068bb94-4661-4d24-b40a-481a50d0daa7",
   "metadata": {},
   "outputs": [],
   "source": [
    "# Sort the stock_df by 'Ticker' and by 'Date'. \n",
    "df.sort_values(['ticker'], inplace=True)\n",
    "\n",
    "# 'row_num' to enumerates rows within each group of the same 'Ticker'\n",
    "df['row_num'] = df.groupby('ticker').cumcount() + 1\n",
    "\n",
    "# Calculating total count per partition\n",
    "partition_counts = df.groupby('ticker').size().reset_index(name='partition_count')\n",
    "\n",
    "# Merging the counts with the DataFrame\n",
    "stock_df_with_counts = pd.merge(df, partition_counts, on='ticker', how='left')\n",
    "\n",
    "# Calculate the thresholds for train, test, and valid partitions\n",
    "stock_df_with_counts['partition_threshold'] = stock_df_with_counts['partition_count'] * 0.7\n",
    "stock_df_with_counts['test_threshold'] = stock_df_with_counts['partition_count'] * 0.85\n",
    "\n",
    "# Filter the DataFrame per partition based on the thresholds\n",
    "train_data = stock_df_with_counts[stock_df_with_counts['row_num'] <= stock_df_with_counts['partition_threshold']]\n",
    "test_data = stock_df_with_counts[(stock_df_with_counts['row_num'] > stock_df_with_counts['partition_threshold']) &\n",
    "                                (stock_df_with_counts['row_num'] <= stock_df_with_counts['test_threshold'])]\n",
    "valid_data = stock_df_with_counts[stock_df_with_counts['row_num'] > stock_df_with_counts['test_threshold']]\n",
    "\n",
    "# Lower all column names \n",
    "train_data.columns = map(str.lower, train_data.columns)\n",
    "test_data.columns = map(str.lower, test_data.columns)\n",
    "valid_data.columns = map(str.lower, valid_data.columns)\n",
    "\n",
    "# Drop all unnessary columns \n",
    "train_data = train_data.drop(columns=['row_num', 'partition_count', 'partition_threshold', 'test_threshold'], axis=1)\n",
    "test_data = test_data.drop(columns=['row_num', 'partition_count', 'partition_threshold', 'test_threshold'], axis=1)\n",
    "valid_data = valid_data.drop(columns=['row_num', 'partition_count', 'partition_threshold', 'test_threshold'], axis=1)"
   ]
  },
  {
   "cell_type": "code",
   "execution_count": null,
   "id": "23da7c92-9685-43e2-8dbe-e9ea71d7f5ac",
   "metadata": {},
   "outputs": [],
   "source": [
    "X_train = train_data[['feature_1', 'feature_2', 'feature_3', 'feature_4', 'feature_5', 'labels', 'scores']].values\n",
    "X_test = test_data[['feature_1', 'feature_2', 'feature_3', 'feature_4', 'feature_5', 'labels', 'scores']].values\n",
    "X_valid = valid_data[['feature_1', 'feature_2', 'feature_3', 'feature_4', 'feature_5', 'labels', 'scores']].values\n",
    "\n",
    "print(\"Shape of X_train:\", X_train.shape)\n",
    "print(\"Shape of X_test:\", X_test.shape)\n",
    "print(\"Shape of X_valid:\", X_valid.shape)"
   ]
  },
  {
   "cell_type": "markdown",
   "id": "266d6a7a-1255-4694-8de0-d85f3f716f17",
   "metadata": {},
   "source": [
    "### 7.2. Autoencoder Training"
   ]
  },
  {
   "cell_type": "code",
   "execution_count": null,
   "id": "60850ddb-1e0f-4aff-abbe-b5dd39de3c29",
   "metadata": {},
   "outputs": [],
   "source": [
    "# Define the size of input layer \n",
    "input_dim = X_train.shape[1]\n",
    "encoding_dim = 32\n",
    "\n",
    "# Create autoencoder architecture\n",
    "# Encoder\n",
    "input_layer = Input(shape=(input_dim, ))\n",
    "encoder = Dense(256, activation=\"relu\")(input_layer)\n",
    "encoder = Dense(128, activation=\"relu\")(encoder)\n",
    "encoder = Dense(64, activation=\"relu\")(encoder)  \n",
    "encoder = Dense(encoding_dim, activation=\"relu\")(encoder)  \n",
    "\n",
    "# Decoder\n",
    "decoder = Dense(256, activation=\"relu\")(encoder)\n",
    "decoder = Dense(128, activation=\"relu\")(decoder)\n",
    "decoder = Dense(64, activation=\"relu\")(decoder)\n",
    "decoder = Dense(input_dim, activation=\"linear\")(decoder) \n",
    "\n",
    "# maps input to its reconstruction\n",
    "stock_autoencoder = Model(inputs=input_layer, outputs=decoder)\n",
    "\n",
    "# Compile model\n",
    "stock_autoencoder.compile(optimizer=Adam(learning_rate=0.001), loss='mse')\n",
    "\n",
    "# Define the checkpoint callback\n",
    "stock_encoder_checkpoint = ModelCheckpoint('stock_encoder.h5',\n",
    "                                           monitor='val_loss',\n",
    "                                           mode='min',\n",
    "                                           save_best_only=True,\n",
    "                                           verbose=1)\n",
    "\n",
    "# Train the model\n",
    "history = stock_autoencoder.fit(X_train, X_train, \n",
    "                                epochs=50, \n",
    "                                batch_size=32, \n",
    "                                validation_data=(X_valid, X_valid),\n",
    "                                callbacks=[stock_encoder_checkpoint])"
   ]
  },
  {
   "cell_type": "code",
   "execution_count": null,
   "id": "d1003075-40e2-45ff-88da-71e135e11d5c",
   "metadata": {},
   "outputs": [],
   "source": [
    "# Plot the training and validation loss to visualize the learning process\n",
    "plt.plot(history.history['loss'], label='Training Loss')\n",
    "plt.plot(history.history['val_loss'], label='Validation Loss')\n",
    "plt.title('Figure 1. Model Loss for Basic Autoencoder')\n",
    "plt.ylabel('Loss')\n",
    "plt.xlabel('Epoch')\n",
    "plt.legend()\n",
    "plt.show()"
   ]
  },
  {
   "cell_type": "markdown",
   "id": "c83fcf46-c7d4-4fa3-b611-cc126bbf2b97",
   "metadata": {},
   "source": [
    "From figure 1., we observe that there is significant fluctuations, especially in the initial epochs. The model might be learning, but the loss is quite volatile. As the epochs increase, both the training and validation loss seem to converge, suggesting the model is stabilizing and learning effectively.\n",
    "\n"
   ]
  },
  {
   "cell_type": "code",
   "execution_count": null,
   "id": "ac49583e-c242-40b4-bda8-e16cbd5327a8",
   "metadata": {},
   "outputs": [],
   "source": [
    "# Load the best model\n",
    "best_autoencoder = load_model('stock_encoder.h5')\n",
    "print(\"Loaded the best model from disk\")\n",
    "\n",
    "# Print the summary of the best model \n",
    "# Print network summary\n",
    "print(\"Best Model Architecture:\")\n",
    "best_autoencoder.summary()"
   ]
  },
  {
   "cell_type": "code",
   "execution_count": null,
   "id": "00d19809-2a3c-4185-8e57-92addc39efaf",
   "metadata": {},
   "outputs": [],
   "source": [
    "# Using different optimizer \n",
    "# Compile model with SGD optimizer\n",
    "stock_autoencoder.compile(optimizer=SGD(learning_rate=0.01, momentum=0.9), loss='mse')\n",
    "\n",
    "# Train the model\n",
    "history_sgd = stock_autoencoder.fit(X_train, X_train, \n",
    "                                    epochs=50, \n",
    "                                    batch_size=32, \n",
    "                                    validation_data=(X_valid, X_valid),\n",
    "                                    callbacks=[stock_encoder_checkpoint])\n"
   ]
  },
  {
   "cell_type": "code",
   "execution_count": null,
   "id": "325f7690-a20a-4a76-8604-b12ed82d39a3",
   "metadata": {},
   "outputs": [],
   "source": [
    "from tensorflow.keras.optimizers import RMSprop\n",
    "# Using different optimizer \n",
    "# Compile model with RMSprop optimizer\n",
    "stock_autoencoder.compile(optimizer=RMSprop(learning_rate=0.001), loss='mse')\n",
    "\n",
    "# Train the model\n",
    "history_rmsprop = stock_autoencoder.fit(X_train, X_train, \n",
    "                                        epochs=50, \n",
    "                                        batch_size=32, \n",
    "                                        validation_data=(X_valid, X_valid),\n",
    "                                        callbacks=[stock_encoder_checkpoint])\n"
   ]
  },
  {
   "cell_type": "code",
   "execution_count": null,
   "id": "508bc6c8-6802-4116-b930-449471abf584",
   "metadata": {},
   "outputs": [],
   "source": [
    "# Evaluate the model on test data\n",
    "test_loss = best_autoencoder.evaluate(X_test, X_test, verbose=0)\n",
    "print('Test loss:', test_loss)\n",
    "\n",
    "# Use our best model to make predictions\n",
    "encoded_predict = best_autoencoder.predict(X_test)"
   ]
  },
  {
   "cell_type": "markdown",
   "id": "21c50a5f-d56e-4741-92dc-f5eebd2ab796",
   "metadata": {},
   "source": [
    "The test loss of our stock autoencoder model is 17475.43359375. Despite trying various optimizers – Adam, SGD, and RMSprop – there was no notable improvement in this loss metric. \n",
    "\n"
   ]
  },
  {
   "cell_type": "markdown",
   "id": "dca10b1b-e7e1-4785-a005-5c53a3032f8b",
   "metadata": {},
   "source": [
    "I'll try to adding more layer in architecture to see if the model can be better and reduce loss."
   ]
  },
  {
   "cell_type": "code",
   "execution_count": null,
   "id": "a1fb6e88-72af-4c9f-adf2-90307272c4c2",
   "metadata": {},
   "outputs": [],
   "source": [
    "# Encoder\n",
    "input_layer = Input(shape=(input_dim, ))\n",
    "encoder = Dense(512, activation=\"relu\")(input_layer)\n",
    "encoder = Dense(256, activation=\"relu\")(encoder)\n",
    "encoder = Dense(128, activation=\"relu\")(encoder)\n",
    "encoder = Dense(64, activation=\"relu\")(encoder)\n",
    "encoder = Dense(encoding_dim, activation=\"relu\")(encoder)\n",
    "\n",
    "# Decoder\n",
    "decoder = Dense(64, activation='relu')(encoder)\n",
    "decoder = Dense(128, activation='relu')(decoder)\n",
    "decoder = Dense(256, activation='relu')(decoder)\n",
    "decoder = Dense(512, activation='relu')(decoder)\n",
    "decoder = Dense(input_dim, activation='linear')(decoder)\n",
    "\n",
    "# Autoencoder\n",
    "stock_autoencoder2 = Model(inputs=input_layer, outputs=decoder)\n",
    "stock_autoencoder2.compile(optimizer=Adam(learning_rate=0.001), loss='mse')\n",
    "\n",
    "# Checkpoint to save the best model\n",
    "stock_encoder2_checkpoint = ModelCheckpoint('stock_encoder_add_layer.h5',\n",
    "                                           monitor='val_loss',\n",
    "                                           mode='min',\n",
    "                                           save_best_only=True,\n",
    "                                           verbose=1)\n",
    "\n",
    "# Train the model\n",
    "history = stock_autoencoder2.fit(X_train, X_train, \n",
    "                                 epochs=50, \n",
    "                                 batch_size=32, \n",
    "                                 validation_data=(X_valid, X_valid),\n",
    "                                 callbacks=[stock_encoder2_checkpoint])\n"
   ]
  },
  {
   "cell_type": "code",
   "execution_count": null,
   "id": "18f9c5f6-a3b5-4de6-a2e9-9f4f766b39cd",
   "metadata": {},
   "outputs": [],
   "source": [
    "# Plot the training and validation loss to visualize the learning process\n",
    "plt.plot(history.history['loss'], label='Training Loss')\n",
    "plt.plot(history.history['val_loss'], label='Validation Loss')\n",
    "plt.title('Figure 2. Model Loss for Autoencoder with Extra Layers')\n",
    "plt.ylabel('Loss')\n",
    "plt.xlabel('Epoch')\n",
    "plt.legend()\n",
    "plt.show()"
   ]
  },
  {
   "cell_type": "markdown",
   "id": "594c5386-575c-4909-95b3-14c9eac3c864",
   "metadata": {},
   "source": [
    "## 8. Content-based Recommendation Algorithm"
   ]
  },
  {
   "cell_type": "code",
   "execution_count": null,
   "id": "bb41dafc-7a16-44ba-8593-b45da01a096b",
   "metadata": {},
   "outputs": [],
   "source": [
    "# Use the encoder model to transform data into compressed form\n",
    "encoded_data = best_autoencoder.predict(X_all)"
   ]
  },
  {
   "cell_type": "code",
   "execution_count": null,
   "id": "498e8713-f6c2-49d3-9253-c6bacafe9ce2",
   "metadata": {},
   "outputs": [],
   "source": [
    "encoded_data"
   ]
  },
  {
   "cell_type": "code",
   "execution_count": null,
   "id": "fa5978c5-a613-4317-8b9e-438c9137ffeb",
   "metadata": {},
   "outputs": [],
   "source": [
    "# Group by 'ticker' and then select the first occurrence\n",
    "ticker_df = df.groupby('ticker').first().reset_index()\n",
    "\n",
    "# Select only the 'ticker' and 'ticker_encoded' columns\n",
    "ticker_df = ticker_df[['ticker', 'ticker_encoded']]\n",
    "ticker_df"
   ]
  },
  {
   "cell_type": "code",
   "execution_count": null,
   "id": "b7b07c95-8840-48a5-a1e6-b8b1e57fce5c",
   "metadata": {},
   "outputs": [],
   "source": [
    "# Map the ticker unput as the index \n",
    "ticker_to_encoded = dict(zip(ticker_df['ticker'], ticker_df['ticker_encoded']))\n",
    "\n",
    "# sample test\n",
    "ticker_to_encoded.get('YY')"
   ]
  },
  {
   "cell_type": "code",
   "execution_count": null,
   "id": "bce98854-6051-48bd-a8c3-857ef271a99b",
   "metadata": {},
   "outputs": [],
   "source": [
    "# Function to recommend stocks\n",
    "def recommend_stocks(encoded_data, input_ticker, top_n=5):\n",
    "    # Retrieve the encoded index for the input ticker\n",
    "    ticker_index = ticker_to_encoded.get(input_ticker)\n",
    "\n",
    "    if ticker_index is None:\n",
    "        return \"Ticker not found.\"\n",
    "\n",
    "    # Calculate similarity with other stocks\n",
    "    user_encoded = encoded_data[ticker_index].reshape(1, -1)\n",
    "    similarity_scores = cosine_similarity(user_encoded, encoded_data)\n",
    "\n",
    "    # Get indices of top N similar stocks, but we don't count the input stock from user\n",
    "    similar_indices = similarity_scores.flatten().argsort()[::-1][1:top_n+1]\n",
    "\n",
    "    # Convert the indices back to the ticker symbols\n",
    "    # recommended_tickers = [ticker_df.iloc[i]['ticker'] for i in similar_indices]\n",
    "\n",
    "    # Return the indices of the similar stocks\n",
    "    return similar_indices"
   ]
  },
  {
   "cell_type": "code",
   "execution_count": null,
   "id": "da85f7eb-e5cd-4606-984c-35a0c075005d",
   "metadata": {},
   "outputs": [],
   "source": [
    "# Sample running\n",
    "input_ticker = \"YY\"\n",
    "recommended_indices = recommend_stocks(encoded_data, input_ticker)\n",
    "print(\"Indices of Stocks similar to\", input_ticker, \":\", recommended_indices)"
   ]
  },
  {
   "cell_type": "code",
   "execution_count": null,
   "id": "b67b2401-b32e-494b-bc1e-3a1edfc2f4a8",
   "metadata": {},
   "outputs": [],
   "source": [
    "# Sample running \n",
    "input_ticker = \"AA\"\n",
    "top_n = 5\n",
    "recommended_indices = recommend_stocks(encoded_data, input_ticker, top_n)\n",
    "print(\"Indices of Stocks similar to\", input_ticker, \":\", recommended_indices)"
   ]
  },
  {
   "cell_type": "code",
   "execution_count": null,
   "id": "1561a413-3dae-44ab-b121-3bd355443759",
   "metadata": {},
   "outputs": [],
   "source": [
    "def look_data(recommended_indices):\n",
    "    for i in recommended_indices:\n",
    "        index_val = stock_df['Ticker'][i]\n",
    "        req_data = stock_df[stock_df['Ticker'] == index_val]\n",
    "    \n",
    "    print(req_data['predicted_price'].median())"
   ]
  },
  {
   "cell_type": "code",
   "execution_count": null,
   "id": "e9415f69-abc4-45b1-b86e-e02354d9fa1a",
   "metadata": {},
   "outputs": [],
   "source": []
  },
  {
   "cell_type": "markdown",
   "id": "50e32850-ae4f-4b1f-9c7a-a17efa6e6560",
   "metadata": {},
   "source": [
    "# Streamlit WebApp Deployment"
   ]
  },
  {
   "cell_type": "code",
   "execution_count": 2,
   "id": "91590abd-4e70-40d6-9560-20d7b4c92499",
   "metadata": {},
   "outputs": [
    {
     "name": "stdout",
     "output_type": "stream",
     "text": [
      "Requirement already satisfied: newsapi in /Users/vanle/opt/anaconda3/lib/python3.9/site-packages (0.1.1)\n",
      "Requirement already satisfied: requests in /Users/vanle/opt/anaconda3/lib/python3.9/site-packages (from newsapi) (2.31.0)\n",
      "Requirement already satisfied: urllib3<3,>=1.21.1 in /Users/vanle/opt/anaconda3/lib/python3.9/site-packages (from requests->newsapi) (1.26.9)\n",
      "Requirement already satisfied: idna<4,>=2.5 in /Users/vanle/opt/anaconda3/lib/python3.9/site-packages (from requests->newsapi) (3.3)\n",
      "Requirement already satisfied: charset-normalizer<4,>=2 in /Users/vanle/opt/anaconda3/lib/python3.9/site-packages (from requests->newsapi) (2.0.4)\n",
      "Requirement already satisfied: certifi>=2017.4.17 in /Users/vanle/opt/anaconda3/lib/python3.9/site-packages (from requests->newsapi) (2021.10.8)\n"
     ]
    }
   ],
   "source": [
    "!pip install newsapi"
   ]
  },
  {
   "cell_type": "code",
   "execution_count": null,
   "id": "0f4f30a9-84c2-4b2d-806f-c1f1f193914a",
   "metadata": {},
   "outputs": [
    {
     "ename": "ImportError",
     "evalue": "cannot import name 'NewsApiClient' from 'newsapi' (/Users/vanle/opt/anaconda3/lib/python3.9/site-packages/newsapi/__init__.py)",
     "output_type": "error",
     "traceback": [
      "\u001b[0;31m---------------------------------------------------------------------------\u001b[0m",
      "\u001b[0;31mImportError\u001b[0m                               Traceback (most recent call last)",
      "Input \u001b[0;32mIn [6]\u001b[0m, in \u001b[0;36m<cell line: 8>\u001b[0;34m()\u001b[0m\n\u001b[1;32m      6\u001b[0m \u001b[38;5;28;01mimport\u001b[39;00m \u001b[38;5;21;01mpandas\u001b[39;00m \u001b[38;5;28;01mas\u001b[39;00m \u001b[38;5;21;01mpd\u001b[39;00m\n\u001b[1;32m      7\u001b[0m \u001b[38;5;28;01mimport\u001b[39;00m \u001b[38;5;21;01mnumpy\u001b[39;00m \u001b[38;5;28;01mas\u001b[39;00m \u001b[38;5;21;01mnp\u001b[39;00m\n\u001b[0;32m----> 8\u001b[0m \u001b[38;5;28;01mfrom\u001b[39;00m \u001b[38;5;21;01mnewsapi\u001b[39;00m \u001b[38;5;28;01mimport\u001b[39;00m NewsApiClient\n\u001b[1;32m     10\u001b[0m \u001b[38;5;66;03m# NEWS_API_KEY = \"e6ba85bf8cdd4828ae52e299d6a60a90\"\u001b[39;00m\n\u001b[1;32m     11\u001b[0m \u001b[38;5;66;03m# newsapi = NewsApiClient(api_key=NEWS_API_KEY)\u001b[39;00m\n\u001b[1;32m     13\u001b[0m base\u001b[38;5;241m=\u001b[39m\u001b[38;5;124m\"\u001b[39m\u001b[38;5;124mlight\u001b[39m\u001b[38;5;124m\"\u001b[39m\n",
      "\u001b[0;31mImportError\u001b[0m: cannot import name 'NewsApiClient' from 'newsapi' (/Users/vanle/opt/anaconda3/lib/python3.9/site-packages/newsapi/__init__.py)"
     ]
    }
   ],
   "source": [
    "import yfinance as yf\n",
    "import streamlit as st\n",
    "import os\n",
    "import requests\n",
    "import time\n",
    "import pandas as pd\n",
    "import numpy as np\n",
    "from newsapi import NewsApiClient\n",
    "\n",
    "NEWS_API_KEY = \"e6ba85bf8cdd4828ae52e299d6a60a90\"\n",
    "newsapi = NewsApiClient(api_key=NEWS_API_KEY)\n",
    "\n",
    "base=\"light\"\n",
    "primaryColor=\"#ea1010\"\n",
    "secondaryBackgroundColor=\"#f19682\"\n",
    "textColor=\"#111112\"\n",
    "\n",
    "## Candidate feature dataset is used to compare the ticker in this file\n",
    "# merged_df = pd.read_csv('/Users/marianivethaantonypushparaj/Downloads/Candidate_features.csv')\n",
    "stock_df = pd.read_csv('/Users/marianivethaantonypushparaj/Downloads/predicted_price_data.csv')\n",
    "\n",
    "def get_data(ticker):\n",
    "    from sklearn.metrics.pairwise import cosine_similarity\n",
    "    stock_df = pd.read_csv('/Users/marianivethaantonypushparaj/Downloads/predicted_price_data.csv')\n",
    "    encoded_data = np.loadtxt('/Users/marianivethaantonypushparaj/Downloads/encoded_data.csv', skiprows=1, delimiter=',')\n",
    "    ticker_df = pd.read_csv('/Users/marianivethaantonypushparaj/Downloads/Candidate_features.csv')\n",
    "    def look_data(recommended_indices):\n",
    "        for i in recommended_indices:\n",
    "            index_val = stock_df['Ticker'][i]\n",
    "            req_data = stock_df[stock_df['Ticker'] == index_val]\n",
    "\n",
    "        return (index_val,req_data['predicted_price'].median())\n",
    "    ticker_to_encoded = dict(zip(ticker_df['ticker'], ticker_df['ticker_encoded']))\n",
    "    def recommend_stocks(encoded_data, input_ticker, top_n=1):\n",
    "        # Retrieve the encoded index for the input ticker\n",
    "        ticker_index = ticker_to_encoded.get(input_ticker)\n",
    "\n",
    "        if ticker_index is None:\n",
    "            return \"Ticker not found.\"\n",
    "\n",
    "        # Calculate similarity with other stocks\n",
    "        user_encoded = encoded_data[ticker_index].reshape(1, -1)\n",
    "        similarity_scores = cosine_similarity(user_encoded, encoded_data)\n",
    "\n",
    "        # Get indices of top N similar stocks, but we don't count the input stock from user\n",
    "        similar_indices = similarity_scores.flatten().argsort()[::-1][1:top_n+1]\n",
    "\n",
    "        return similar_indices\n",
    "    recommended_indices = recommend_stocks(encoded_data,ticker,1)\n",
    "    ticker_new = look_data(list(recommended_indices))[0]\n",
    "    price = look_data(list(recommended_indices))[1]\n",
    "    return (ticker_new,price)\n",
    "\n",
    "\n",
    "st.write(\"\"\"\n",
    "# Stock Price Prediction and Recommendation\"\"\")\n",
    "st.subheader(\"When you are in doubt, you are just one click away from knowing about the stock\")\n",
    "st.write(\"This app will help you understand the US Market and price displayed are in USD\")\n",
    "\n",
    "#The ticker variable is defined here\n",
    "ticker=None\n",
    "\n",
    "ticker = st.text_input('Enter the ticker symbol',placeholder='A')\n",
    "\n",
    "if ticker:\n",
    "    st.write(\"You entered: \", ticker)\n",
    "    \n",
    "st.divider() \n",
    "\n",
    "ticker = ticker.upper()\n",
    "\n",
    "\n",
    "st.write('##### We also provide a recommendation on stocks which are similar to the stock you have entered')\n",
    "\n",
    "\n",
    "api_url = f'https://finance.yahoo.com/quote/{ticker}'\n",
    "\n",
    "# The predicted value is stored here\n",
    "\n",
    "response = requests.get(api_url)\n",
    "\n",
    "try:\n",
    "    if ticker:\n",
    "#         if (response.status_code == 200) and (ticker in stock_df.Ticker.unique()):\n",
    "            \n",
    "        if ticker in stock_df.Ticker.unique():\n",
    "            \n",
    "            tickerData = yf.Ticker(ticker)\n",
    "            progress_text = \"Searching data. Please wait.\"\n",
    "            my_bar = st.progress(0, text=progress_text)\n",
    "\n",
    "            for percent_complete in range(100):\n",
    "                time.sleep(0.01)\n",
    "                my_bar.progress(percent_complete + 1, text=progress_text)\n",
    "            time.sleep(1)\n",
    "            my_bar.empty()\n",
    "\n",
    "            st.button(\"Rerun\")\n",
    "            \n",
    "            #Predicted price is displayed\n",
    "            \n",
    "            st.subheader(\"Similar Stock and Price\")\n",
    "            st.write(\"##### Ticker: \",get_data(ticker)[0])\n",
    "            st.write(\"##### Median Price: \",get_data(ticker)[1])\n",
    "            \n",
    "            tickerDf = tickerData.history(period='1d', start='2017-1-1', end='2017-12-31')\n",
    "            st.title(\"Closing Price of the stock\")\n",
    "            st.line_chart(tickerDf.Close)\n",
    "            st.title(\"Volume of the stock\")\n",
    "            st.line_chart(tickerDf.Volume)\n",
    "            with st.sidebar:\n",
    "                st.title(\"Here's a compilation of financial news related to the specified ticker symbol\")\n",
    "                try:\n",
    "                    historical_news = newsapi.get_everything(q=f\"{ticker} stock\", from_param='2023-11-10', to='2023-12-02', language='en', sort_by='publishedAt')\n",
    "\n",
    "                    if 'articles' in historical_news:\n",
    "                        st.subheader(f\"Symbol: {ticker}\")\n",
    "                        for article in historical_news['articles']:\n",
    "                            st.write(f\"- {article['title']} - {article['publishedAt']}\")\n",
    "                            st.write(article['description'])\n",
    "                            st.write(f\"Link: {article['url']}\")\n",
    "                            st.write(\"---\")\n",
    "                    else:\n",
    "                        st.warning(f\"No historical news found for {ticker}\")\n",
    "                except Exception as e:\n",
    "                    st.error(f\"Error fetching news data: {e}\")\n",
    "            \n",
    "\n",
    "        else:\n",
    "            st.write(\"#### Error: Invalid ticker. Please enter a valid ticker.Ex:A,AAC etc.\")\n",
    "    \n",
    "except:\n",
    "    st.write(\"#### Error: Invalid ticker. Please enter a valid ticker.Ex:A,AAC etc.\")"
   ]
  }
 ],
 "metadata": {
  "kernelspec": {
   "display_name": "Python 3 (ipykernel)",
   "language": "python",
   "name": "python3"
  },
  "language_info": {
   "codemirror_mode": {
    "name": "ipython",
    "version": 3
   },
   "file_extension": ".py",
   "mimetype": "text/x-python",
   "name": "python",
   "nbconvert_exporter": "python",
   "pygments_lexer": "ipython3",
   "version": "3.9.12"
  },
  "widgets": {
   "application/vnd.jupyter.widget-state+json": {
    "state": {},
    "version_major": 2,
    "version_minor": 0
   }
  }
 },
 "nbformat": 4,
 "nbformat_minor": 5
}
