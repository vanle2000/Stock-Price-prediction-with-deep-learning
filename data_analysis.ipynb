import numpy as np
import pandas as pd
import matplotlib.pyplot as plt
import seaborn as sns

# Loading data
AAPL = pd.read_csv("/content/drive/MyDrive/Database/AAPL.csv")
AI = pd.read_csv("/content/drive/MyDrive/Database/AI.csv")
AMZN = pd.read_csv("/content/drive/MyDrive/Database/AMZN.csv")
META = pd.read_csv("/content/drive/MyDrive/Database/META.csv")
GOOG = pd.read_csv("/content/drive/MyDrive/Database/GOOG.csv")
MSFT = pd.read_csv("/content/drive/MyDrive/Database/MSFT.csv")

# APPLE 
APPL.info()
APPL.isnull()

# AI
AI.info()
AI.isnull()
